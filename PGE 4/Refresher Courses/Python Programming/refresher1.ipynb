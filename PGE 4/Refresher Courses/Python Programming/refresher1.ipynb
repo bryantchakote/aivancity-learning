{
 "cells": [
  {
   "cell_type": "code",
   "execution_count": 1,
   "metadata": {},
   "outputs": [],
   "source": [
    "NAME = \"Bryan Tchakote\""
   ]
  },
  {
   "cell_type": "markdown",
   "metadata": {},
   "source": [
    "---"
   ]
  },
  {
   "cell_type": "code",
   "execution_count": 2,
   "metadata": {
    "deletable": false,
    "editable": false,
    "nbgrader": {
     "cell_type": "code",
     "checksum": "78060d8fc2edffafeb7f4c4846758208",
     "grade": false,
     "grade_id": "cell-303c0ae5b1a01848",
     "locked": true,
     "schema_version": 3,
     "solution": false
    }
   },
   "outputs": [
    {
     "ename": "SyntaxError",
     "evalue": "invalid syntax (1398651531.py, line 3)",
     "output_type": "error",
     "traceback": [
      "\u001b[1;36m  File \u001b[1;32m\"C:\\Users\\tchak\\AppData\\Local\\Temp\\ipykernel_132716\\1398651531.py\"\u001b[1;36m, line \u001b[1;32m3\u001b[0m\n\u001b[1;33m    >>> print(\"test\")\u001b[0m\n\u001b[1;37m    ^\u001b[0m\n\u001b[1;31mSyntaxError\u001b[0m\u001b[1;31m:\u001b[0m invalid syntax\n"
     ]
    }
   ],
   "source": [
    "# Lines that start with # are comments.  They won't \"run\" as code.  We can use them to explain things.\n",
    "# This cell will produce an error because of the >>> in front of the code! Try and see when you run the cell.\n",
    ">>> print(\"test\")"
   ]
  },
  {
   "cell_type": "markdown",
   "metadata": {
    "deletable": false,
    "editable": false,
    "nbgrader": {
     "cell_type": "markdown",
     "checksum": "aaa6c527d7cdcf90bcab6a74d95562fb",
     "grade": false,
     "grade_id": "cell-332924a4fd8cba73",
     "locked": true,
     "schema_version": 3,
     "solution": false
    }
   },
   "source": [
    "This is correct:"
   ]
  },
  {
   "cell_type": "code",
   "execution_count": 3,
   "metadata": {
    "deletable": false,
    "editable": false,
    "nbgrader": {
     "cell_type": "code",
     "checksum": "6eb2f26e930f191cbc5b2988548d42b7",
     "grade": false,
     "grade_id": "cell-afa4a485444fb269",
     "locked": true,
     "schema_version": 3,
     "solution": false
    }
   },
   "outputs": [
    {
     "name": "stdout",
     "output_type": "stream",
     "text": [
      "test\n"
     ]
    }
   ],
   "source": [
    "print(\"test\")"
   ]
  },
  {
   "cell_type": "markdown",
   "metadata": {
    "deletable": false,
    "editable": false,
    "nbgrader": {
     "cell_type": "markdown",
     "checksum": "73ea0ff3e747c021d658e3202e1d13b2",
     "grade": false,
     "grade_id": "cell-1a44f5041122dbc2",
     "locked": true,
     "schema_version": 3,
     "solution": false
    }
   },
   "source": [
    "An example of creating and using a function in the notebook, as you will do for the homework, is here:"
   ]
  },
  {
   "cell_type": "code",
   "execution_count": 4,
   "metadata": {
    "deletable": false,
    "editable": false,
    "nbgrader": {
     "cell_type": "code",
     "checksum": "aba3157e6324c059335b9dff573c766d",
     "grade": false,
     "grade_id": "cell-b3cfa79050641525",
     "locked": true,
     "schema_version": 3,
     "solution": false
    }
   },
   "outputs": [],
   "source": [
    "# Here I'm defining a function that takes and argument and prints hello. \n",
    "# When I run this cell, nothing visible happens, but the function is stored in memory so it will run when I call it.\n",
    "# If you don't run this cell, you will get an error on the next cell because it was not defined!\n",
    "def print_hi(name):\n",
    "    print(\"Hi,\", name)"
   ]
  },
  {
   "cell_type": "code",
   "execution_count": 5,
   "metadata": {
    "deletable": false,
    "editable": false,
    "nbgrader": {
     "cell_type": "code",
     "checksum": "4ff64532d565aacec9d8eaefcf3826a1",
     "grade": false,
     "grade_id": "cell-885be74b3b05ddb4",
     "locked": true,
     "schema_version": 3,
     "solution": false
    }
   },
   "outputs": [
    {
     "name": "stdout",
     "output_type": "stream",
     "text": [
      "Hi, Alice\n"
     ]
    }
   ],
   "source": [
    "# Now I am calling it with my name as the \"name\" argument.  It should print the greeting when you run this cell!\n",
    "print_hi(\"Alice\")"
   ]
  },
  {
   "cell_type": "markdown",
   "metadata": {
    "deletable": false,
    "editable": false,
    "nbgrader": {
     "cell_type": "markdown",
     "checksum": "b156f7306c52c1362f3e286cdf8d2efd",
     "grade": false,
     "grade_id": "cell-dc17ed76b975b6af",
     "locked": true,
     "schema_version": 3,
     "solution": false
    }
   },
   "source": [
    "**Here are some key points on how to use the notebook and submit your work.**\n",
    "We will grade based on assuming you have read and understood them.\n",
    "    \n",
    "1. **Using the Notebook to Show Your Work**: You must learn to write code in the notebook... It is a core tool for data science and will make it easier to develop and document your work if you become good at using it. Writing your code in another tool and pasting it into the notebook will probably not work well (forgetting to include code elsewhere, messing up the spacing, or code that don't run as copied). You must be sure your code cells execute because we will test them.  So learn how to run code in the notebook cells to double check your work.\n",
    "2. **Read Directions Carefully**:  The instructions for your code are very important. If you don't follow the requirements, your application won't do as requested. Making it work correctly is part of learning to program.  If we worded something unclearly, ask the teacher.\n",
    "\n",
    "The second set of issues are coding style:\n",
    "\n",
    "1. **Indentation**: In Python, indentation matters and must be consistent. If you write your code in the Notebook, the **tab** key will indent properly.  If you use another editor and paste into the notebook, it might not be correctly indented (when you do write code in another editor, make sure you set your tabs to indent as 4 spaces, not as a tab character.)  You must make sure that your pasted code runs in the notebook or it will not get a good grade. Anyway, we recommend beginners to work in a Jupyter notebook for this course, whether it's this one or a draft file.\n",
    "2. **Spacing**: Follow closely the spacing shown in the lessons. There should not be a space  between a function name and the parentheses with the arguments. As a programmer, style is very important. If you work with programmers in the future, they sometimes have \"lint\" checkers to test your code for style and reject if it doesn't follow the approprate spacing and blank-line-rules. Think of it as a matter of politness for other people reading your code \\ (•◡•) /\n",
    "3. **Names of Variables**: In Python, there's a culture of making everything readable. Don't use ``x`` and ``y`` as your variable names... use words like ``pounds`` and ``kilograms``. It will be easier for colleagues (and yourself) to understand the code later.\n",
    "4. **Error Messages**: Please use informative error messages that tell the user what they did wrong and what kind of input you expect. Imagine you are designing the user experience! Think about how to help your user. And remember **you** are the user when you debug!\n",
    "\n",
    "We will take points off for issues of non-standard spacing, indentation, bad error messages, and bad variable names in the future.  This will continue for the entire course.\n",
    "\n",
    "There are multiple ways to code all the answers.  Here are a few more code style tips:\n",
    "\n",
    "1. If you do a calculation or a transformation, like ``float(pounds)`` -- do it once and save it as a variable, don't do it multiple times.  You should try not to have code that repeats itself too much.  If you repeat things, you can make mistakes like typos and it will be harder to find them. Also, it's wasting computer power.\n",
    "2. Tests like \"4 < test < 40\" need to be saved in a variable or used in a ``if`` statement.  It won't do anything relevant otherwise.\n",
    "3. ``try``/``except`` should be used to catch errors. (In fancier, more formal Python, there is more careful error catching where the type of error is detected and handled. We're just doing the basic try/except right now.) Anytime you have a conversion or something that could result in an error, you should wrap it in try/except. Do not allow a user to run code that results in an un-handled error."
   ]
  },
  {
   "cell_type": "markdown",
   "metadata": {
    "deletable": false,
    "editable": false,
    "nbgrader": {
     "cell_type": "markdown",
     "checksum": "ef1fd86fc857d226f7fef2436495f5a1",
     "grade": false,
     "grade_id": "cell-b3ad81db5f87d07b",
     "locked": true,
     "schema_version": 3,
     "solution": false
    }
   },
   "source": [
    "### Question 0 ###\n",
    "\n",
    "Follow the directions in each cell's comment for what to do here."
   ]
  },
  {
   "cell_type": "code",
   "execution_count": 6,
   "metadata": {
    "deletable": false,
    "nbgrader": {
     "cell_type": "code",
     "checksum": "c247c4ee75d039231b277adc521ebadb",
     "grade": false,
     "grade_id": "var_float",
     "locked": false,
     "schema_version": 3,
     "solution": true
    }
   },
   "outputs": [],
   "source": [
    "# Create a variable named \"myvar\" and assign it the value of the float version of 6 (hint, decimals):\n",
    "\n",
    "myvar = 6."
   ]
  },
  {
   "cell_type": "code",
   "execution_count": 7,
   "metadata": {
    "deletable": false,
    "editable": false,
    "nbgrader": {
     "cell_type": "code",
     "checksum": "5b9e9e6bb1a33a65eb804170138efae9",
     "grade": true,
     "grade_id": "test_var_float",
     "locked": true,
     "points": 1,
     "schema_version": 3,
     "solution": false
    }
   },
   "outputs": [],
   "source": [
    "# Don't change or try to delete this cell, it's a hidden test for your code.\n"
   ]
  },
  {
   "cell_type": "code",
   "execution_count": 8,
   "metadata": {
    "deletable": false,
    "nbgrader": {
     "cell_type": "code",
     "checksum": "8e61ce1945fb3dd3fda5526990ba23a9",
     "grade": false,
     "grade_id": "var_string",
     "locked": false,
     "schema_version": 3,
     "solution": true
    }
   },
   "outputs": [],
   "source": [
    "# Now create a variable named \"my_greeting\" and assign it a string value for Bonjour (hint: how do you \n",
    "# assign a string to a variable?):\n",
    "\n",
    "my_greeting = \"Bonjour\""
   ]
  },
  {
   "cell_type": "code",
   "execution_count": 9,
   "metadata": {
    "deletable": false,
    "editable": false,
    "nbgrader": {
     "cell_type": "code",
     "checksum": "cf70829062ba49790e2a7641275874d8",
     "grade": true,
     "grade_id": "test_var_string",
     "locked": true,
     "points": 1,
     "schema_version": 3,
     "solution": false
    }
   },
   "outputs": [],
   "source": [
    "# Don't change this cell. It's a hidden test for your answer.\n"
   ]
  },
  {
   "cell_type": "markdown",
   "metadata": {
    "deletable": false,
    "editable": false,
    "nbgrader": {
     "cell_type": "markdown",
     "checksum": "51280becc82383e2fb0603b537fb637b",
     "grade": false,
     "grade_id": "cell-e04690d155c60cfb",
     "locked": true,
     "schema_version": 3,
     "solution": false
    }
   },
   "source": [
    "### Question 1:"
   ]
  },
  {
   "cell_type": "markdown",
   "metadata": {
    "deletable": false,
    "editable": false,
    "nbgrader": {
     "cell_type": "markdown",
     "checksum": "0502a9b28746042c67f2ff92c9c30572",
     "grade": false,
     "grade_id": "cell-aa2eca1b1a90fc89",
     "locked": true,
     "schema_version": 3,
     "solution": false
    }
   },
   "source": [
    "Complete the short function below which should prompt the user for a weight in kilograms (using the ``input`` function) and convert it to a weight in UK stones. (You will have to Google for the conversion formula.)  It should print out the weight in UK stones in a nice message. It should also return the value after printing. Don't round (or truncate) the result, or our tests won't pass and you might not get credit.\n",
    "\n",
    "Show it working with your input. Create a new cell or cells using the + symbol in the notebook to show it working.  Show it taking your input and returning the answer.  There are some test cases here for your code using \"assert\" that must work properly."
   ]
  },
  {
   "cell_type": "code",
   "execution_count": 10,
   "metadata": {
    "deletable": false,
    "nbgrader": {
     "cell_type": "code",
     "checksum": "e1ec7a84fad534c09bb98d5f1827236b",
     "grade": false,
     "grade_id": "convert_simple",
     "locked": false,
     "schema_version": 3,
     "solution": true
    }
   },
   "outputs": [],
   "source": [
    "def convert():\n",
    "    ''' Ask for the user input with a prompt and compute the weight in kilograms. Print the value\n",
    "    and return it from the function as well.'''\n",
    "    \n",
    "    prompt = \"Enter a weight in kilograms: \"\n",
    "    stones = float(input(prompt)) * .157473\n",
    "    print(f\"Your input is equal to {stones} stones\")\n",
    "    return stones"
   ]
  },
  {
   "cell_type": "markdown",
   "metadata": {
    "deletable": false,
    "editable": false,
    "nbgrader": {
     "cell_type": "markdown",
     "checksum": "fd4f5966ef936eb244828be4f11dcde8",
     "grade": false,
     "grade_id": "cell-e30f7758aed65f31",
     "locked": true,
     "schema_version": 3,
     "solution": false
    }
   },
   "source": [
    "To run your code in a cell, you should add a new cell and type:\n",
    "\n",
    "```convert()```\n",
    "\n",
    "and execute that cell.  Provide the input and show it working below:"
   ]
  },
  {
   "cell_type": "code",
   "execution_count": 11,
   "metadata": {},
   "outputs": [
    {
     "name": "stdout",
     "output_type": "stream",
     "text": [
      "Enter a weight in kilograms: 34\n",
      "Your input is equal to 5.354082 stones\n"
     ]
    },
    {
     "data": {
      "text/plain": [
       "5.354082"
      ]
     },
     "execution_count": 11,
     "metadata": {},
     "output_type": "execute_result"
    }
   ],
   "source": [
    "# run this to show it working!\n",
    "convert()"
   ]
  },
  {
   "cell_type": "markdown",
   "metadata": {},
   "source": [
    "The following code checks that your function performs correctly.  It is only verifying the return value is the correct number.  Testing functions for their return values is a standard practice in *Test-Driven Development*.  Test cases help you figure out where your code has errors, if you have lots of functions calling each other."
   ]
  },
  {
   "cell_type": "code",
   "execution_count": 12,
   "metadata": {
    "deletable": false,
    "editable": false,
    "nbgrader": {
     "cell_type": "code",
     "checksum": "3d696d7b4a8870acad8e81edc83c7fe8",
     "grade": true,
     "grade_id": "test_convert_simple",
     "locked": true,
     "points": 2,
     "schema_version": 3,
     "solution": false
    }
   },
   "outputs": [
    {
     "name": "stdout",
     "output_type": "stream",
     "text": [
      "Your input is equal to 5.354082 stones\n",
      "Your input is equal to 8.503542 stones\n"
     ]
    }
   ],
   "source": [
    "# This is a test of your code. Don't change this.\n",
    "\n",
    "import mock\n",
    "from io import StringIO\n",
    "import sys\n",
    "\n",
    "def test_convert():\n",
    "    with mock.patch('builtins.input', return_value='34'):\n",
    "        assert convert() == 5.354082\n",
    "    with mock.patch('builtins.input', return_value='54'):\n",
    "        assert convert() == 8.503542\n",
    "            \n",
    "test_convert()"
   ]
  },
  {
   "cell_type": "markdown",
   "metadata": {},
   "source": [
    "### Question 2: ###"
   ]
  },
  {
   "cell_type": "markdown",
   "metadata": {
    "deletable": false,
    "editable": false,
    "nbgrader": {
     "cell_type": "markdown",
     "checksum": "72dcd4666e2c994984c187818b63adb4",
     "grade": false,
     "grade_id": "cell-f360ac4ebe38e12b",
     "locked": true,
     "schema_version": 3,
     "solution": false
    }
   },
   "source": [
    "Update the code from question 1 to handle errors in input. Copy the code and modify it in the new function below.\n",
    "\n",
    "* to include try / except to handle non-numeric input. If the user inputs non-numeric input (for instance, a string) or negative value or a 0, print an error message that says exactly: ``\"Error: You must enter a positive number!\"`` and don't return anything.\n",
    "* return the resulting number of stones from the function, if it does not produce an error. If you want to round the output to 2 decimal places, that would be extra.\n",
    "\n",
    "Hints: You can put multiple statements after your ``try:`` part, before the ``except:``.  "
   ]
  },
  {
   "cell_type": "code",
   "execution_count": 13,
   "metadata": {
    "deletable": false,
    "nbgrader": {
     "cell_type": "code",
     "checksum": "9288524c09aa18bbc5776cfda4eed4c7",
     "grade": false,
     "grade_id": "better_convert",
     "locked": false,
     "schema_version": 3,
     "solution": true
    }
   },
   "outputs": [],
   "source": [
    "def better_convert():\n",
    "    \"\"\" Your function should prompt for the input. Also check for\n",
    "    valid numeric positive input (not a string and not 0) and give error feedback if it's not \n",
    "    valid. If it's not valid, return without printing the answer and don't return an answer.\n",
    "    Print the value in stones if the input was a valid number and return the result.\n",
    "    \"\"\"\n",
    "    \n",
    "    err_msg = \"Error: You must enter a positive number!\"\n",
    "    \n",
    "    prompt = \"Enter a weight in kilograms: \"\n",
    "    try:\n",
    "        stones = float(input(prompt)) * 0.157473\n",
    "        assert stones > 0\n",
    "    except (ValueError, AssertionError):\n",
    "        print(err_msg)\n",
    "        return\n",
    "    \n",
    "    print(f\"Your input is equal to {round(stones, 2)} stones\")\n",
    "    return stones"
   ]
  },
  {
   "cell_type": "code",
   "execution_count": 14,
   "metadata": {},
   "outputs": [
    {
     "name": "stdout",
     "output_type": "stream",
     "text": [
      "Enter a weight in kilograms: 34\n",
      "Your input is equal to 5.35 stones\n"
     ]
    },
    {
     "data": {
      "text/plain": [
       "5.354082"
      ]
     },
     "execution_count": 14,
     "metadata": {},
     "output_type": "execute_result"
    }
   ],
   "source": [
    "# run this to show it is working!\n",
    "better_convert()"
   ]
  },
  {
   "cell_type": "code",
   "execution_count": 15,
   "metadata": {
    "deletable": false,
    "editable": false,
    "nbgrader": {
     "cell_type": "code",
     "checksum": "146155a4b6ea18d98b3664a8859497ce",
     "grade": true,
     "grade_id": "test_better_convert1",
     "locked": true,
     "points": 1,
     "schema_version": 3,
     "solution": false
    }
   },
   "outputs": [],
   "source": [
    "# testing input...\n",
    "\n",
    "with mock.patch('builtins.input', return_value='34'):\n",
    "    with mock.patch('sys.stdout', new_callable=StringIO):\n",
    "        assert better_convert() == 5.354082\n",
    "        assert '5.35' in sys.stdout.getvalue()"
   ]
  },
  {
   "cell_type": "code",
   "execution_count": 16,
   "metadata": {
    "deletable": false,
    "editable": false,
    "nbgrader": {
     "cell_type": "code",
     "checksum": "14c2a90e74f8b7cf84283b4402a02a1e",
     "grade": true,
     "grade_id": "test_better_convert2",
     "locked": true,
     "points": 1,
     "schema_version": 3,
     "solution": false
    }
   },
   "outputs": [],
   "source": [
    "# testing more....\n",
    "\n",
    "with mock.patch('builtins.input', return_value='cat'):\n",
    "    with mock.patch('sys.stdout', new_callable=StringIO):\n",
    "        assert better_convert() is None\n",
    "        assert sys.stdout.getvalue() == \"Error: You must enter a positive number!\\n\""
   ]
  },
  {
   "cell_type": "code",
   "execution_count": 17,
   "metadata": {
    "deletable": false,
    "editable": false,
    "nbgrader": {
     "cell_type": "code",
     "checksum": "a1d22cdd5001f2a790151e952c5f3174",
     "grade": true,
     "grade_id": "test_better_convert3",
     "locked": true,
     "points": 1,
     "schema_version": 3,
     "solution": false
    }
   },
   "outputs": [],
   "source": [
    "# testing even more....\n",
    "\n",
    "with mock.patch('builtins.input', return_value='-3'):\n",
    "    with mock.patch('sys.stdout', new_callable=StringIO):\n",
    "        assert better_convert() is None\n",
    "        assert sys.stdout.getvalue() == \"Error: You must enter a positive number!\\n\""
   ]
  },
  {
   "cell_type": "code",
   "execution_count": 18,
   "metadata": {
    "deletable": false,
    "editable": false,
    "nbgrader": {
     "cell_type": "code",
     "checksum": "d24d5b7639a94f8e2173b1402dba62fc",
     "grade": true,
     "grade_id": "test_better_convert4",
     "locked": true,
     "points": 1,
     "schema_version": 3,
     "solution": false
    }
   },
   "outputs": [],
   "source": [
    "# testing even more....\n",
    "\n",
    "with mock.patch('builtins.input', return_value='0'):\n",
    "    with mock.patch('sys.stdout', new_callable=StringIO):\n",
    "        assert better_convert() is None\n",
    "        assert sys.stdout.getvalue() == \"Error: You must enter a positive number!\\n\""
   ]
  },
  {
   "cell_type": "markdown",
   "metadata": {},
   "source": [
    "### Question 3: ###"
   ]
  },
  {
   "cell_type": "markdown",
   "metadata": {
    "deletable": false,
    "editable": false,
    "nbgrader": {
     "cell_type": "markdown",
     "checksum": "4f829bc2b0887f24d24222932c139d1a",
     "grade": false,
     "grade_id": "cell-0ed70dacb40e323d",
     "locked": true,
     "schema_version": 3,
     "solution": false
    }
   },
   "source": [
    "Write 2 functions.  The second function will use the output from the first function.\n",
    "\n",
    "The first function take as arguments 2 integers, and returns a random number between those integers. We will call this function ``get_rand_int``. If the two integers are equals, this is an error and we will return None (hint: just put ```return None``` as your line for these cases). We can test for the result of None in the second function and report that it was an error there.\n",
    "\n",
    "The second function, called ``print_random``, asks for user input for one integer greater than 0, and if it receives good input, calls the first function.  It converts the user input to an integer and calls the first function with 0 as the first argument and the user input as the second argument.  We capture the output from the first function in a variable (e.g., ``rand = get_rand_int(0, input))``.  Our second function then prints out the number returned by the first function in a sentence: \"Your random number is \" and then the number.\n",
    "\n",
    "It should do error checking and print:\n",
    "\"Invalid input: You must input an integer greater than 0 for your input.\" if the user input is not convertable to a valid integer greater than 0.  You should also check if the result from the ``get_rand_int`` function is ``None`` or not.\n",
    "\n",
    "Finally, return the value of the random number as the value of the second function.\n",
    "\n",
    "**Note**\n",
    "\n",
    "The function ``randint`` from the ``random`` module may be useful here. It was introduced in the book!\n"
   ]
  },
  {
   "cell_type": "code",
   "execution_count": 19,
   "metadata": {
    "deletable": false,
    "editable": false,
    "nbgrader": {
     "cell_type": "code",
     "checksum": "13248931414888b55cede046773af0c5",
     "grade": false,
     "grade_id": "cell-e25b503015ad6b6b",
     "locked": true,
     "schema_version": 3,
     "solution": false
    }
   },
   "outputs": [
    {
     "name": "stdout",
     "output_type": "stream",
     "text": [
      "Help on method randint in module random:\n",
      "\n",
      "randint(a, b) method of random.Random instance\n",
      "    Return random integer in range [a, b], including both end points.\n",
      "\n"
     ]
    }
   ],
   "source": [
    "\n",
    "import random\n",
    "\n",
    "help(random.randint)"
   ]
  },
  {
   "cell_type": "code",
   "execution_count": 20,
   "metadata": {
    "deletable": false,
    "nbgrader": {
     "cell_type": "code",
     "checksum": "9980911d013d2770b9eb12d6ef1b215c",
     "grade": false,
     "grade_id": "two_functions",
     "locked": false,
     "schema_version": 3,
     "solution": true
    }
   },
   "outputs": [],
   "source": [
    "def get_rand_int(arg1, arg2):\n",
    "    \"\"\" Takes 2 integer arguments, and returns a random integer between them.\n",
    "    Return None if the arguments aren't 2 different integers.\n",
    "    \"\"\"\n",
    "    \n",
    "    if isinstance(arg1, int) and type(arg2) == int and arg1 != arg2:\n",
    "        return random.randint(arg1, arg2)\n",
    "    \n",
    "def print_random():\n",
    "    \"\"\" Prompt the user to input an integer > 0, and return a random integer between 0 and\n",
    "    their input value.  Print the required error if their input is not appropriate.\n",
    "    \"\"\"\n",
    "    \n",
    "    prompt = \"Please enter an integer greater than 0: \"\n",
    "    err_msg = \"Invalid input: You must input an integer greater than 0 for your input.\"\n",
    "    \n",
    "    try:\n",
    "        number = int(input((prompt)))\n",
    "        assert number > 0\n",
    "    except (ValueError, AssertionError):\n",
    "        print(err_msg)\n",
    "        return\n",
    "    \n",
    "    rand_num = get_rand_int(0, number)\n",
    "    print(f\"Your random number is {rand_num}\")\n",
    "    return rand_num"
   ]
  },
  {
   "cell_type": "code",
   "execution_count": 21,
   "metadata": {},
   "outputs": [
    {
     "name": "stdout",
     "output_type": "stream",
     "text": [
      "Please enter an integer greater than 0: 5\n",
      "Your random number is 3\n"
     ]
    },
    {
     "data": {
      "text/plain": [
       "3"
      ]
     },
     "execution_count": 21,
     "metadata": {},
     "output_type": "execute_result"
    }
   ],
   "source": [
    "# show this running... \n",
    "print_random()"
   ]
  },
  {
   "cell_type": "code",
   "execution_count": 22,
   "metadata": {
    "deletable": false,
    "editable": false,
    "nbgrader": {
     "cell_type": "code",
     "checksum": "258c4c34b8591ce99dbd8fd6768295d6",
     "grade": true,
     "grade_id": "test_get_rand_int1",
     "locked": true,
     "points": 4,
     "schema_version": 3,
     "solution": false
    }
   },
   "outputs": [
    {
     "name": "stdout",
     "output_type": "stream",
     "text": [
      "5\n"
     ]
    }
   ],
   "source": [
    "# This is a test of your code. First we test the get_rand_int function.\n",
    "\n",
    "def test_get_rand_int():\n",
    "    fail_count = 0\n",
    "    if get_rand_int(0, 0) is None:\n",
    "        fail_count += 1\n",
    "    if get_rand_int('car', 0) is None:\n",
    "        fail_count += 1\n",
    "    if get_rand_int(1.5, 5) is None:\n",
    "        fail_count += 1\n",
    "    if get_rand_int(0, 1.5) is None:\n",
    "        fail_count += 1\n",
    "    if get_rand_int(5, 5) is None:\n",
    "        fail_count += 1\n",
    "    print(fail_count)  # possible partial points?\n",
    "    return fail_count\n",
    "\n",
    "assert test_get_rand_int() == 5"
   ]
  },
  {
   "cell_type": "code",
   "execution_count": 23,
   "metadata": {
    "deletable": false,
    "editable": false,
    "nbgrader": {
     "cell_type": "code",
     "checksum": "8163bb401d7de6183d53e4d14c9780b8",
     "grade": true,
     "grade_id": "test_print_rand1",
     "locked": true,
     "points": 1,
     "schema_version": 3,
     "solution": false
    }
   },
   "outputs": [],
   "source": [
    "# This is a test of your second function.\n",
    "\n",
    "with mock.patch('builtins.input', return_value='-1'):\n",
    "    with mock.patch('sys.stdout', new_callable=StringIO):\n",
    "        result = print_random()\n",
    "        assert not result\n",
    "        assert sys.stdout.getvalue() == \"Invalid input: You must input an integer greater than 0 for your input.\\n\""
   ]
  },
  {
   "cell_type": "code",
   "execution_count": 24,
   "metadata": {
    "deletable": false,
    "editable": false,
    "nbgrader": {
     "cell_type": "code",
     "checksum": "25a27ddc814ad63d9a3581b586d88756",
     "grade": true,
     "grade_id": "test_print_rand2",
     "locked": true,
     "points": 1,
     "schema_version": 3,
     "solution": false
    }
   },
   "outputs": [],
   "source": [
    "# This is a test of your second function.\n",
    "\n",
    "with mock.patch('builtins.input', return_value='0'):\n",
    "    with mock.patch('sys.stdout', new_callable=StringIO):\n",
    "        result = print_random()\n",
    "        assert not result\n",
    "        assert sys.stdout.getvalue() == \"Invalid input: You must input an integer greater than 0 for your input.\\n\""
   ]
  },
  {
   "cell_type": "code",
   "execution_count": 25,
   "metadata": {
    "deletable": false,
    "editable": false,
    "nbgrader": {
     "cell_type": "code",
     "checksum": "d37c2bfab05c115d545e75309a2fe6e1",
     "grade": true,
     "grade_id": "test_print_rand3",
     "locked": true,
     "points": 1,
     "schema_version": 3,
     "solution": false
    }
   },
   "outputs": [],
   "source": [
    "# This is a test of your second function.\n",
    "\n",
    "with mock.patch('builtins.input', return_value='5'):\n",
    "    with mock.patch('sys.stdout', new_callable=StringIO):\n",
    "        result = print_random()\n",
    "        assert sys.stdout.getvalue() != \"Invalid input: You must input an integer greater than 0 for your input.\\n\"\n",
    "        assert result <= 5 and result >= 0"
   ]
  },
  {
   "cell_type": "code",
   "execution_count": 26,
   "metadata": {
    "deletable": false,
    "editable": false,
    "nbgrader": {
     "cell_type": "code",
     "checksum": "2ae6530bc2336bc92b2bb3bd00d2ead0",
     "grade": true,
     "grade_id": "test_print_rand4",
     "locked": true,
     "points": 1,
     "schema_version": 3,
     "solution": false
    }
   },
   "outputs": [],
   "source": [
    "# This is a test of your second function.\n",
    "\n",
    "with mock.patch('builtins.input', return_value='cat'):\n",
    "    with mock.patch('sys.stdout', new_callable=StringIO):\n",
    "        result = print_random()\n",
    "        assert sys.stdout.getvalue() == \"Invalid input: You must input an integer greater than 0 for your input.\\n\""
   ]
  },
  {
   "cell_type": "markdown",
   "metadata": {},
   "source": [
    "### Question 4: ###\n",
    "\n",
    "If I have an original placement $P$ in an account with a nominal annual interest rate $r$, after $n$ years, the total amount of **extra money** I get (the compound interest) is given by:\n",
    "\n",
    "$$I = P \\times ((1 + r) ^ n - 1)$$\n",
    "\n",
    "Write a function ``compound_interest`` that takes the original placement, the nominal annual interest rate and a number of years as parameters and *returns* (not print) the compound interest after these number of years.\n",
    "\n",
    "Use the ``assert`` statement and the ``isinstance`` function to check that $n$ is a strictly positive integer, $P$ is positive and $r$ is positive.\n",
    "\n",
    "Make sure there's a docstring attached to the function that specifies that\n",
    "\n",
    "- $P$ is the original placement\n",
    "- $r$ is the nominal interest rate\n",
    "- $n$ is the number of years the compound interest is computed on\n",
    "\n",
    "A docstring is a simply a string right after the function definition that documents the function. It's displayed by the ``help()`` builtin:"
   ]
  },
  {
   "cell_type": "code",
   "execution_count": 27,
   "metadata": {
    "deletable": false,
    "editable": false,
    "nbgrader": {
     "cell_type": "code",
     "checksum": "a1251630ce0f99cdb4c03d3b7c04a585",
     "grade": false,
     "grade_id": "cell-77ad93add4783a9c",
     "locked": true,
     "schema_version": 3,
     "solution": false
    }
   },
   "outputs": [
    {
     "name": "stdout",
     "output_type": "stream",
     "text": [
      "Help on function smile in module __main__:\n",
      "\n",
      "smile()\n",
      "    prints a large smiley on screen\n",
      "\n"
     ]
    }
   ],
   "source": [
    "# Example showing a docstring -- the help you create for a function.\n",
    "\n",
    "def smile():\n",
    "    'prints a large smiley on screen'  # <- this is a docstring explaining what the function does.\n",
    "    print('^___________^')\n",
    "    \n",
    "help(smile)  # <- this displays the help associated to the smile function"
   ]
  },
  {
   "cell_type": "code",
   "execution_count": 28,
   "metadata": {},
   "outputs": [
    {
     "name": "stdout",
     "output_type": "stream",
     "text": [
      "Help on function smile2 in module __main__:\n",
      "\n",
      "smile2()\n",
      "    This is a really long docstring, that takes multiple rows.\n",
      "    This one prints out a smaller ascii smiley.\n",
      "\n"
     ]
    }
   ],
   "source": [
    "# Example of a longer doc string. The convention is 3 quote marks.\n",
    "def smile2():\n",
    "    ''' This is a really long docstring, that takes multiple rows.\n",
    "    This one prints out a smaller ascii smiley.\n",
    "    '''\n",
    "    print(\":)\")\n",
    "    \n",
    "help(smile2)"
   ]
  },
  {
   "cell_type": "code",
   "execution_count": 29,
   "metadata": {
    "deletable": false,
    "nbgrader": {
     "cell_type": "code",
     "checksum": "59188fc1f9003ad3c68c7a8cbb98ae69",
     "grade": false,
     "grade_id": "cell-b1c40b1491cb0e1e",
     "locked": false,
     "schema_version": 3,
     "solution": true
    }
   },
   "outputs": [],
   "source": [
    "def compound_interest(placement, rate, years):\n",
    "    \"\"\"\n",
    "    Returns the compound interest of an original placement given the annual interest rate and the number of years\n",
    "    \n",
    "    Args:\n",
    "        placement (float): The original placement.\n",
    "        rate (float): The nominal interest rate.\n",
    "        years (int): The number of years the compound interest is computed on.\n",
    "        \n",
    "    Returns:\n",
    "        float: The compound interest produced by the placement.\n",
    "    \"\"\"\n",
    "\n",
    "    assert placement >= 0 and rate >= 0 and isinstance(years, int) and years > 0    \n",
    "    return placement * ((1 + rate)**years - 1)"
   ]
  },
  {
   "cell_type": "code",
   "execution_count": 30,
   "metadata": {
    "deletable": false,
    "editable": false,
    "nbgrader": {
     "cell_type": "code",
     "checksum": "c5c371284b91594f9b80d0df444d342f",
     "grade": true,
     "grade_id": "test_comp_inputs",
     "locked": true,
     "points": 2,
     "schema_version": 3,
     "solution": false
    }
   },
   "outputs": [],
   "source": [
    "# testing input and return value.\n",
    "# The first test makes looks strange to you, we can talk about accuracy issues during\n",
    "# the face-to-face session if you're brave.  This is a hard thing to write a good test for.\n",
    "\n",
    "assert abs(compound_interest(100, .01, 1) -1) < 10e-5\n"
   ]
  },
  {
   "cell_type": "code",
   "execution_count": 31,
   "metadata": {
    "deletable": false,
    "editable": false,
    "nbgrader": {
     "cell_type": "code",
     "checksum": "ef262210524e5e6f019b42b183854356",
     "grade": true,
     "grade_id": "test_comp_res2",
     "locked": true,
     "points": 3,
     "schema_version": 3,
     "solution": false
    }
   },
   "outputs": [],
   "source": [
    "# testing assert-based input preconditions\n",
    "\n",
    "# These tests use fancier try/except, which we can discuss in class.\n"
   ]
  },
  {
   "cell_type": "code",
   "execution_count": 32,
   "metadata": {
    "deletable": false,
    "editable": false,
    "nbgrader": {
     "cell_type": "code",
     "checksum": "7449614691cd83ceaca569a6218c3c5e",
     "grade": true,
     "grade_id": "cell-d3c24f97b6e1ed38",
     "locked": true,
     "points": 1,
     "schema_version": 3,
     "solution": false
    }
   },
   "outputs": [
    {
     "name": "stdout",
     "output_type": "stream",
     "text": [
      "Help on function compound_interest in module __main__:\n",
      "\n",
      "compound_interest(placement, rate, years)\n",
      "    Returns the compound interest of an original placement given the annual interest rate and the number of years\n",
      "    \n",
      "    Args:\n",
      "        placement (float): The original placement.\n",
      "        rate (float): The nominal interest rate.\n",
      "        years (int): The number of years the compound interest is computed on.\n",
      "        \n",
      "    Returns:\n",
      "        float: The compound interest produced by the placement.\n",
      "\n"
     ]
    }
   ],
   "source": [
    "# testing presence of a non-empty docstring that contains the words **placement** and **rate**\n",
    "help(compound_interest)\n",
    "\n"
   ]
  }
 ],
 "metadata": {
  "anaconda-cloud": {},
  "kernelspec": {
   "display_name": "Python 3 (ipykernel)",
   "language": "python",
   "name": "python3"
  },
  "language_info": {
   "codemirror_mode": {
    "name": "ipython",
    "version": 3
   },
   "file_extension": ".py",
   "mimetype": "text/x-python",
   "name": "python",
   "nbconvert_exporter": "python",
   "pygments_lexer": "ipython3",
   "version": "3.9.13"
  }
 },
 "nbformat": 4,
 "nbformat_minor": 1
}
