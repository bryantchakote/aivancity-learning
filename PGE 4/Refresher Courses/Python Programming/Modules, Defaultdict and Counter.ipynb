{
 "cells": [
  {
   "cell_type": "markdown",
   "metadata": {},
   "source": [
    "Before you turn this problem in, make sure everything runs as expected. First, **restart the kernel** (in the menubar, select Kernel$\\rightarrow$Restart) and then **run all cells** (in the menubar, select Cell$\\rightarrow$Run All). Check your output to make sure it all looks as you expected.\n",
    "\n",
    "Make sure you fill in any place that says `YOUR CODE HERE` or \"YOUR ANSWER HERE\", as well as your name below:"
   ]
  },
  {
   "cell_type": "code",
   "execution_count": 1,
   "metadata": {},
   "outputs": [],
   "source": [
    "NAME = \"Bryan Tchakote\""
   ]
  },
  {
   "cell_type": "markdown",
   "metadata": {},
   "source": [
    "---"
   ]
  },
  {
   "cell_type": "markdown",
   "metadata": {},
   "source": [
    "**Here are some key points on how to use the notebook and submit your work.**\n",
    "We will grade based on assuming you have read and understood them.\n",
    "    \n",
    "1. **Using the Notebook to Show Your Work**: You must learn to write code in the notebook... It is a core tool for data science and will make it easier to develop and document your work if you become good at using it. Writing your code in another tool and pasting it into the notebook will probably not work well (forgetting to include code elsewhere, messing up the spacing, or code that don't run as copied). You must be sure your code cells execute because we will test them.  So learn how to run code in the notebook cells to double check your work.\n",
    "2. **Read Directions Carefully**:  The instructions for your code are very important. If you don't follow the requirements, your application won't do as requested. Making it work correctly is part of learning to program.  If we worded something unclearly, ask the teacher.\n",
    "\n",
    "The second set of issues are coding style:\n",
    "\n",
    "1. **Indentation**: In Python, indentation matters and must be consistent. If you write your code in the Notebook, the **tab** key will indent properly.  If you use another editor and paste into the notebook, it might not be correctly indented (when you do write code in another editor, make sure you set your tabs to indent as 4 spaces, not as a tab character.)  You must make sure that your pasted code runs in the notebook or it will not get a good grade. Anyway, we recommend beginners to work in a Jupyter notebook for this course, whether it's this one or a draft file.\n",
    "2. **Spacing**: Follow closely the spacing shown in the lessons. There should not be a space  between a function name and the parentheses with the arguments. As a programmer, style is very important. If you work with programmers in the future, they sometimes have \"lint\" checkers to test your code for style and reject if it doesn't follow the approprate spacing and blank-line-rules. Think of it as a matter of politness for other people reading your code \\ (•◡•) /\n",
    "3. **Names of Variables**: In Python, there's a culture of making everything readable. Don't use ``x`` and ``y`` as your variable names... use words like ``pounds`` and ``kilograms``. It will be easier for colleagues (and yourself) to understand the code later.\n",
    "4. **Error Messages**: Please use informative error messages that tell the user what they did wrong and what kind of input you expect. Imagine you are designing the user experience! Think about how to help your user. And remember **you** are the user when you debug!\n",
    "\n",
    "We will take points off for issues of non-standard spacing, indentation, bad error messages, and bad variable names in the future.  This will continue for the entire course.\n",
    "\n",
    "There are multiple ways to code all the answers.  Here are a few more code style tips:\n",
    "\n",
    "1. If you do a calculation or a transformation, like ``float(pounds)`` -- do it once and save it as a variable, don't do it multiple times.  You should try not to have code that repeats itself too much.  If you repeat things, you can make mistakes like typos and it will be harder to find them. Also, it's wasting computer power.\n",
    "2. Tests like \"4 < test < 40\" need to be saved in a variable or used in a ``if`` statement.  It won't do anything relevant otherwise.\n",
    "3. ``try``/``except`` should be used to catch errors. (In fancier, more formal Python, there is more careful error catching where the type of error is detected and handled. We're just doing the basic try/except right now.) Anytime you have a conversion or something that could result in an error, you should wrap it in try/except. Do not allow a user to run code that results in an un-handled error.\n",
    "\n",
    "---"
   ]
  },
  {
   "cell_type": "markdown",
   "metadata": {},
   "source": [
    "# Using Modules in Python"
   ]
  },
  {
   "cell_type": "markdown",
   "metadata": {},
   "source": [
    "So far we have been learning \"built-in\" basic python concepts. \n",
    "\n",
    "Collections of Python code, or indeed any .py file, can be used as modules in your code. Python \"ships\" with a bunch of useful standard modules that allow you to do things with your computer, with data files and formats, with data types, etc.  You can read more about modules and how they are used and written here: https://docs.python.org/3/tutorial/modules.html\n",
    "\n",
    "The way to tell the difference between \"built-in\" functions and standard module functions that Python includes is to look at this page: https://docs.python.org/3/library/index.html  The **Built-in** packages are described until section 6, and the rest are modules with useful tools you probably have to import to use.  We explain how to import them below.\n",
    "\n",
    "Any time we tell you (or a Python author tells you) that you need to \"install\" other Python libraries to use some function, it means you need to install modules that are available online (usually using \"pip install\" or \"conda install\" or by downloading from github).  Some data science modules that are installed with Anaconda are **numpy, scikit-learn, pandas, and nltk**.  To use those, which are not \"standard\", you must import them in your code.  Then you can use their functions."
   ]
  },
  {
   "cell_type": "markdown",
   "metadata": {},
   "source": [
    "## Importing A Module"
   ]
  },
  {
   "cell_type": "markdown",
   "metadata": {},
   "source": [
    "The simplest way to import is to put an \"import\" statement at the top of your code. Usually these imports occur first in your file or notebook.  Then you can use functions on them, if you use the \"dot\" notation method: [module].[function]."
   ]
  },
  {
   "cell_type": "code",
   "execution_count": 2,
   "metadata": {},
   "outputs": [
    {
     "name": "stdout",
     "output_type": "stream",
     "text": [
      "!\"#$%&'()*+,-./:;<=>?@[\\]^_`{|}~\n"
     ]
    }
   ],
   "source": [
    "# this is my import of the string module\n",
    "import string\n",
    "\n",
    "# This is how I can use a function or property defined inside the module.\n",
    "# In this case, it's a list of punctuation characters. I reference the module, string, and \n",
    "# then the thing I am trying to use, the punctuation:\n",
    "print(string.punctuation)"
   ]
  },
  {
   "cell_type": "code",
   "execution_count": 3,
   "metadata": {},
   "outputs": [
    {
     "name": "stdout",
     "output_type": "stream",
     "text": [
      "3.0\n"
     ]
    }
   ],
   "source": [
    "import math\n",
    "\n",
    "# using math to print the square root of 9:\n",
    "print(math.sqrt(9))"
   ]
  },
  {
   "cell_type": "code",
   "execution_count": 4,
   "metadata": {},
   "outputs": [
    {
     "name": "stdout",
     "output_type": "stream",
     "text": [
      "1\n"
     ]
    }
   ],
   "source": [
    "import random\n",
    "\n",
    "# create a random integer between 0 and 10\n",
    "print(random.randint(0, 11))"
   ]
  },
  {
   "cell_type": "markdown",
   "metadata": {},
   "source": [
    "If you want to see what the options on a module are, you can try it in the notebook: type \"random.\" and then the tab key and see what options appear in a little popup menu."
   ]
  },
  {
   "cell_type": "code",
   "execution_count": null,
   "metadata": {},
   "outputs": [],
   "source": [
    "# put your mouse right after the \".\" and press tab - these are all the functions you can call!\n",
    "random."
   ]
  },
  {
   "cell_type": "markdown",
   "metadata": {},
   "source": [
    "If you want to see the documentation for a function, you can try that in the notebook too: type a \"?\" after a function and then execute the cell. A window at the bottom of you browser will tell you about the function.  You can resize it. You can close it by clicking the x in the upper right corner."
   ]
  },
  {
   "cell_type": "code",
   "execution_count": 5,
   "metadata": {},
   "outputs": [],
   "source": [
    "# execute this with shift-enter\n",
    "random.randint?"
   ]
  },
  {
   "cell_type": "markdown",
   "metadata": {},
   "source": [
    "### Import a Module and Give it a Nickname\n",
    "\n",
    "In the data science world, there are conventions for importing modules with certain nicknames.  You will see this code all the time:\n",
    "\n",
    "````\n",
    "import numpy as np\n",
    "import pandas as pd\n",
    "````\n",
    "\n",
    "If you do this nickname method, you can then call functions using the short name instead:\n",
    "`np.mean([43,45,52,40,34])`\n",
    "\n",
    "\n",
    "   \n",
    "    "
   ]
  },
  {
   "cell_type": "markdown",
   "metadata": {},
   "source": [
    "### Importing a single function from a module"
   ]
  },
  {
   "cell_type": "markdown",
   "metadata": {},
   "source": [
    "Sometimes you don't want an entire module, just a single function from it.  You can import it specifically by importing it by name from its module, like defaultdict which lives in the module collections:\n",
    "\n",
    "````\n",
    "from collections import defaultdict\n",
    "````\n",
    "\n",
    "Or \n",
    "````\n",
    "from string import punctuation\n",
    "```` \n",
    "\n",
    "After you do that, you don't need to use the \"dot\" notation to access the value of `punctuation` (or the function `defaultdict` above):"
   ]
  },
  {
   "cell_type": "code",
   "execution_count": 6,
   "metadata": {},
   "outputs": [
    {
     "name": "stdout",
     "output_type": "stream",
     "text": [
      "!\"#$%&'()*+,-./:;<=>?@[\\]^_`{|}~\n"
     ]
    }
   ],
   "source": [
    "from string import punctuation\n",
    "print(punctuation)   # not string.punctuation!"
   ]
  },
  {
   "cell_type": "markdown",
   "metadata": {},
   "source": [
    "## defaultdict  - no key errors!  Default values!"
   ]
  },
  {
   "cell_type": "markdown",
   "metadata": {},
   "source": [
    "You should read about defaultdict now: https://www.accelebrate.com/blog/using-defaultdict-python/"
   ]
  },
  {
   "cell_type": "markdown",
   "metadata": {},
   "source": [
    "Dictionaries are great for keeping track of things, but if a key doesn't exist and you try to save something to it, you get an error of type KeyError, because the key doesn't exist:\n"
   ]
  },
  {
   "cell_type": "code",
   "execution_count": 7,
   "metadata": {},
   "outputs": [
    {
     "ename": "KeyError",
     "evalue": "'mai'",
     "output_type": "error",
     "traceback": [
      "\u001b[1;31m---------------------------------------------------------------------------\u001b[0m",
      "\u001b[1;31mKeyError\u001b[0m                                  Traceback (most recent call last)",
      "\u001b[1;32m~\\AppData\\Local\\Temp\\ipykernel_77748\\2109651582.py\u001b[0m in \u001b[0;36m<module>\u001b[1;34m\u001b[0m\n\u001b[0;32m      1\u001b[0m \u001b[0mmydict\u001b[0m \u001b[1;33m=\u001b[0m \u001b[1;33m{\u001b[0m\u001b[1;34m'jan'\u001b[0m\u001b[1;33m:\u001b[0m \u001b[1;36m31\u001b[0m\u001b[1;33m,\u001b[0m \u001b[1;34m'fev'\u001b[0m\u001b[1;33m:\u001b[0m \u001b[1;36m28\u001b[0m\u001b[1;33m,\u001b[0m \u001b[1;34m'mar'\u001b[0m\u001b[1;33m:\u001b[0m \u001b[1;36m31\u001b[0m\u001b[1;33m,\u001b[0m \u001b[1;34m'avr'\u001b[0m\u001b[1;33m:\u001b[0m \u001b[1;36m30\u001b[0m\u001b[1;33m}\u001b[0m  \u001b[1;31m# notice no mai key:value pair\u001b[0m\u001b[1;33m\u001b[0m\u001b[1;33m\u001b[0m\u001b[0m\n\u001b[1;32m----> 2\u001b[1;33m \u001b[0mprint\u001b[0m\u001b[1;33m(\u001b[0m\u001b[0mmydict\u001b[0m\u001b[1;33m[\u001b[0m\u001b[1;34m'mai'\u001b[0m\u001b[1;33m]\u001b[0m\u001b[1;33m)\u001b[0m\u001b[1;33m\u001b[0m\u001b[1;33m\u001b[0m\u001b[0m\n\u001b[0m",
      "\u001b[1;31mKeyError\u001b[0m: 'mai'"
     ]
    }
   ],
   "source": [
    "mydict = {'jan': 31, 'fev': 28, 'mar': 31, 'avr': 30}  # notice no mai key:value pair\n",
    "print(mydict['mai'])"
   ]
  },
  {
   "cell_type": "markdown",
   "metadata": {},
   "source": [
    "Errors like this should never be seen by a user and should be handled by try/except, maybe something like this:"
   ]
  },
  {
   "cell_type": "code",
   "execution_count": null,
   "metadata": {},
   "outputs": [],
   "source": [
    "try:\n",
    "    print(mydict['mai'])\n",
    "except:\n",
    "    print(\"No entry exists!\")\n",
    "    mydict['mai'] = 31\n",
    "    print(mydict['mai'])"
   ]
  },
  {
   "cell_type": "markdown",
   "metadata": {},
   "source": [
    "Even better code is to actually look for a **specific error** in the try/except, like this:"
   ]
  },
  {
   "cell_type": "code",
   "execution_count": null,
   "metadata": {},
   "outputs": [],
   "source": [
    "mydict = {'jan': 31, 'fev': 28, 'mar': 31, 'avr': 30}  # notice no mai key:value pair\n",
    "try:\n",
    "    print(mydict['mai'])\n",
    "except KeyError:    # <-----   we name it here!  Because we want to handle it specifically.\n",
    "    print(\"No entry exists!\")\n",
    "    mydict['mai'] = 31\n",
    "    print(mydict['mai'])"
   ]
  },
  {
   "cell_type": "markdown",
   "metadata": {},
   "source": [
    "The book recommends using `mydict.get('mai')` instead of requiring a try/except to prevent returning an error - it will instead return `None`, which is much friendlier and easier to test for."
   ]
  },
  {
   "cell_type": "code",
   "execution_count": null,
   "metadata": {},
   "outputs": [],
   "source": [
    "# see, no error!\n",
    "mydict = {'jan': 31, 'fev': 28, 'mar': 31, 'avr': 30}\n",
    "print(mydict.get('mai'))"
   ]
  },
  {
   "cell_type": "code",
   "execution_count": null,
   "metadata": {},
   "outputs": [],
   "source": [
    "# using it in a test:\n",
    "mydict = {'jan': 31, 'fev': 28, 'mar': 31, 'avr': 30}\n",
    "\n",
    "# if None is returned, this test passes (because of the \"not\") and we print the message:\n",
    "if not mydict.get('mai'):\n",
    "    print(\"We are missing this key.\")\n",
    "else:\n",
    "    print(mydict.get('mai'))"
   ]
  },
  {
   "cell_type": "markdown",
   "metadata": {},
   "source": [
    "Another alternative is to use the `defaultdict` inside the module `collections`.  `Defaultdict` sets a default value for any key when you define the dictionary.  (\"Default\" means \"use this if you don't specify another thing\")."
   ]
  },
  {
   "cell_type": "code",
   "execution_count": null,
   "metadata": {},
   "outputs": [],
   "source": [
    "from collections import defaultdict\n",
    "mydict = defaultdict(int)  # this says my values will be ints. The default value of an int is 0.\n",
    "\n",
    "# no error even without any definition -- it defaults to 0.\n",
    "mydict['mai']"
   ]
  },
  {
   "cell_type": "markdown",
   "metadata": {},
   "source": [
    "The equivalent with the \"get\" function, which allows you to set a default value (here \"0\"), is:"
   ]
  },
  {
   "cell_type": "code",
   "execution_count": null,
   "metadata": {},
   "outputs": [],
   "source": [
    "mydict.get('mai', 0)"
   ]
  },
  {
   "cell_type": "markdown",
   "metadata": {},
   "source": [
    "Here is code to use a defaultdict to count words in romeo.txt:\n",
    "    "
   ]
  },
  {
   "cell_type": "code",
   "execution_count": null,
   "metadata": {},
   "outputs": [],
   "source": [
    "filename = \"data_files/romeo.txt\"\n",
    "wordcounter = defaultdict(int)\n",
    "\n",
    "try:\n",
    "    fhand = open(filename)\n",
    "except:\n",
    "    print(\"File wasn't found or the name is wrong. It has to be in this directory with the notebook.\")\n",
    "    \n",
    "for line in fhand:\n",
    "    words = line.split()\n",
    "    for word in words:\n",
    "        wordcounter[word] += 1  # this is the same as wordcounter[word] = wordcounter[word] + 1\n",
    "\n",
    "# let's print it nicely:\n",
    "for key, val in wordcounter.items():   # items returns a pair for each dict element, the key and value.\n",
    "    print(key, val)\n",
    "    \n",
    "fhand.close() # if you open the file without a \"with open(filen) as x:\" line, you need to close it manually."
   ]
  },
  {
   "cell_type": "markdown",
   "metadata": {},
   "source": [
    "## Counter in Collections\n",
    "\n",
    "There is another great dictionary tool in Collections called a Counter. In data science, we count things a lot. You should know about this tool.\n",
    "\n",
    "Read the section here about the Counter: https://docs.python.org/3/library/collections.html#collections.Counter\n",
    "\n",
    "If you give a counter a list of words, it will automatically count them for you."
   ]
  },
  {
   "cell_type": "code",
   "execution_count": null,
   "metadata": {},
   "outputs": [],
   "source": [
    "# First, let's define this function for trying to open a file and returning the filehandle:\n",
    "def open_a_file(filename):\n",
    "    try:\n",
    "        fhand = open(filename)\n",
    "        return fhand\n",
    "    except:\n",
    "        return None  # we return this if there is an error opening the file."
   ]
  },
  {
   "cell_type": "code",
   "execution_count": null,
   "metadata": {},
   "outputs": [],
   "source": [
    "from collections import Counter  # import the Counter\n",
    "\n",
    "# define a function to take your filehandle and count the words in the file.\n",
    "def get_counts(filehandle):\n",
    "    # Takes a filehandle, returns a counter object\n",
    "    allwords = []\n",
    "    for line in fhand:\n",
    "        words = line.split()\n",
    "        allwords = allwords + words  # add the words to the list of all words -- this prevents embedded lists\n",
    "    mycount = Counter(allwords)  # this is a list of words, remember\n",
    "    return mycount"
   ]
  },
  {
   "cell_type": "markdown",
   "metadata": {},
   "source": [
    "Now we can call this code using any filename, and our functions!"
   ]
  },
  {
   "cell_type": "code",
   "execution_count": null,
   "metadata": {},
   "outputs": [],
   "source": [
    "fhand = open_a_file(\"data_files/romeo.txt\")\n",
    "if fhand:  # if it didn't return \"None\", which means it was an error!\n",
    "    counts = get_counts(fhand)\n",
    "\n",
    "print(\"All words in the counter dictionary ordered by frequency:\", counts.most_common())  # might be long, beware!\n",
    "print(\"Top 5 words\", counts.most_common(5))"
   ]
  },
  {
   "cell_type": "code",
   "execution_count": null,
   "metadata": {},
   "outputs": [],
   "source": [
    "# Just like other dictionaries, you can get the words (the keys), but not ordered:\n",
    "counts.keys()"
   ]
  },
  {
   "cell_type": "code",
   "execution_count": null,
   "metadata": {},
   "outputs": [],
   "source": [
    "counts.values()   # also, not ordered"
   ]
  },
  {
   "cell_type": "code",
   "execution_count": 8,
   "metadata": {},
   "outputs": [
    {
     "ename": "NameError",
     "evalue": "name 'counts' is not defined",
     "output_type": "error",
     "traceback": [
      "\u001b[1;31m---------------------------------------------------------------------------\u001b[0m",
      "\u001b[1;31mNameError\u001b[0m                                 Traceback (most recent call last)",
      "\u001b[1;32m~\\AppData\\Local\\Temp\\ipykernel_77748\\3757316920.py\u001b[0m in \u001b[0;36m<module>\u001b[1;34m\u001b[0m\n\u001b[1;32m----> 1\u001b[1;33m \u001b[0mcounts\u001b[0m\u001b[1;33m.\u001b[0m\u001b[0mitems\u001b[0m\u001b[1;33m(\u001b[0m\u001b[1;33m)\u001b[0m  \u001b[1;31m# the usual function for getting it all, again not ordered\u001b[0m\u001b[1;33m\u001b[0m\u001b[1;33m\u001b[0m\u001b[0m\n\u001b[0m",
      "\u001b[1;31mNameError\u001b[0m: name 'counts' is not defined"
     ]
    }
   ],
   "source": [
    "counts.items()  # the usual function for getting it all, again not ordered"
   ]
  },
  {
   "cell_type": "code",
   "execution_count": 9,
   "metadata": {},
   "outputs": [
    {
     "ename": "NameError",
     "evalue": "name 'counts' is not defined",
     "output_type": "error",
     "traceback": [
      "\u001b[1;31m---------------------------------------------------------------------------\u001b[0m",
      "\u001b[1;31mNameError\u001b[0m                                 Traceback (most recent call last)",
      "\u001b[1;32m~\\AppData\\Local\\Temp\\ipykernel_77748\\37574803.py\u001b[0m in \u001b[0;36m<module>\u001b[1;34m\u001b[0m\n\u001b[1;32m----> 1\u001b[1;33m \u001b[0mcounts\u001b[0m\u001b[1;33m[\u001b[0m\u001b[1;34m'microwave'\u001b[0m\u001b[1;33m]\u001b[0m  \u001b[1;31m# any word not in the keys returns a 0 count, like defaultdict. Because it appeared 0 times.\u001b[0m\u001b[1;33m\u001b[0m\u001b[1;33m\u001b[0m\u001b[0m\n\u001b[0m",
      "\u001b[1;31mNameError\u001b[0m: name 'counts' is not defined"
     ]
    }
   ],
   "source": [
    "counts['microwave']  # any word not in the keys returns a 0 count, like defaultdict. Because it appeared 0 times."
   ]
  },
  {
   "cell_type": "markdown",
   "metadata": {},
   "source": [
    "**Update** on Counter -- an important feature.\n",
    "\n",
    "A small reminder about a Counter... After you declare it, you must use `update` with a list as the argument in order to add to it. If you want to use it in a loop, like with each row or each word of your file, instead of waiting till the whole file is processed, you must make sure you put each word into a list:"
   ]
  },
  {
   "cell_type": "code",
   "execution_count": 10,
   "metadata": {},
   "outputs": [],
   "source": [
    "from collections import Counter\n",
    "\n",
    "mycount = Counter()\n",
    "mycount.update(['words', 'here', 'already'])   # i have to use update because I already declared it above.\n",
    "words = ['hi', 'hi', 'there', 'fred', 'here', 'already']\n",
    "for word in words:\n",
    "    mycount.update([word])  # now I am adding to the counts with more words, one at a time!"
   ]
  },
  {
   "cell_type": "code",
   "execution_count": 11,
   "metadata": {},
   "outputs": [
    {
     "name": "stdout",
     "output_type": "stream",
     "text": [
      "Counter({'here': 2, 'already': 2, 'hi': 2, 'words': 1, 'there': 1, 'fred': 1})\n"
     ]
    }
   ],
   "source": [
    "print(mycount)"
   ]
  },
  {
   "cell_type": "markdown",
   "metadata": {},
   "source": [
    "## Sorting Dictionaries\n",
    "\n",
    "If you want to sort a dictionary by either key, or value, you can use the `sorted` function.  It takes a special second argument to tell it how you want to sort.  But it's a little cryptic.  The sorted function takes a key that says what to sort by.  In a dictionary, we can treat the key:value pairs as little lists (technically \"tuples\"), with key as the 0th element, and value as the 1st element.  \n",
    "\n",
    "There are 2 ways to say use \"value\" to sort by:"
   ]
  },
  {
   "cell_type": "code",
   "execution_count": 12,
   "metadata": {},
   "outputs": [],
   "source": [
    "mydict = {'jan': 1, 'fev': 5, 'mar': 20, 'avr': 10, 'sep': 14, 'juin': 25}"
   ]
  },
  {
   "cell_type": "code",
   "execution_count": 13,
   "metadata": {},
   "outputs": [
    {
     "data": {
      "text/plain": [
       "[('avr', 10), ('fev', 5), ('jan', 1), ('juin', 25), ('mar', 20), ('sep', 14)]"
      ]
     },
     "execution_count": 13,
     "metadata": {},
     "output_type": "execute_result"
    }
   ],
   "source": [
    "# the lambda expression is a tiny function without a name and with less code-- \n",
    "# here it says \"use my 0th\" (the first) item to sort by. It returns a list of the keys in this order.\n",
    "sorted(mydict.items(), key=lambda p: p[0])"
   ]
  },
  {
   "cell_type": "code",
   "execution_count": 14,
   "metadata": {},
   "outputs": [
    {
     "data": {
      "text/plain": [
       "[('jan', 1), ('fev', 5), ('avr', 10), ('sep', 14), ('mar', 20), ('juin', 25)]"
      ]
     },
     "execution_count": 14,
     "metadata": {},
     "output_type": "execute_result"
    }
   ],
   "source": [
    "sorted(mydict.items(), key=lambda p: p[1])  # use my second element, the value, to sort the keys:"
   ]
  },
  {
   "cell_type": "markdown",
   "metadata": {},
   "source": [
    "If you want to reverse the sort order, so the highest numbers are at the top, use another argument:"
   ]
  },
  {
   "cell_type": "code",
   "execution_count": 15,
   "metadata": {},
   "outputs": [
    {
     "data": {
      "text/plain": [
       "[('juin', 25), ('mar', 20), ('sep', 14), ('avr', 10), ('fev', 5), ('jan', 1)]"
      ]
     },
     "execution_count": 15,
     "metadata": {},
     "output_type": "execute_result"
    }
   ],
   "source": [
    "sorted(mydict.items(), key=lambda p: p[1], reverse=True)"
   ]
  },
  {
   "cell_type": "markdown",
   "metadata": {},
   "source": [
    "### Another way, using a module that does the lambda for you:"
   ]
  },
  {
   "cell_type": "code",
   "execution_count": 16,
   "metadata": {},
   "outputs": [
    {
     "data": {
      "text/plain": [
       "[('juin', 25), ('mar', 20), ('sep', 14), ('avr', 10), ('fev', 5), ('jan', 1)]"
      ]
     },
     "execution_count": 16,
     "metadata": {},
     "output_type": "execute_result"
    }
   ],
   "source": [
    "from operator import itemgetter\n",
    "sorted(mydict.items(), key=itemgetter(1), reverse=True)"
   ]
  },
  {
   "cell_type": "code",
   "execution_count": 17,
   "metadata": {},
   "outputs": [
    {
     "data": {
      "text/plain": [
       "[('avr', 10), ('fev', 5), ('jan', 1), ('juin', 25), ('mar', 20), ('sep', 14)]"
      ]
     },
     "execution_count": 17,
     "metadata": {},
     "output_type": "execute_result"
    }
   ],
   "source": [
    "sorted(mydict.items(), key=itemgetter(0))  # alphabetical order, sorting by the key, the 0th item"
   ]
  }
 ],
 "metadata": {
  "anaconda-cloud": {},
  "kernelspec": {
   "display_name": "Python 3 (ipykernel)",
   "language": "python",
   "name": "python3"
  },
  "language_info": {
   "codemirror_mode": {
    "name": "ipython",
    "version": 3
   },
   "file_extension": ".py",
   "mimetype": "text/x-python",
   "name": "python",
   "nbconvert_exporter": "python",
   "pygments_lexer": "ipython3",
   "version": "3.9.13"
  }
 },
 "nbformat": 4,
 "nbformat_minor": 1
}
