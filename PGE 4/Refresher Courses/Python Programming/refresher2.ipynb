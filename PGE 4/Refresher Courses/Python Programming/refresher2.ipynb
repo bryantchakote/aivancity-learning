{
 "cells": [
  {
   "cell_type": "markdown",
   "metadata": {},
   "source": [
    "Before you turn this problem in, make sure everything runs as expected. First, **restart the kernel** (in the menubar, select Kernel$\\rightarrow$Restart) and then **run all cells** (in the menubar, select Cell$\\rightarrow$Run All). Check your output to make sure it all looks as you expected.\n",
    "\n",
    "Make sure you fill in any place that says `YOUR CODE HERE` or \"YOUR ANSWER HERE\", as well as your name below:"
   ]
  },
  {
   "cell_type": "code",
   "execution_count": 1,
   "metadata": {},
   "outputs": [],
   "source": [
    "NAME = \"Bryan Tchakote\""
   ]
  },
  {
   "cell_type": "markdown",
   "metadata": {},
   "source": [
    "---"
   ]
  },
  {
   "cell_type": "markdown",
   "metadata": {},
   "source": [
    "**Here are some key points on how to use the notebook and submit your work.**\n",
    "We will grade based on assuming you have read and understood them.\n",
    "    \n",
    "1. **Using the Notebook to Show Your Work**: You must learn to write code in the notebook... It is a core tool for data science and will make it easier to develop and document your work if you become good at using it. Writing your code in another tool and pasting it into the notebook will probably not work well (forgetting to include code elsewhere, messing up the spacing, or code that don't run as copied). You must be sure your code cells execute because we will test them.  So learn how to run code in the notebook cells to double check your work.\n",
    "2. **Read Directions Carefully**:  The instructions for your code are very important. If you don't follow the requirements, your application won't do as requested. Making it work correctly is part of learning to program.  If we worded something unclearly, ask the teacher.\n",
    "\n",
    "The second set of issues are coding style:\n",
    "\n",
    "1. **Indentation**: In Python, indentation matters and must be consistent. If you write your code in the Notebook, the **tab** key will indent properly.  If you use another editor and paste into the notebook, it might not be correctly indented (when you do write code in another editor, make sure you set your tabs to indent as 4 spaces, not as a tab character.)  You must make sure that your pasted code runs in the notebook or it will not get a good grade. Anyway, we recommend beginners to work in a Jupyter notebook for this course, whether it's this one or a draft file.\n",
    "2. **Spacing**: Follow closely the spacing shown in the lessons. There should not be a space  between a function name and the parentheses with the arguments. As a programmer, style is very important. If you work with programmers in the future, they sometimes have \"lint\" checkers to test your code for style and reject if it doesn't follow the approprate spacing and blank-line-rules. Think of it as a matter of politness for other people reading your code \\ (•◡•) /\n",
    "3. **Names of Variables**: In Python, there's a culture of making everything readable. Don't use ``x`` and ``y`` as your variable names... use words like ``pounds`` and ``kilograms``. It will be easier for colleagues (and yourself) to understand the code later.\n",
    "4. **Error Messages**: Please use informative error messages that tell the user what they did wrong and what kind of input you expect. Imagine you are designing the user experience! Think about how to help your user. And remember **you** are the user when you debug!\n",
    "\n",
    "We will take points off for issues of non-standard spacing, indentation, bad error messages, and bad variable names in the future.  This will continue for the entire course.\n",
    "\n",
    "There are multiple ways to code all the answers.  Here are a few more code style tips:\n",
    "\n",
    "1. If you do a calculation or a transformation, like ``float(pounds)`` -- do it once and save it as a variable, don't do it multiple times.  You should try not to have code that repeats itself too much.  If you repeat things, you can make mistakes like typos and it will be harder to find them. Also, it's wasting computer power.\n",
    "2. Tests like \"4 < test < 40\" need to be saved in a variable or used in a ``if`` statement.  It won't do anything relevant otherwise.\n",
    "3. ``try``/``except`` should be used to catch errors. (In fancier, more formal Python, there is more careful error catching where the type of error is detected and handled. We're just doing the basic try/except right now.) Anytime you have a conversion or something that could result in an error, you should wrap it in try/except. Do not allow a user to run code that results in an un-handled error.\n",
    "\n",
    "---"
   ]
  },
  {
   "cell_type": "markdown",
   "metadata": {
    "deletable": false,
    "editable": false,
    "nbgrader": {
     "cell_type": "markdown",
     "checksum": "b0d81bc3e6d7ee11a269f66cfb20f1b6",
     "grade": false,
     "grade_id": "cell-47d6f9247d9521e2",
     "locked": true,
     "schema_version": 3,
     "solution": false,
     "task": false
    }
   },
   "source": [
    "# Notebook 2, Chapters 5-8 in Python For Everyone\n",
    "[Book Link](https://books.trinket.io/pfe/05-iterations.html)\n",
    "\n",
    "It is a lot of reading, but you really need to master these tools to become good with data analysis and visualization in Python.\n",
    "\n",
    "Fill in your work below each assignment, by adding new cells and showing them running correctly.\n",
    "\n",
    "**Note: We will deduct points for unclear variable names, irregular indents and spacing.**\n",
    "\n",
    "**Important: Don't use exit() in the notebook, even though the e-book uses it. It stops the kernel which you will have to restart.  You don't need exit(); instead use 'return' at the end of a function, or 'break' to exit a loop.**\n",
    "\n"
   ]
  },
  {
   "cell_type": "markdown",
   "metadata": {
    "deletable": false,
    "editable": false,
    "nbgrader": {
     "cell_type": "markdown",
     "checksum": "e516814b837f0da1487dbcf6409acfae",
     "grade": false,
     "grade_id": "cell-c854f8039423fc97",
     "locked": true,
     "schema_version": 3,
     "solution": false
    }
   },
   "source": [
    "## Exercises for Chapter 5: \"Iterations\"\n",
    "\n",
    "**Question 1)** Write a function which repeatedly asks for the input of a \"name\" and prints out ``Hi [name]! Good to see you!`` (replace [name] with the name they entered).  If they enter \"Bob\", print out ``oh, not you, Bob!`` and stop the loop asking for input. \n",
    "\n",
    "**Important**: Use ``return`` or ``break``, do not use ``exit()`` as we said above. ``exit()`` will stop your notebook from computing (stop the kernel).\n",
    "\n",
    "Save the longest and shortest name encountered (count the letters). When you stop the loop after seeing \"Bob\", print out the shortest and longest names previously entered.  Use these strings or your code won't pass the tests: ``Longest name was [name]`` then ``Shortest name was [name]``.\n",
    "\n",
    "If the user enters anything other than a string of characters, for instance, numbers, print out an error message, and continue on to ask for a name again.  Your error should start with \"Error:\".\n",
    "\n",
    "You might read chapter 6 on **strings** to see how to handle them in this program.  In particular, there is a ``function.isalpha()`` that you should look up."
   ]
  },
  {
   "cell_type": "code",
   "execution_count": 2,
   "metadata": {
    "deletable": false,
    "nbgrader": {
     "cell_type": "code",
     "checksum": "70ec6d8dbb4ca00c3572ea66095fe075",
     "grade": false,
     "grade_id": "simple_bob",
     "locked": false,
     "schema_version": 3,
     "solution": true
    }
   },
   "outputs": [],
   "source": [
    "def bob_loop():\n",
    "    # the following strings can help you to produce the exact expected messages\n",
    "    bob_msg = \"oh, not you, Bob!\"\n",
    "    other_msg = \"Hi {}! Good to see you!\"  # this is a format string. Use the ``format`` method on it\n",
    "    names = [\"Bob\"]\n",
    "    \n",
    "    while True:\n",
    "        name = input(\"What's your name: \")\n",
    "        \n",
    "        if not name.isalpha():\n",
    "            print(\"Error: only character string are allowed\")\n",
    "            continue\n",
    "            \n",
    "        if name == \"Bob\":\n",
    "            print(bob_msg)\n",
    "            break\n",
    "        \n",
    "        print(other_msg.format(name))\n",
    "        if name not in names: names.append(name)\n",
    "        \n",
    "    lengths = [len(name) for name in names]\n",
    "    longest = names[lengths.index(max(lengths))]\n",
    "    shortest = names[lengths.index(min(lengths))]\n",
    "    \n",
    "    print(\"\\nLongest name was\", longest)\n",
    "    print(\"Shortest name was\", shortest)"
   ]
  },
  {
   "cell_type": "code",
   "execution_count": 3,
   "metadata": {},
   "outputs": [
    {
     "name": "stdout",
     "output_type": "stream",
     "text": [
      "What's your name: Bryan\n",
      "Hi Bryan! Good to see you!\n",
      "What's your name: Manuel\n",
      "Hi Manuel! Good to see you!\n",
      "What's your name: T\n",
      "Hi T! Good to see you!\n",
      "What's your name: Bob\n",
      "oh, not you, Bob!\n",
      "\n",
      "Longest name was Manuel\n",
      "Shortest name was T\n"
     ]
    }
   ],
   "source": [
    "# Make sure this works with any input including Bob.\n",
    "bob_loop()"
   ]
  },
  {
   "cell_type": "code",
   "execution_count": 4,
   "metadata": {
    "deletable": false,
    "editable": false,
    "nbgrader": {
     "cell_type": "code",
     "checksum": "0a230ee3e3aa43dbadab3e4e51969b14",
     "grade": true,
     "grade_id": "cell-d90788dde9d77f71",
     "locked": true,
     "points": 2,
     "schema_version": 3,
     "solution": false,
     "task": false
    }
   },
   "outputs": [],
   "source": [
    "# Hidden test cell\n"
   ]
  },
  {
   "cell_type": "code",
   "execution_count": 5,
   "metadata": {
    "deletable": false,
    "editable": false,
    "nbgrader": {
     "cell_type": "code",
     "checksum": "a0dc5971ecde2ff458cc0d0ec3a3abb7",
     "grade": true,
     "grade_id": "cell-e4c164f071a36e6f",
     "locked": true,
     "points": 2,
     "schema_version": 3,
     "solution": false,
     "task": false
    }
   },
   "outputs": [],
   "source": [
    "# Hidden test cell\n"
   ]
  },
  {
   "cell_type": "markdown",
   "metadata": {
    "deletable": false,
    "editable": false,
    "nbgrader": {
     "cell_type": "markdown",
     "checksum": "d569a5de548f7b496bb73b1b42ecc895",
     "grade": false,
     "grade_id": "cell-5127594c5741d4b1",
     "locked": true,
     "schema_version": 3,
     "solution": false
    }
   },
   "source": [
    "##  Exercise for Chapter 6: \"Strings\"\n",
    "\n",
    "**Question 3)** Write a function which takes a string argument with no spaces in it, searches for vowels (the letters \"a\", \"e\", \"i\", \"o\", \"u\") in the string, replaces them by upper case characters, and prints out the new string with the upper cases as well as returns the new string from the function. You should verify it is a string argument using ``isalpha`` (so no spaces are allowed!) and return with an error if not (the error message should being with \"Error:\"). \n",
    "\n",
    "Reminder:  in ``def myfunction(arg):`` the string arg is the argument position and variable name for the argument.  You will run it like:\n",
    "\n",
    "    myfunction(\"hi there\")\n",
    "\n",
    "For instance, if the string input is \"miscellaneous\", then your program will print out and return \"mIscEllAnEOUs\".  If nothing in the string is a vowel, print \"Nothing to convert!\" and return ``None``.\n",
    "\n",
    "**Hint Note: If you are doing the reading, ``for letter in word`` and ``if letter in vowels`` should be clear to you as a way to go through a string. You can also add ``print`` statements to show the value of things as you run your code... but comment them out or delete them before you submit your work.**\n"
   ]
  },
  {
   "cell_type": "code",
   "execution_count": 6,
   "metadata": {
    "deletable": false,
    "nbgrader": {
     "cell_type": "code",
     "checksum": "3b3ee9285b6b9b72201bd28098ed3cba",
     "grade": false,
     "grade_id": "uppercase",
     "locked": false,
     "schema_version": 3,
     "solution": true
    }
   },
   "outputs": [],
   "source": [
    "def uppercase(word):\n",
    "    vowels = \"aeiou\"\n",
    "    nothing_msg = \"Nothing to convert!\"\n",
    "    \n",
    "    if not word.isalpha():\n",
    "        print(\"Error: parameter should verify 'isalpha'\")\n",
    "        return\n",
    "    \n",
    "    converted_word = \"\"\n",
    "    for letter in word:\n",
    "        if letter in vowels:\n",
    "            letter = letter.upper()\n",
    "            converted = True\n",
    "        \n",
    "        converted_word += letter\n",
    "    \n",
    "    if converted_word == word:\n",
    "        print(nothing_msg)\n",
    "        return\n",
    "    \n",
    "    return converted_word"
   ]
  },
  {
   "cell_type": "code",
   "execution_count": 7,
   "metadata": {},
   "outputs": [
    {
     "name": "stdout",
     "output_type": "stream",
     "text": [
      "Error: parameter should verify 'isalpha'\n"
     ]
    }
   ],
   "source": [
    "# this should print \"Error:\" plus some helpful string if you did it right. Spaces are not allowed.\n",
    "uppercase(\"well hello there\")"
   ]
  },
  {
   "cell_type": "code",
   "execution_count": 8,
   "metadata": {},
   "outputs": [
    {
     "data": {
      "text/plain": [
       "'hEllO'"
      ]
     },
     "execution_count": 8,
     "metadata": {},
     "output_type": "execute_result"
    }
   ],
   "source": [
    "# this should print out and return the word with uppercased vowels\n",
    "uppercase(\"hello\")"
   ]
  },
  {
   "cell_type": "code",
   "execution_count": 9,
   "metadata": {},
   "outputs": [
    {
     "name": "stdout",
     "output_type": "stream",
     "text": [
      "Nothing to convert!\n"
     ]
    }
   ],
   "source": [
    "# this should print out \"Nothing to convert!\"  It returns None, the python term for nothing.\n",
    "uppercase(\"HI\")"
   ]
  },
  {
   "cell_type": "code",
   "execution_count": 10,
   "metadata": {},
   "outputs": [],
   "source": [
    "import mock, sys\n",
    "from io import StringIO"
   ]
  },
  {
   "cell_type": "code",
   "execution_count": 11,
   "metadata": {
    "deletable": false,
    "editable": false,
    "nbgrader": {
     "cell_type": "code",
     "checksum": "40dec65a153df47e60f80ad15b302ccc",
     "grade": true,
     "grade_id": "test_uppercase_no_cap",
     "locked": true,
     "points": 2,
     "schema_version": 3,
     "solution": false
    }
   },
   "outputs": [],
   "source": [
    "# Grading tests you can ignore: output from word with all uppercase already.\n",
    "\n",
    "with mock.patch('sys.stdout', new_callable=StringIO):\n",
    "        assert uppercase(\"HI\") is None\n",
    "        assert \"Nothing to convert!\" in sys.stdout.getvalue()"
   ]
  },
  {
   "cell_type": "code",
   "execution_count": 12,
   "metadata": {
    "deletable": false,
    "editable": false,
    "nbgrader": {
     "cell_type": "code",
     "checksum": "646f90dcad9cb8579e183c5b7a22967d",
     "grade": true,
     "grade_id": "test_uppercase_vowels",
     "locked": true,
     "points": 1,
     "schema_version": 3,
     "solution": false
    }
   },
   "outputs": [],
   "source": [
    "assert uppercase(\"hello\") == \"hEllO\""
   ]
  },
  {
   "cell_type": "code",
   "execution_count": 13,
   "metadata": {
    "deletable": false,
    "editable": false,
    "nbgrader": {
     "cell_type": "code",
     "checksum": "73e6b83be4ba3371079613b6bd4ded7f",
     "grade": true,
     "grade_id": "test_upper_error",
     "locked": true,
     "points": 2,
     "schema_version": 3,
     "solution": false
    }
   },
   "outputs": [],
   "source": [
    "# A grading test for your code, you can ignore this. Returns None and prints error.\n",
    "\n",
    "with mock.patch('sys.stdout', new_callable=StringIO):\n",
    "        assert uppercase(\"H3432e\") is None\n",
    "        assert \"Error\" in sys.stdout.getvalue()"
   ]
  },
  {
   "cell_type": "markdown",
   "metadata": {
    "deletable": false,
    "editable": false,
    "nbgrader": {
     "cell_type": "markdown",
     "checksum": "ab15b501123e62e37922699cf944a748",
     "grade": false,
     "grade_id": "cell-eea8c7931165045c",
     "locked": true,
     "schema_version": 3,
     "solution": false,
     "task": false
    }
   },
   "source": [
    "**Question 4)** \n",
    "\n",
    "Take the following Python code that stores a string in variable mystring::\n",
    "\n",
    "    mystring = 'X-DSPAM-Confidence:0.8475'\n",
    "\n",
    "Write a function that uses ``find`` and string slicing to extract the portion of the string after the colon character (:) and then use the ``float`` function to convert the extracted string into a floating point number. Print and then return the floating point number from the function.  If no colon character is found, return ``None``.\n"
   ]
  },
  {
   "cell_type": "code",
   "execution_count": 14,
   "metadata": {
    "deletable": false,
    "editable": false,
    "nbgrader": {
     "cell_type": "code",
     "checksum": "8fa1af23e79b244bb87e179c5da986bb",
     "grade": false,
     "grade_id": "cell-def13edc60043836",
     "locked": true,
     "schema_version": 3,
     "solution": false,
     "task": false
    }
   },
   "outputs": [
    {
     "name": "stdout",
     "output_type": "stream",
     "text": [
      "Help on method_descriptor:\n",
      "\n",
      "find(...)\n",
      "    S.find(sub[, start[, end]]) -> int\n",
      "    \n",
      "    Return the lowest index in S where substring sub is found,\n",
      "    such that sub is contained within S[start:end].  Optional\n",
      "    arguments start and end are interpreted as in slice notation.\n",
      "    \n",
      "    Return -1 on failure.\n",
      "\n"
     ]
    }
   ],
   "source": [
    "help(str.find)  # ask the Python interpreter for more info about the find method of str"
   ]
  },
  {
   "cell_type": "code",
   "execution_count": 15,
   "metadata": {
    "deletable": false,
    "nbgrader": {
     "cell_type": "code",
     "checksum": "c112f70c55ca2f15c9249bd6f1cc6b34",
     "grade": false,
     "grade_id": "get_float",
     "locked": false,
     "schema_version": 3,
     "solution": true
    }
   },
   "outputs": [],
   "source": [
    "def get_number(stringinput):\n",
    "    \"\"\" Your stringinput should be a string as described above. Print the float part after the :\n",
    "    and also return it.  Return None if no : is found in the string.\"\"\"\n",
    "    \n",
    "    err_msg = \"Error: The input should have a float only after the column\"\n",
    "    \n",
    "    start = stringinput.find(\":\")\n",
    "    if start == -1:\n",
    "        return\n",
    "    \n",
    "    try:\n",
    "        number = float(stringinput[start+1:])\n",
    "    except ValueError:\n",
    "        print(err_msg)\n",
    "        return\n",
    "        \n",
    "    print(\"The extracted number is\", number)\n",
    "    return number"
   ]
  },
  {
   "cell_type": "code",
   "execution_count": 16,
   "metadata": {},
   "outputs": [
    {
     "name": "stdout",
     "output_type": "stream",
     "text": [
      "The extracted number is 0.8475\n"
     ]
    },
    {
     "data": {
      "text/plain": [
       "0.8475"
      ]
     },
     "execution_count": 16,
     "metadata": {},
     "output_type": "execute_result"
    }
   ],
   "source": [
    "# Check your code does the right thing. It should print and also return the float.\n",
    "mystring = 'X-DSPAM-Confidence:0.8475'\n",
    "get_number(mystring)"
   ]
  },
  {
   "cell_type": "code",
   "execution_count": 17,
   "metadata": {
    "deletable": false,
    "editable": false,
    "nbgrader": {
     "cell_type": "code",
     "checksum": "be7737bd9858b33ea12dcc0a6c383ba3",
     "grade": true,
     "grade_id": "test_float",
     "locked": true,
     "points": 2,
     "schema_version": 3,
     "solution": false
    }
   },
   "outputs": [
    {
     "name": "stdout",
     "output_type": "stream",
     "text": [
      "The extracted number is 0.8475\n"
     ]
    }
   ],
   "source": [
    "# testing your return value:\n",
    "mystring = 'X-DSPAM-Confidence:0.8475'\n",
    "assert get_number(mystring) == 0.8475\n"
   ]
  },
  {
   "cell_type": "code",
   "execution_count": 18,
   "metadata": {
    "deletable": false,
    "editable": false,
    "nbgrader": {
     "cell_type": "code",
     "checksum": "0a3a89a43c0148690cd6c7a5b5d8755b",
     "grade": true,
     "grade_id": "test_no_colon",
     "locked": true,
     "points": 1,
     "schema_version": 3,
     "solution": false
    }
   },
   "outputs": [],
   "source": [
    "# test return from a missing :\n",
    "mystring = \"No colon in this\"\n",
    "assert get_number(mystring) == None"
   ]
  },
  {
   "cell_type": "code",
   "execution_count": 19,
   "metadata": {
    "deletable": false,
    "editable": false,
    "nbgrader": {
     "cell_type": "code",
     "checksum": "f88fc7591f8df36ff2546b8fe3a2a3d4",
     "grade": true,
     "grade_id": "test_error_float",
     "locked": true,
     "points": 1,
     "schema_version": 3,
     "solution": false
    }
   },
   "outputs": [],
   "source": [
    "## Extra credit test that's hidden :)\n"
   ]
  },
  {
   "cell_type": "markdown",
   "metadata": {
    "deletable": false,
    "editable": false,
    "nbgrader": {
     "cell_type": "markdown",
     "checksum": "7c97937c0dfdacdb0cec1c94b9621b14",
     "grade": false,
     "grade_id": "cell-27fe84b4def01b2f",
     "locked": true,
     "schema_version": 3,
     "solution": false,
     "task": false
    }
   },
   "source": [
    "## Exercises for Chapter 7: \"Files\""
   ]
  },
  {
   "cell_type": "markdown",
   "metadata": {
    "deletable": false,
    "editable": false,
    "nbgrader": {
     "cell_type": "markdown",
     "checksum": "0348dc915883c59f61f579f73c91f00a",
     "grade": false,
     "grade_id": "cell-2e5731da10762716",
     "locked": true,
     "schema_version": 3,
     "solution": false,
     "task": false
    }
   },
   "source": [
    "This is a big important chapter.  All data files have to be loaded and parsed into Python before you can do analysis on them.  And you can also write out your results in files after doing this chapter.\n",
    "\n",
    "\n",
    "**Question 5)** Get the *mbox-short.txt* file. Be sure you understand where it is located so you can read it in. If it is in the same directory as this notebook, you don't need to give the full path to the file.  A path is the working directory info + filename. For instance:\n",
    "\n",
    "```\n",
    "myfile = \"/Users/Documents/PythonTeaching/mbox-short.txt\"\n",
    "```\n",
    "\n",
    "\n",
    "Create a function that reads in the file and looks for lines with \"http\" in them. (Hint: \"http\" can appear inside a longer string like \"https\".) Keep a count of how many URLs appear. Print out the first URL in each line, but nothing else in that line. This means you need to isolate the URL from the rest of the line (you can use space as the delimiter.)\n",
    "\n",
    "At the end, return the total count of lines containing http in the file.\n",
    "\n",
    "**Note: the preferred way to do the file open and read is as follows, not as shown in the book.  Please use this model in your code:**"
   ]
  },
  {
   "cell_type": "code",
   "execution_count": 20,
   "metadata": {},
   "outputs": [],
   "source": [
    "## Example of how to read in the file and do things with it:\n",
    "\n",
    "# you need to give the full path to the file you are opening in the string, or a path relative your notebook\n",
    "# A relative path means a folder + filename inside the current folder where the notebook is running.\n",
    "# Here, mine is in a folder called data_files.\n",
    "\n",
    "with open('data_files/mbox-short.txt', 'r') as handle:\n",
    "    for line in handle:\n",
    "        # do stuff here with each line.  Try uncommenting the print and removing the 'continue.  \n",
    "        # Think about removing the \\n at the end of the line.\n",
    "        # print(line)\n",
    "        continue"
   ]
  },
  {
   "cell_type": "code",
   "execution_count": 21,
   "metadata": {
    "deletable": false,
    "nbgrader": {
     "cell_type": "code",
     "checksum": "db26cfdbaac20b9f7f8df98341815e39",
     "grade": false,
     "grade_id": "count_urls",
     "locked": false,
     "schema_version": 3,
     "solution": true
    }
   },
   "outputs": [],
   "source": [
    "def count_urls(filename):\n",
    "    \"\"\"\n",
    "    Pass in the full path to the file you are searching for URLs.\n",
    "    Return the total of lines with urls found.\n",
    "    \"\"\"\n",
    "    \n",
    "    n_lines = 0\n",
    "    with open(filename, 'r') as handle:\n",
    "        for line in handle:\n",
    "            if \"http\" in line:\n",
    "                line = line[line.find(\"http\"):].split()[0]\n",
    "                print(line) if \")\" not in line else print(line[:-1])\n",
    "                n_lines += 1\n",
    "    return n_lines"
   ]
  },
  {
   "cell_type": "code",
   "execution_count": 22,
   "metadata": {},
   "outputs": [
    {
     "name": "stdout",
     "output_type": "stream",
     "text": [
      "http://source.sakaiproject.org/viewsvn/?view=rev&rev=39772\n",
      "https://collab.sakaiproject.org/portal\n",
      "http://source.sakaiproject.org/viewsvn/?view=rev&rev=39771\n",
      "https://collab.sakaiproject.org/portal\n",
      "http://source.sakaiproject.org/viewsvn/?view=rev&rev=39770\n",
      "https://source.sakaiproject.org/svn/site-manage/trunk/\n",
      "https://collab.sakaiproject.org/portal\n",
      "http://source.sakaiproject.org/viewsvn/?view=rev&rev=39769\n",
      "https://collab.sakaiproject.org/portal\n",
      "http://source.sakaiproject.org/viewsvn/?view=rev&rev=39766\n",
      "https://collab.sakaiproject.org/portal\n",
      "http://source.sakaiproject.org/viewsvn/?view=rev&rev=39765\n",
      "https://collab.sakaiproject.org/portal\n",
      "http://source.sakaiproject.org/viewsvn/?view=rev&rev=39764\n",
      "https://source.sakaiproject.org/svn/msgcntr/trunk\n",
      "http://jira.sakaiproject.org/jira/browse/SAK-12488\n",
      "https://collab.sakaiproject.org/portal\n",
      "http://source.sakaiproject.org/viewsvn/?view=rev&rev=39763\n",
      "https://source.sakaiproject.org/svn/msgcntr/trunk\n",
      "http://jira.sakaiproject.org/jira/browse/SAK-12484\n",
      "https://collab.sakaiproject.org/portal\n",
      "http://source.sakaiproject.org/viewsvn/?view=rev&rev=39762\n",
      "http://bugs.sakaiproject.org/jira/browse/SAK-12596\n",
      "https://collab.sakaiproject.org/portal\n",
      "http://source.sakaiproject.org/viewsvn/?view=rev&rev=39761\n",
      "http://bugs.sakaiproject.org/jira/browse/SAK-12595\n",
      "https://collab.sakaiproject.org/portal\n",
      "http://source.sakaiproject.org/viewsvn/?view=rev&rev=39760\n",
      "https://collab.sakaiproject.org/portal\n",
      "http://source.sakaiproject.org/viewsvn/?view=rev&rev=39759\n",
      "http://bugs.sakaiproject.org/jira/browse/SAK-12592\n",
      "https://collab.sakaiproject.org/portal\n",
      "http://source.sakaiproject.org/viewsvn/?view=rev&rev=39758\n",
      "http://bugs.sakaiproject.org/jira/browse/SAK-12175\n",
      "https://collab.sakaiproject.org/portal\n",
      "http://source.sakaiproject.org/viewsvn/?view=rev&rev=39757\n",
      "https://collab.sakaiproject.org/portal\n",
      "http://source.sakaiproject.org/viewsvn/?view=rev&rev=39756\n",
      "https://collab.sakaiproject.org/portal\n",
      "http://source.sakaiproject.org/viewsvn/?view=rev&rev=39755\n",
      "https://collab.sakaiproject.org/portal\n",
      "http://source.sakaiproject.org/viewsvn/?view=rev&rev=39754\n",
      "https://source.sakaiproject.org/svn/polls/trunk\n",
      "https://source.sakaiproject.org/svn/polls/trunk\n",
      "https://collab.sakaiproject.org/portal\n",
      "http://source.sakaiproject.org/viewsvn/?view=rev&rev=39753\n",
      "https://collab.sakaiproject.org/portal\n",
      "http://source.sakaiproject.org/viewsvn/?view=rev&rev=39752\n",
      "https://source.sakaiproject.org/svn/podcasts/trunk\n",
      "https://source.sakaiproject.org/svn/podcasts/trunk\n",
      "https://collab.sakaiproject.org/portal\n",
      "http://source.sakaiproject.org/viewsvn/?view=rev&rev=39751\n",
      "https://source.sakaiproject.org/svn/podcasts/trunk\n",
      "https://source.sakaiproject.org/svn/podcasts/trunk\n",
      "https://collab.sakaiproject.org/portal\n",
      "http://source.sakaiproject.org/viewsvn/?view=rev&rev=39750\n",
      "https://collab.sakaiproject.org/portal\n",
      "http://source.sakaiproject.org/viewsvn/?view=rev&rev=39749\n",
      "https://collab.sakaiproject.org/portal\n",
      "http://source.sakaiproject.org/viewsvn/?view=rev&rev=39746\n",
      "https://collab.sakaiproject.org/portal\n",
      "http://source.sakaiproject.org/viewsvn/?view=rev&rev=39745\n",
      "https://collab.sakaiproject.org/portal\n",
      "http://source.sakaiproject.org/viewsvn/?view=rev&rev=39744\n",
      "https://collab.sakaiproject.org/portal\n",
      "http://source.sakaiproject.org/viewsvn/?view=rev&rev=39743\n",
      "https://source.sakaiproject.org/svn/gradebook/trunk\n",
      "https://source.sakaiproject.org/svn/gradebook/trunk\n",
      "http://jira.sakaiproject.org/jira/browse/SAK-12504\n",
      "https://collab.sakaiproject.org/portal\n",
      "http://source.sakaiproject.org/viewsvn/?view=rev&rev=39742\n",
      "https://source.sakaiproject.org/svn/gradebook/trunk\n",
      "https://source.sakaiproject.org/svn/gradebook/trunk\n",
      "http://bugs.sakaiproject.org/jira/browse/SAK-11458\n",
      "https://collab.sakaiproject.org/portal\n"
     ]
    },
    {
     "data": {
      "text/plain": [
       "75"
      ]
     },
     "execution_count": 22,
     "metadata": {},
     "output_type": "execute_result"
    }
   ],
   "source": [
    "# test your code on your function -- put the path to the file in the argument.\n",
    "\n",
    "filepath = 'data_files/mbox-short.txt'\n",
    "count_urls(filepath)"
   ]
  },
  {
   "cell_type": "code",
   "execution_count": 23,
   "metadata": {
    "deletable": false,
    "editable": false,
    "nbgrader": {
     "cell_type": "code",
     "checksum": "9c8b6e755931c3830eef86c75d6ff500",
     "grade": true,
     "grade_id": "cell-0ec0985671b105ff",
     "locked": true,
     "points": 4,
     "schema_version": 3,
     "solution": false
    }
   },
   "outputs": [],
   "source": [
    "# Hidden tests for your code. Manually grading the url printing.  Testing the output count is correct."
   ]
  },
  {
   "cell_type": "markdown",
   "metadata": {
    "deletable": false,
    "editable": false,
    "nbgrader": {
     "cell_type": "markdown",
     "checksum": "0852ff5b2fcc71f26247694e23b1233c",
     "grade": false,
     "grade_id": "cell-73b126b65fa73fe7",
     "locked": true,
     "schema_version": 3,
     "solution": false
    }
   },
   "source": [
    "## Exercises for Chapter 8: \"Lists\"\n",
    "\n",
    "We know you're tired, but understanding lists in Python is essential.  They are one of the coolest things about the language.\n",
    "\n",
    "**Question 6)** Download *romeo.txt*.\n",
    "\n",
    "Write a function that takes as argument the path to the file *romeo.txt* and reads it line by line.  Use the same pattern as above, using \"with open\" and everything indented under it!  For each line, split the line into a list of words by the space character, using the ``split`` function.\n",
    "\n",
    "Create a single empty list that will hold all the unique words in the entire file. For each word in each line, check to see if the word is already in that list. If the word is not in that list, add it to the list (you don't need to lowercase the words).\n",
    "\n",
    "When the program completes, sort the list and print the resulting words in alphabetical order using a statement like this::\n",
    "\n",
    "    print(' '.join(words))\n",
    "\n",
    "Finally, return the first word of the list from the function!\n"
   ]
  },
  {
   "cell_type": "code",
   "execution_count": 24,
   "metadata": {
    "deletable": false,
    "nbgrader": {
     "cell_type": "code",
     "checksum": "30239d1c99fe8a723c776242158a38b6",
     "grade": false,
     "grade_id": "unique_words",
     "locked": false,
     "schema_version": 3,
     "solution": true
    }
   },
   "outputs": [],
   "source": [
    "def unique_words(filepath):\n",
    "    \"\"\" This function reads in a filepath text file and prints the sorted unique words. \n",
    "    It returns the first unique word.\n",
    "    \"\"\"\n",
    "    words = []\n",
    "    with open(filepath, 'r') as handle:\n",
    "        for line in handle:\n",
    "            for word in line.split():\n",
    "                if word not in words:\n",
    "                    words.append(word)\n",
    "\n",
    "    words.sort()\n",
    "    print(\" \".join(words))\n",
    "    return words[0] if words else None"
   ]
  },
  {
   "cell_type": "code",
   "execution_count": 25,
   "metadata": {},
   "outputs": [
    {
     "name": "stdout",
     "output_type": "stream",
     "text": [
      "Arise But It Juliet Who already and breaks east envious fair grief is kill light moon pale sick soft sun the through what window with yonder\n"
     ]
    },
    {
     "data": {
      "text/plain": [
       "'Arise'"
      ]
     },
     "execution_count": 25,
     "metadata": {},
     "output_type": "execute_result"
    }
   ],
   "source": [
    "# show this works.  Set the path to where you file is. If it's the same folder, no / part needed.\n",
    "\n",
    "myfile = 'data_files/romeo.txt'\n",
    "unique_words(myfile)"
   ]
  },
  {
   "cell_type": "code",
   "execution_count": 26,
   "metadata": {
    "deletable": false,
    "editable": false,
    "nbgrader": {
     "cell_type": "code",
     "checksum": "2da6c70a501092cb8054a807f4da8c95",
     "grade": true,
     "grade_id": "test_unique_words",
     "locked": true,
     "points": 4,
     "schema_version": 3,
     "solution": false
    }
   },
   "outputs": [],
   "source": [
    "# Hidden test cell\n"
   ]
  },
  {
   "cell_type": "markdown",
   "metadata": {
    "deletable": false,
    "editable": false,
    "nbgrader": {
     "cell_type": "markdown",
     "checksum": "db1fff76aa6e25d862a347630a01b66a",
     "grade": false,
     "grade_id": "cell-1e3fcc4d33da4858",
     "locked": true,
     "schema_version": 3,
     "solution": false,
     "task": false
    }
   },
   "source": [
    "### Short questions about lists and strings\n",
    "\n",
    "**NOTE:** These were specifically about the reading. You have points removed if your solution wasn't what we were focused on in the text.  Also, we want general purpose functions that work on lists or strings, not hard-coded upper case \"I\" etc."
   ]
  },
  {
   "cell_type": "code",
   "execution_count": 27,
   "metadata": {
    "deletable": false,
    "editable": false,
    "nbgrader": {
     "cell_type": "code",
     "checksum": "b61a27515302aa8814f9fa9ea556684e",
     "grade": false,
     "grade_id": "cell-cd549c442468d1e0",
     "locked": true,
     "schema_version": 3,
     "solution": false
    }
   },
   "outputs": [],
   "source": [
    "# a) Write a function that takes a list of words like this and joins it into a single string separated by spaces. Print the result.\n",
    "words = [\"I'm\", \"sorry\", \"Dave\", \"I\", \"can't\", \"do\", \"that.\"]"
   ]
  },
  {
   "cell_type": "code",
   "execution_count": 28,
   "metadata": {
    "deletable": false,
    "nbgrader": {
     "cell_type": "code",
     "checksum": "800a2640d099c7ef6f9695b392ed74a4",
     "grade": false,
     "grade_id": "print_strings",
     "locked": false,
     "schema_version": 3,
     "solution": true
    }
   },
   "outputs": [],
   "source": [
    "def print_string(wordlist):\n",
    "    sentence = \" \".join(wordlist)\n",
    "    return sentence"
   ]
  },
  {
   "cell_type": "code",
   "execution_count": 29,
   "metadata": {},
   "outputs": [
    {
     "data": {
      "text/plain": [
       "\"I'm sorry Dave I can't do that.\""
      ]
     },
     "execution_count": 29,
     "metadata": {},
     "output_type": "execute_result"
    }
   ],
   "source": [
    "# show it works with the list above (words)\n",
    "print_string(words)"
   ]
  },
  {
   "cell_type": "code",
   "execution_count": 30,
   "metadata": {
    "deletable": false,
    "editable": false,
    "nbgrader": {
     "cell_type": "code",
     "checksum": "4b0dd88694584159eebc0acd9d54ac23",
     "grade": true,
     "grade_id": "test_print_strings",
     "locked": true,
     "points": 1,
     "schema_version": 3,
     "solution": false
    }
   },
   "outputs": [],
   "source": [
    "# Hidden test cell\n"
   ]
  },
  {
   "cell_type": "code",
   "execution_count": 31,
   "metadata": {
    "deletable": false,
    "editable": false,
    "nbgrader": {
     "cell_type": "code",
     "checksum": "a180c1d04e4f7d7eac59fafcd5956be9",
     "grade": false,
     "grade_id": "cell-b62284db13ebae20",
     "locked": true,
     "schema_version": 3,
     "solution": false
    }
   },
   "outputs": [],
   "source": [
    "# b) How would you split this into separate data values using the comma? \n",
    "# Write a function that returns the list of strings.\n",
    "csvstring = \"34,fred  ,25,35.5,24,india\""
   ]
  },
  {
   "cell_type": "code",
   "execution_count": 32,
   "metadata": {
    "deletable": false,
    "nbgrader": {
     "cell_type": "code",
     "checksum": "3f5641492c32faa58f591b9601589e00",
     "grade": false,
     "grade_id": "separate_words",
     "locked": false,
     "schema_version": 3,
     "solution": true
    }
   },
   "outputs": [],
   "source": [
    "def separate_words(string):\n",
    "    return string.split(\",\")"
   ]
  },
  {
   "cell_type": "code",
   "execution_count": 33,
   "metadata": {},
   "outputs": [
    {
     "data": {
      "text/plain": [
       "['34', 'fred  ', '25', '35.5', '24', 'india']"
      ]
     },
     "execution_count": 33,
     "metadata": {},
     "output_type": "execute_result"
    }
   ],
   "source": [
    "# show it works on the csvstring above.\n",
    "separate_words(csvstring)"
   ]
  },
  {
   "cell_type": "code",
   "execution_count": 34,
   "metadata": {
    "deletable": false,
    "editable": false,
    "nbgrader": {
     "cell_type": "code",
     "checksum": "36ec475c62176ef4d98924264aebb3eb",
     "grade": true,
     "grade_id": "test_separate_words",
     "locked": true,
     "points": 1,
     "schema_version": 3,
     "solution": false
    }
   },
   "outputs": [],
   "source": [
    "# Hidden test cell\n"
   ]
  },
  {
   "cell_type": "markdown",
   "metadata": {},
   "source": [
    "**NOTE:** Again, use a general function, there are many for helping with string operations."
   ]
  },
  {
   "cell_type": "markdown",
   "metadata": {
    "collapsed": true,
    "deletable": false,
    "editable": false,
    "nbgrader": {
     "cell_type": "markdown",
     "checksum": "6fc645c3563e9400a0a12d4dec48ba4e",
     "grade": false,
     "grade_id": "cell-de05546704588f98",
     "locked": true,
     "schema_version": 3,
     "solution": false
    }
   },
   "source": [
    "c) Write a function that uses a for-loop to remove whitespace from around the words using strip, \n",
    "capitalizes the words, and prints the length of each of the strings in your words list above after doing those cleaning operations. Return a clean list of the same words, with caps and no spaces around each one."
   ]
  },
  {
   "cell_type": "code",
   "execution_count": 35,
   "metadata": {
    "deletable": false,
    "nbgrader": {
     "cell_type": "code",
     "checksum": "5495d09c8fd3e088d520915afef6c3fa",
     "grade": false,
     "grade_id": "clean_words",
     "locked": false,
     "schema_version": 3,
     "solution": true
    }
   },
   "outputs": [],
   "source": [
    "words = ['34', 'fred  ', '25', '35.5', '24', 'india']\n",
    "\n",
    "def clean_words(wordlist):\n",
    "    \"\"\" Takes a list of strings and capitalizes words, removes blank spaces around any of them.\n",
    "    Returns a cleaned list.\"\"\"\n",
    "    \n",
    "    cleaned_list = []\n",
    "    for word in wordlist:\n",
    "        cleaned_word = word.strip().capitalize()\n",
    "        print(len(cleaned_word))\n",
    "        cleaned_list.append(cleaned_word)\n",
    "    return cleaned_list"
   ]
  },
  {
   "cell_type": "code",
   "execution_count": 36,
   "metadata": {},
   "outputs": [
    {
     "name": "stdout",
     "output_type": "stream",
     "text": [
      "2\n",
      "4\n",
      "2\n",
      "4\n",
      "2\n",
      "5\n"
     ]
    },
    {
     "data": {
      "text/plain": [
       "['34', 'Fred', '25', '35.5', '24', 'India']"
      ]
     },
     "execution_count": 36,
     "metadata": {},
     "output_type": "execute_result"
    }
   ],
   "source": [
    "# this should work for you and return the list of cleaned words:\n",
    "clean_words(words)"
   ]
  },
  {
   "cell_type": "code",
   "execution_count": 37,
   "metadata": {
    "deletable": false,
    "editable": false,
    "nbgrader": {
     "cell_type": "code",
     "checksum": "7556acefc50429afa5f6e1c60f9b6155",
     "grade": true,
     "grade_id": "test_clean_words",
     "locked": true,
     "points": 2,
     "schema_version": 3,
     "solution": false
    }
   },
   "outputs": [],
   "source": [
    "# Hidden test cell\n"
   ]
  },
  {
   "cell_type": "markdown",
   "metadata": {
    "collapsed": true,
    "deletable": false,
    "editable": false,
    "nbgrader": {
     "cell_type": "markdown",
     "checksum": "0327fca2bbd3d8df79a7fe6c7221e115",
     "grade": false,
     "grade_id": "cell-b561ab82ecfbe66d",
     "locked": true,
     "schema_version": 3,
     "solution": false,
     "task": false
    }
   },
   "source": [
    "d) Create a variable \"sliced_words\" using index slicing to get the first 4 elements of the \"words\" list above."
   ]
  },
  {
   "cell_type": "code",
   "execution_count": 38,
   "metadata": {
    "deletable": false,
    "nbgrader": {
     "cell_type": "code",
     "checksum": "de0d52c507ba3c6b20cda4990c341dbe",
     "grade": false,
     "grade_id": "slicing",
     "locked": false,
     "schema_version": 3,
     "solution": true,
     "task": false
    }
   },
   "outputs": [
    {
     "data": {
      "text/plain": [
       "['34', 'fred  ', '25', '35.5']"
      ]
     },
     "execution_count": 38,
     "metadata": {},
     "output_type": "execute_result"
    }
   ],
   "source": [
    "sliced_words = words[:4]\n",
    "sliced_words"
   ]
  },
  {
   "cell_type": "code",
   "execution_count": 39,
   "metadata": {
    "deletable": false,
    "editable": false,
    "nbgrader": {
     "cell_type": "code",
     "checksum": "8f1d979095a661f2d0bd56efdd156a28",
     "grade": true,
     "grade_id": "cell-a0f31fe36cabd9d6",
     "locked": true,
     "points": 1,
     "schema_version": 3,
     "solution": false,
     "task": false
    }
   },
   "outputs": [],
   "source": [
    "# Hidden test cell\n"
   ]
  }
 ],
 "metadata": {
  "anaconda-cloud": {},
  "kernelspec": {
   "display_name": "Python 3 (ipykernel)",
   "language": "python",
   "name": "python3"
  },
  "language_info": {
   "codemirror_mode": {
    "name": "ipython",
    "version": 3
   },
   "file_extension": ".py",
   "mimetype": "text/x-python",
   "name": "python",
   "nbconvert_exporter": "python",
   "pygments_lexer": "ipython3",
   "version": "3.9.13"
  }
 },
 "nbformat": 4,
 "nbformat_minor": 1
}
