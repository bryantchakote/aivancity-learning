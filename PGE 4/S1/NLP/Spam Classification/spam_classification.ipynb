{
  "cells": [
    {
      "cell_type": "markdown",
      "id": "4bdf63c1",
      "metadata": {
        "id": "4bdf63c1"
      },
      "source": [
        "# Overview"
      ]
    },
    {
      "cell_type": "markdown",
      "id": "a29104ba",
      "metadata": {
        "id": "a29104ba"
      },
      "source": [
        "The aim of this project is to train a model to filter spam messages. It's a classic example when talking about Natural Language Processing and we found interesting working on it for our first NLP project.\n",
        "\n",
        "Our group is composed of:\n",
        "\n",
        "- Bryan Tchakote (PGE 4)\n",
        "- Daniela Wouelebak (PGE 4)\n",
        "- Stella Detio (PGE 4)\n",
        "\n",
        "Without further delay let's dive into it!"
      ]
    },
    {
      "cell_type": "markdown",
      "id": "e193c7e4",
      "metadata": {
        "id": "e193c7e4"
      },
      "source": [
        "# Read and explore the data"
      ]
    },
    {
      "cell_type": "code",
      "execution_count": 1,
      "id": "b774ba7e",
      "metadata": {
        "colab": {
          "base_uri": "https://localhost:8080/",
          "height": 206
        },
        "id": "b774ba7e",
        "outputId": "86ef3dc1-83a8-4262-964c-e787efa14de6"
      },
      "outputs": [
        {
          "output_type": "execute_result",
          "data": {
            "text/plain": [
              "      0                                                  1\n",
              "0   ham  I've been searching for the right words to tha...\n",
              "1  spam  Free entry in 2 a wkly comp to win FA Cup fina...\n",
              "2   ham  Nah I don't think he goes to usf, he lives aro...\n",
              "3   ham  Even my brother is not like to speak with me. ...\n",
              "4   ham                I HAVE A DATE ON SUNDAY WITH WILL!!"
            ],
            "text/html": [
              "\n",
              "  <div id=\"df-a42b3968-4db8-4b87-923d-93361cbe5a0a\">\n",
              "    <div class=\"colab-df-container\">\n",
              "      <div>\n",
              "<style scoped>\n",
              "    .dataframe tbody tr th:only-of-type {\n",
              "        vertical-align: middle;\n",
              "    }\n",
              "\n",
              "    .dataframe tbody tr th {\n",
              "        vertical-align: top;\n",
              "    }\n",
              "\n",
              "    .dataframe thead th {\n",
              "        text-align: right;\n",
              "    }\n",
              "</style>\n",
              "<table border=\"1\" class=\"dataframe\">\n",
              "  <thead>\n",
              "    <tr style=\"text-align: right;\">\n",
              "      <th></th>\n",
              "      <th>0</th>\n",
              "      <th>1</th>\n",
              "    </tr>\n",
              "  </thead>\n",
              "  <tbody>\n",
              "    <tr>\n",
              "      <th>0</th>\n",
              "      <td>ham</td>\n",
              "      <td>I've been searching for the right words to tha...</td>\n",
              "    </tr>\n",
              "    <tr>\n",
              "      <th>1</th>\n",
              "      <td>spam</td>\n",
              "      <td>Free entry in 2 a wkly comp to win FA Cup fina...</td>\n",
              "    </tr>\n",
              "    <tr>\n",
              "      <th>2</th>\n",
              "      <td>ham</td>\n",
              "      <td>Nah I don't think he goes to usf, he lives aro...</td>\n",
              "    </tr>\n",
              "    <tr>\n",
              "      <th>3</th>\n",
              "      <td>ham</td>\n",
              "      <td>Even my brother is not like to speak with me. ...</td>\n",
              "    </tr>\n",
              "    <tr>\n",
              "      <th>4</th>\n",
              "      <td>ham</td>\n",
              "      <td>I HAVE A DATE ON SUNDAY WITH WILL!!</td>\n",
              "    </tr>\n",
              "  </tbody>\n",
              "</table>\n",
              "</div>\n",
              "      <button class=\"colab-df-convert\" onclick=\"convertToInteractive('df-a42b3968-4db8-4b87-923d-93361cbe5a0a')\"\n",
              "              title=\"Convert this dataframe to an interactive table.\"\n",
              "              style=\"display:none;\">\n",
              "        \n",
              "  <svg xmlns=\"http://www.w3.org/2000/svg\" height=\"24px\"viewBox=\"0 0 24 24\"\n",
              "       width=\"24px\">\n",
              "    <path d=\"M0 0h24v24H0V0z\" fill=\"none\"/>\n",
              "    <path d=\"M18.56 5.44l.94 2.06.94-2.06 2.06-.94-2.06-.94-.94-2.06-.94 2.06-2.06.94zm-11 1L8.5 8.5l.94-2.06 2.06-.94-2.06-.94L8.5 2.5l-.94 2.06-2.06.94zm10 10l.94 2.06.94-2.06 2.06-.94-2.06-.94-.94-2.06-.94 2.06-2.06.94z\"/><path d=\"M17.41 7.96l-1.37-1.37c-.4-.4-.92-.59-1.43-.59-.52 0-1.04.2-1.43.59L10.3 9.45l-7.72 7.72c-.78.78-.78 2.05 0 2.83L4 21.41c.39.39.9.59 1.41.59.51 0 1.02-.2 1.41-.59l7.78-7.78 2.81-2.81c.8-.78.8-2.07 0-2.86zM5.41 20L4 18.59l7.72-7.72 1.47 1.35L5.41 20z\"/>\n",
              "  </svg>\n",
              "      </button>\n",
              "      \n",
              "  <style>\n",
              "    .colab-df-container {\n",
              "      display:flex;\n",
              "      flex-wrap:wrap;\n",
              "      gap: 12px;\n",
              "    }\n",
              "\n",
              "    .colab-df-convert {\n",
              "      background-color: #E8F0FE;\n",
              "      border: none;\n",
              "      border-radius: 50%;\n",
              "      cursor: pointer;\n",
              "      display: none;\n",
              "      fill: #1967D2;\n",
              "      height: 32px;\n",
              "      padding: 0 0 0 0;\n",
              "      width: 32px;\n",
              "    }\n",
              "\n",
              "    .colab-df-convert:hover {\n",
              "      background-color: #E2EBFA;\n",
              "      box-shadow: 0px 1px 2px rgba(60, 64, 67, 0.3), 0px 1px 3px 1px rgba(60, 64, 67, 0.15);\n",
              "      fill: #174EA6;\n",
              "    }\n",
              "\n",
              "    [theme=dark] .colab-df-convert {\n",
              "      background-color: #3B4455;\n",
              "      fill: #D2E3FC;\n",
              "    }\n",
              "\n",
              "    [theme=dark] .colab-df-convert:hover {\n",
              "      background-color: #434B5C;\n",
              "      box-shadow: 0px 1px 3px 1px rgba(0, 0, 0, 0.15);\n",
              "      filter: drop-shadow(0px 1px 2px rgba(0, 0, 0, 0.3));\n",
              "      fill: #FFFFFF;\n",
              "    }\n",
              "  </style>\n",
              "\n",
              "      <script>\n",
              "        const buttonEl =\n",
              "          document.querySelector('#df-a42b3968-4db8-4b87-923d-93361cbe5a0a button.colab-df-convert');\n",
              "        buttonEl.style.display =\n",
              "          google.colab.kernel.accessAllowed ? 'block' : 'none';\n",
              "\n",
              "        async function convertToInteractive(key) {\n",
              "          const element = document.querySelector('#df-a42b3968-4db8-4b87-923d-93361cbe5a0a');\n",
              "          const dataTable =\n",
              "            await google.colab.kernel.invokeFunction('convertToInteractive',\n",
              "                                                     [key], {});\n",
              "          if (!dataTable) return;\n",
              "\n",
              "          const docLinkHtml = 'Like what you see? Visit the ' +\n",
              "            '<a target=\"_blank\" href=https://colab.research.google.com/notebooks/data_table.ipynb>data table notebook</a>'\n",
              "            + ' to learn more about interactive tables.';\n",
              "          element.innerHTML = '';\n",
              "          dataTable['output_type'] = 'display_data';\n",
              "          await google.colab.output.renderOutput(dataTable, element);\n",
              "          const docLink = document.createElement('div');\n",
              "          docLink.innerHTML = docLinkHtml;\n",
              "          element.appendChild(docLink);\n",
              "        }\n",
              "      </script>\n",
              "    </div>\n",
              "  </div>\n",
              "  "
            ]
          },
          "metadata": {},
          "execution_count": 1
        }
      ],
      "source": [
        "import pandas as pd\n",
        "df = pd.read_csv('SMSSpamCollection.tsv', sep='\\t', header=None)\n",
        "df.head()"
      ]
    },
    {
      "cell_type": "code",
      "execution_count": 2,
      "id": "91493b45",
      "metadata": {
        "colab": {
          "base_uri": "https://localhost:8080/"
        },
        "id": "91493b45",
        "outputId": "603f15ed-eb97-4cb4-bf3f-430770824feb"
      },
      "outputs": [
        {
          "output_type": "stream",
          "name": "stdout",
          "text": [
            "5568 rows, 2 columns.\n"
          ]
        }
      ],
      "source": [
        "print(f'{df.shape[0]} rows, {df.shape[1]} columns.')"
      ]
    },
    {
      "cell_type": "code",
      "execution_count": 3,
      "id": "765b4da6",
      "metadata": {
        "id": "765b4da6"
      },
      "outputs": [],
      "source": [
        "# Rename the columns\n",
        "df.columns = ['type', 'text']"
      ]
    },
    {
      "cell_type": "code",
      "execution_count": 4,
      "id": "7dca8b61",
      "metadata": {
        "colab": {
          "base_uri": "https://localhost:8080/"
        },
        "id": "7dca8b61",
        "outputId": "6bdfc0a2-a957-4420-bf6f-0ecc259cec25"
      },
      "outputs": [
        {
          "output_type": "execute_result",
          "data": {
            "text/plain": [
              "type    False\n",
              "text    False\n",
              "dtype: bool"
            ]
          },
          "metadata": {},
          "execution_count": 4
        }
      ],
      "source": [
        "# Checking for missing data\n",
        "df.isnull().any()"
      ]
    },
    {
      "cell_type": "markdown",
      "id": "2b816210",
      "metadata": {
        "id": "2b816210"
      },
      "source": [
        "No missing data."
      ]
    },
    {
      "cell_type": "code",
      "execution_count": 5,
      "id": "e6df2c21",
      "metadata": {
        "scrolled": false,
        "colab": {
          "base_uri": "https://localhost:8080/",
          "height": 112
        },
        "id": "e6df2c21",
        "outputId": "72068ebb-e798-4ba2-cce0-53366d728ca7"
      },
      "outputs": [
        {
          "output_type": "execute_result",
          "data": {
            "text/plain": [
              "      count      pct\n",
              "ham    4822  0.86602\n",
              "spam    746  0.13398"
            ],
            "text/html": [
              "\n",
              "  <div id=\"df-52bfa9d6-a372-416b-9362-474a070318bf\">\n",
              "    <div class=\"colab-df-container\">\n",
              "      <div>\n",
              "<style scoped>\n",
              "    .dataframe tbody tr th:only-of-type {\n",
              "        vertical-align: middle;\n",
              "    }\n",
              "\n",
              "    .dataframe tbody tr th {\n",
              "        vertical-align: top;\n",
              "    }\n",
              "\n",
              "    .dataframe thead th {\n",
              "        text-align: right;\n",
              "    }\n",
              "</style>\n",
              "<table border=\"1\" class=\"dataframe\">\n",
              "  <thead>\n",
              "    <tr style=\"text-align: right;\">\n",
              "      <th></th>\n",
              "      <th>count</th>\n",
              "      <th>pct</th>\n",
              "    </tr>\n",
              "  </thead>\n",
              "  <tbody>\n",
              "    <tr>\n",
              "      <th>ham</th>\n",
              "      <td>4822</td>\n",
              "      <td>0.86602</td>\n",
              "    </tr>\n",
              "    <tr>\n",
              "      <th>spam</th>\n",
              "      <td>746</td>\n",
              "      <td>0.13398</td>\n",
              "    </tr>\n",
              "  </tbody>\n",
              "</table>\n",
              "</div>\n",
              "      <button class=\"colab-df-convert\" onclick=\"convertToInteractive('df-52bfa9d6-a372-416b-9362-474a070318bf')\"\n",
              "              title=\"Convert this dataframe to an interactive table.\"\n",
              "              style=\"display:none;\">\n",
              "        \n",
              "  <svg xmlns=\"http://www.w3.org/2000/svg\" height=\"24px\"viewBox=\"0 0 24 24\"\n",
              "       width=\"24px\">\n",
              "    <path d=\"M0 0h24v24H0V0z\" fill=\"none\"/>\n",
              "    <path d=\"M18.56 5.44l.94 2.06.94-2.06 2.06-.94-2.06-.94-.94-2.06-.94 2.06-2.06.94zm-11 1L8.5 8.5l.94-2.06 2.06-.94-2.06-.94L8.5 2.5l-.94 2.06-2.06.94zm10 10l.94 2.06.94-2.06 2.06-.94-2.06-.94-.94-2.06-.94 2.06-2.06.94z\"/><path d=\"M17.41 7.96l-1.37-1.37c-.4-.4-.92-.59-1.43-.59-.52 0-1.04.2-1.43.59L10.3 9.45l-7.72 7.72c-.78.78-.78 2.05 0 2.83L4 21.41c.39.39.9.59 1.41.59.51 0 1.02-.2 1.41-.59l7.78-7.78 2.81-2.81c.8-.78.8-2.07 0-2.86zM5.41 20L4 18.59l7.72-7.72 1.47 1.35L5.41 20z\"/>\n",
              "  </svg>\n",
              "      </button>\n",
              "      \n",
              "  <style>\n",
              "    .colab-df-container {\n",
              "      display:flex;\n",
              "      flex-wrap:wrap;\n",
              "      gap: 12px;\n",
              "    }\n",
              "\n",
              "    .colab-df-convert {\n",
              "      background-color: #E8F0FE;\n",
              "      border: none;\n",
              "      border-radius: 50%;\n",
              "      cursor: pointer;\n",
              "      display: none;\n",
              "      fill: #1967D2;\n",
              "      height: 32px;\n",
              "      padding: 0 0 0 0;\n",
              "      width: 32px;\n",
              "    }\n",
              "\n",
              "    .colab-df-convert:hover {\n",
              "      background-color: #E2EBFA;\n",
              "      box-shadow: 0px 1px 2px rgba(60, 64, 67, 0.3), 0px 1px 3px 1px rgba(60, 64, 67, 0.15);\n",
              "      fill: #174EA6;\n",
              "    }\n",
              "\n",
              "    [theme=dark] .colab-df-convert {\n",
              "      background-color: #3B4455;\n",
              "      fill: #D2E3FC;\n",
              "    }\n",
              "\n",
              "    [theme=dark] .colab-df-convert:hover {\n",
              "      background-color: #434B5C;\n",
              "      box-shadow: 0px 1px 3px 1px rgba(0, 0, 0, 0.15);\n",
              "      filter: drop-shadow(0px 1px 2px rgba(0, 0, 0, 0.3));\n",
              "      fill: #FFFFFF;\n",
              "    }\n",
              "  </style>\n",
              "\n",
              "      <script>\n",
              "        const buttonEl =\n",
              "          document.querySelector('#df-52bfa9d6-a372-416b-9362-474a070318bf button.colab-df-convert');\n",
              "        buttonEl.style.display =\n",
              "          google.colab.kernel.accessAllowed ? 'block' : 'none';\n",
              "\n",
              "        async function convertToInteractive(key) {\n",
              "          const element = document.querySelector('#df-52bfa9d6-a372-416b-9362-474a070318bf');\n",
              "          const dataTable =\n",
              "            await google.colab.kernel.invokeFunction('convertToInteractive',\n",
              "                                                     [key], {});\n",
              "          if (!dataTable) return;\n",
              "\n",
              "          const docLinkHtml = 'Like what you see? Visit the ' +\n",
              "            '<a target=\"_blank\" href=https://colab.research.google.com/notebooks/data_table.ipynb>data table notebook</a>'\n",
              "            + ' to learn more about interactive tables.';\n",
              "          element.innerHTML = '';\n",
              "          dataTable['output_type'] = 'display_data';\n",
              "          await google.colab.output.renderOutput(dataTable, element);\n",
              "          const docLink = document.createElement('div');\n",
              "          docLink.innerHTML = docLinkHtml;\n",
              "          element.appendChild(docLink);\n",
              "        }\n",
              "      </script>\n",
              "    </div>\n",
              "  </div>\n",
              "  "
            ]
          },
          "metadata": {},
          "execution_count": 5
        }
      ],
      "source": [
        "# Getting the target variable (class) distribution\n",
        "pd.concat([df.type.value_counts(), df.type.value_counts(normalize=True)], axis=1, keys=['count', 'pct'])"
      ]
    },
    {
      "cell_type": "markdown",
      "id": "36a19403",
      "metadata": {
        "id": "36a19403"
      },
      "source": [
        "Unbalanced data: much more ham messages than spam."
      ]
    },
    {
      "cell_type": "code",
      "execution_count": 6,
      "id": "a1e7814a",
      "metadata": {
        "id": "a1e7814a"
      },
      "outputs": [],
      "source": [
        "# Data splitting\n",
        "from sklearn.model_selection import train_test_split\n",
        "X_train, X_test, y_train, y_test = train_test_split(df[['text']], df[['type']], test_size=.2, random_state=42, stratify=df[['type']])"
      ]
    },
    {
      "cell_type": "markdown",
      "id": "d737dfc0",
      "metadata": {
        "id": "d737dfc0"
      },
      "source": [
        "# Feature engineering"
      ]
    },
    {
      "cell_type": "markdown",
      "id": "78f614ad",
      "metadata": {
        "id": "78f614ad"
      },
      "source": [
        "Here we're going to add three new features to our data: the message length and the punctuation and uppercase characters percentage."
      ]
    },
    {
      "cell_type": "code",
      "execution_count": 7,
      "id": "970347a7",
      "metadata": {
        "id": "970347a7"
      },
      "outputs": [],
      "source": [
        "# Message length\n",
        "X_train['text_len'] = X_train.text.apply(lambda x: len(x) - x.count(' '))"
      ]
    },
    {
      "cell_type": "code",
      "execution_count": 8,
      "id": "e527f23c",
      "metadata": {
        "id": "e527f23c"
      },
      "outputs": [],
      "source": [
        "# Punctuation percentage\n",
        "import re\n",
        "import string\n",
        "X_train['punct_pct'] = [len(re.findall(f'[{string.punctuation}]', text)) / (len(text) - text.count(' ')) for text in X_train.text]"
      ]
    },
    {
      "cell_type": "code",
      "execution_count": 9,
      "id": "37f91799",
      "metadata": {
        "id": "37f91799"
      },
      "outputs": [],
      "source": [
        "# Uppercase percentage\n",
        "X_train['upper_pct'] = [len(re.findall('[A-Z]', text)) / (len(text) - text.count(' ')) for text in X_train.text]"
      ]
    },
    {
      "cell_type": "code",
      "execution_count": 10,
      "id": "6d1a40bf",
      "metadata": {
        "scrolled": true,
        "colab": {
          "base_uri": "https://localhost:8080/",
          "height": 353
        },
        "id": "6d1a40bf",
        "outputId": "ff4f85d4-a574-4663-b2dd-76db4c15b2ee"
      },
      "outputs": [
        {
          "output_type": "display_data",
          "data": {
            "text/plain": [
              "<Figure size 1600x400 with 3 Axes>"
            ],
            "image/png": "[encoded data removed]"
          },
          "metadata": {}
        }
      ],
      "source": [
        "# Let's now evaluate our new features by plotting them\n",
        "import numpy as np\n",
        "import matplotlib.pyplot as plt\n",
        "plt.style.use('seaborn-v0_8-darkgrid')\n",
        "\n",
        "fig, ax = plt.subplots(1, 3, figsize=(16, 4))\n",
        "plot_data = pd.concat([X_train, y_train], axis=1)\n",
        "for i in range(3):\n",
        "    bins = np.linspace(plot_data.iloc[:, i+1].min(), plot_data.iloc[:, i+1].max(), 100)\n",
        "    ax[i].hist(plot_data.query('type == \"ham\"').iloc[:, i+1], bins=bins, density=True, alpha=0.5, label='ham')\n",
        "    ax[i].hist(plot_data.query('type == \"spam\"').iloc[:, i+1], bins=bins, density=True, alpha=0.5, label='spam')\n",
        "    ax[i].set_xlabel(plot_data.columns[i+1])\n",
        "    ax[i].legend()\n",
        "plt.suptitle('New features\\' distribution depending on message type', y=.95, fontsize=18)\n",
        "plt.show()"
      ]
    },
    {
      "cell_type": "markdown",
      "id": "284041ac",
      "metadata": {
        "id": "284041ac"
      },
      "source": [
        "- According to the message length's distribution, spams seem to be longer than normal messages\n",
        "- Spams are also more likely to contain a lot of uppercase characters \n",
        "- All of the distributions above are right-skewed, we're going to use a Log Transformation to reduce that noise"
      ]
    },
    {
      "cell_type": "code",
      "execution_count": 11,
      "id": "0445bee0",
      "metadata": {
        "scrolled": true,
        "id": "0445bee0"
      },
      "outputs": [],
      "source": [
        "# Log transformation\n",
        "## Since log(0) is -inf, we replace 0 by the min value greater than 0\n",
        "## for each variable before applying the log function\n",
        "text_len_positive_min = X_train.query('text_len > 0').text_len.min()\n",
        "punct_pct_positive_min = X_train.query('punct_pct > 0').punct_pct.min()\n",
        "upper_pct_positive_min = X_train.query('upper_pct > 0').upper_pct.min()\n",
        "\n",
        "X_train.loc[X_train.text_len == 0, 'text_len'] = text_len_positive_min\n",
        "X_train.loc[X_train.punct_pct == 0, 'punct_pct'] = punct_pct_positive_min\n",
        "X_train.loc[X_train.upper_pct == 0, 'upper_pct'] = upper_pct_positive_min\n",
        "\n",
        "X_train['text_len_log'] = np.log(X_train.text_len)\n",
        "X_train['punct_pct_log'] = np.log(X_train.punct_pct)\n",
        "X_train['upper_pct_log'] = np.log(X_train.upper_pct)"
      ]
    },
    {
      "cell_type": "code",
      "execution_count": 12,
      "id": "c07d201f",
      "metadata": {
        "colab": {
          "base_uri": "https://localhost:8080/",
          "height": 360
        },
        "id": "c07d201f",
        "outputId": "1a17a203-1e53-47c5-e63c-6219a5536ee5"
      },
      "outputs": [
        {
          "output_type": "display_data",
          "data": {
            "text/plain": [
              "<Figure size 1600x400 with 3 Axes>"
            ],
            "image/png": "[encoded data removed]"
          },
          "metadata": {}
        }
      ],
      "source": [
        "# Visualize the transformed data\n",
        "fig, ax = plt.subplots(1, 3, figsize=(16, 4))\n",
        "plot_data = pd.concat([X_train, y_train], axis=1)\n",
        "for i in range(3):\n",
        "    bins = np.linspace(plot_data.iloc[:, i+4].min(), plot_data.iloc[:, i+4].max(), 100)\n",
        "    ax[i].hist(plot_data.query('type == \"ham\"').iloc[:, i+4], bins=bins, density=True, alpha=0.5, label='ham')\n",
        "    ax[i].hist(plot_data.query('type == \"spam\"').iloc[:, i+4], bins=bins, density=True, alpha=0.5, label='spam')\n",
        "    ax[i].set_xlabel(plot_data.columns[i+4])\n",
        "    ax[i].legend()\n",
        "plt.suptitle('New features\\' log distribution depending on message type', y=.95, fontsize=18)\n",
        "plt.show()"
      ]
    },
    {
      "cell_type": "markdown",
      "id": "a5104698",
      "metadata": {
        "id": "a5104698"
      },
      "source": [
        "# Data Preprocessing"
      ]
    },
    {
      "cell_type": "code",
      "execution_count": 13,
      "id": "81206d15",
      "metadata": {
        "id": "81206d15"
      },
      "outputs": [],
      "source": [
        "# Lowercase\n",
        "X_train.text = X_train.text.str.lower()"
      ]
    },
    {
      "cell_type": "code",
      "execution_count": 14,
      "id": "f1e66b92",
      "metadata": {
        "id": "f1e66b92"
      },
      "outputs": [],
      "source": [
        "# Unicode characters\n",
        "unicode_pattern = '(@\\[A-Za-z0-9]+)|([^0-9A-Za-z \\t])|(\\w+:\\/\\/\\S+)|^rt|http.+?'\n",
        "X_train.text = [re.sub(unicode_pattern, ' ', text) for text in X_train.text]"
      ]
    },
    {
      "cell_type": "code",
      "source": [
        "import nltk\n",
        "nltk.download('stopwords')\n",
        "nltk.download('wordnet')"
      ],
      "metadata": {
        "colab": {
          "base_uri": "https://localhost:8080/"
        },
        "id": "wXAR0ZNdjsWe",
        "outputId": "dcb60656-270b-48c6-8a1a-2e1b4fa408ba"
      },
      "id": "wXAR0ZNdjsWe",
      "execution_count": 15,
      "outputs": [
        {
          "output_type": "stream",
          "name": "stderr",
          "text": [
            "[nltk_data] Downloading package stopwords to /root/nltk_data...\n",
            "[nltk_data]   Unzipping corpora/stopwords.zip.\n",
            "[nltk_data] Downloading package wordnet to /root/nltk_data...\n"
          ]
        },
        {
          "output_type": "execute_result",
          "data": {
            "text/plain": [
              "True"
            ]
          },
          "metadata": {},
          "execution_count": 15
        }
      ]
    },
    {
      "cell_type": "code",
      "execution_count": 16,
      "id": "9e5747ee",
      "metadata": {
        "id": "9e5747ee"
      },
      "outputs": [],
      "source": [
        "# Stopwords\n",
        "from nltk.corpus import stopwords\n",
        "stop = stopwords.words('english')\n",
        "X_train.text = [[word for word in text.split() if word not in (stop)] for text in X_train.text]"
      ]
    },
    {
      "cell_type": "code",
      "execution_count": 17,
      "id": "43fc57e6",
      "metadata": {
        "id": "43fc57e6"
      },
      "outputs": [],
      "source": [
        "# Lemmatizing\n",
        "from nltk.stem import WordNetLemmatizer\n",
        "lemmatizer = WordNetLemmatizer()\n",
        "X_train.text = [' '.join([lemmatizer.lemmatize(word) for word in words]) for words in X_train.text]"
      ]
    },
    {
      "cell_type": "code",
      "execution_count": 18,
      "id": "152ed114",
      "metadata": {
        "id": "152ed114"
      },
      "outputs": [],
      "source": [
        "# Text vectorizing (TF-IDF)\n",
        "from sklearn.feature_extraction.text import TfidfVectorizer\n",
        "vectorizer = TfidfVectorizer()\n",
        "vectorizer.fit(X_train.text)\n",
        "vectorized_text = pd.DataFrame(vectorizer.transform(X_train.text).toarray())"
      ]
    },
    {
      "cell_type": "code",
      "execution_count": 19,
      "id": "d51658cf",
      "metadata": {
        "id": "d51658cf"
      },
      "outputs": [],
      "source": [
        "# Concatenating data\n",
        "X_train = X_train.drop(columns=['text', 'text_len', 'punct_pct', 'upper_pct'])\n",
        "X_train = pd.concat([X_train.reset_index().drop(columns='index'), vectorized_text], axis=1)\n",
        "X_train = np.array(X_train)"
      ]
    },
    {
      "cell_type": "code",
      "execution_count": 20,
      "id": "2699d2d4",
      "metadata": {
        "id": "2699d2d4"
      },
      "outputs": [],
      "source": [
        "# Target encoding\n",
        "y_train.loc[y_train.type == 'ham', 'type'] = 0\n",
        "y_train.loc[y_train.type == 'spam', 'type'] = 1\n",
        "y_train = np.array(y_train).ravel()\n",
        "\n",
        "from sklearn.preprocessing import LabelEncoder\n",
        "le = LabelEncoder()\n",
        "le.fit(y_train)\n",
        "y_train = le.transform(y_train)"
      ]
    },
    {
      "cell_type": "markdown",
      "id": "35e57c45",
      "metadata": {
        "id": "35e57c45"
      },
      "source": [
        "# Preprocessing Function"
      ]
    },
    {
      "cell_type": "code",
      "execution_count": 21,
      "id": "050b4065",
      "metadata": {
        "id": "050b4065"
      },
      "outputs": [],
      "source": [
        "def preprocessing_pipeline(X, y):\n",
        "    # Message length\n",
        "    X['text_len'] = X.text.apply(lambda x: len(x) - x.count(' '))\n",
        "\n",
        "    # Punctuation percentage\n",
        "    X['punct_pct'] = [len(re.findall(f'[{string.punctuation}]', text)) / (len(text) - text.count(' ')) for text in X.text]\n",
        "\n",
        "    # Uppercase percentage\n",
        "    X['upper_pct'] = [len(re.findall('[A-Z]', text)) / (len(text) - text.count(' ')) for text in X.text]\n",
        "\n",
        "    # Log transformation\n",
        "    X.loc[X.text_len == 0, 'text_len'] = text_len_positive_min\n",
        "    X.loc[X.punct_pct == 0, 'punct_pct'] = punct_pct_positive_min\n",
        "    X.loc[X.upper_pct == 0, 'upper_pct'] = upper_pct_positive_min\n",
        "\n",
        "    X['text_len_log'] = np.log(X.text_len)\n",
        "    X['punct_pct_log'] = np.log(X.punct_pct)\n",
        "    X['upper_pct_log'] = np.log(X.upper_pct)\n",
        "\n",
        "    # Lowercase\n",
        "    X.text = X.text.str.lower()\n",
        "\n",
        "    # Unicode characters\n",
        "    X.text = [re.sub(unicode_pattern, ' ', text) for text in X.text]\n",
        "\n",
        "    # Stopwords\n",
        "    X.text = [[word for word in text.split() if word not in (stop)] for text in X.text]\n",
        "\n",
        "    # Lemmatizing\n",
        "    X.text = [' '.join([lemmatizer.lemmatize(word) for word in words]) for words in X.text]\n",
        "\n",
        "    # Text vectorizing (TF-IDF)\n",
        "    vectorized_text = pd.DataFrame(vectorizer.transform(X.text).toarray())\n",
        "    \n",
        "    # Concatenating data\n",
        "    X = X.drop(columns=['text', 'text_len', 'punct_pct', 'upper_pct'])\n",
        "    X = pd.concat([X.reset_index().drop(columns='index'), vectorized_text], axis=1)\n",
        "    X = np.array(X)\n",
        "   \n",
        "    # Target encoding\n",
        "    y.loc[y.type == 'ham', 'type'] = 0\n",
        "    y.loc[y.type == 'spam', 'type'] = 1\n",
        "    y = np.array(y).ravel()\n",
        "    y = le.transform(y)\n",
        "    \n",
        "    return X, y"
      ]
    },
    {
      "cell_type": "markdown",
      "id": "ece6cf78",
      "metadata": {
        "id": "ece6cf78"
      },
      "source": [
        "# Model Training and Evaluation"
      ]
    },
    {
      "cell_type": "code",
      "execution_count": 22,
      "id": "44b5e840",
      "metadata": {
        "colab": {
          "base_uri": "https://localhost:8080/"
        },
        "id": "44b5e840",
        "outputId": "317b87b6-956d-4286-e4a1-93565479e36a"
      },
      "outputs": [
        {
          "output_type": "stream",
          "name": "stdout",
          "text": [
            "CPU times: user 2min 48s, sys: 5.3 s, total: 2min 54s\n",
            "Wall time: 2min\n"
          ]
        }
      ],
      "source": [
        "%%time\n",
        "from sklearn.metrics import log_loss\n",
        "from sklearn.model_selection import GridSearchCV\n",
        "from xgboost import XGBClassifier\n",
        "\n",
        "parameters = {'n_estimators': [30, 50], 'max_depth': [6, 15], 'learning_rate': [.5, 1]}\n",
        "xgb = XGBClassifier(objective='binary:logistic', booster='gbtree', eval_metric=log_loss,\n",
        "                    tree_method='gpu_hist', gpu_id=0, random_state=42)\n",
        "clf = GridSearchCV(xgb, parameters)\n",
        "clf.fit(X_train, y_train)\n",
        "\n",
        "X_test, y_test = preprocessing_pipeline(X_test, y_test)\n",
        "y_pred = clf.predict(X_test)"
      ]
    },
    {
      "cell_type": "code",
      "execution_count": 23,
      "id": "00486e2f",
      "metadata": {
        "scrolled": true,
        "colab": {
          "base_uri": "https://localhost:8080/",
          "height": 364
        },
        "id": "00486e2f",
        "outputId": "3ce8875a-7812-4017-8813-f7227510fb37"
      },
      "outputs": [
        {
          "output_type": "execute_result",
          "data": {
            "text/plain": [
              "   mean_fit_time  std_fit_time  mean_score_time  std_score_time  \\\n",
              "1       2.576728      0.216744         0.045326        0.016079   \n",
              "0       2.604518      0.672411         0.046081        0.015233   \n",
              "3       3.009115      0.236859         0.044590        0.012189   \n",
              "4       3.416990      0.920588         0.065166        0.041060   \n",
              "5       2.785451      0.326274         0.045650        0.014765   \n",
              "2       2.835508      0.196919         0.048342        0.016371   \n",
              "6       2.735305      0.333144         0.037347        0.000997   \n",
              "7       2.827663      0.441819         0.040537        0.003578   \n",
              "\n",
              "  param_learning_rate param_max_depth param_n_estimators  split0_test_score  \\\n",
              "1                 0.5               6                 50           0.984287   \n",
              "0                 0.5               6                 30           0.983165   \n",
              "3                 0.5              15                 50           0.980920   \n",
              "4                   1               6                 30           0.980920   \n",
              "5                   1               6                 50           0.980920   \n",
              "2                 0.5              15                 30           0.982043   \n",
              "6                   1              15                 30           0.976431   \n",
              "7                   1              15                 50           0.975309   \n",
              "\n",
              "   split1_test_score  split2_test_score  split3_test_score  split4_test_score  \\\n",
              "1           0.966330           0.983165           0.978676           0.971910   \n",
              "0           0.964085           0.984287           0.978676           0.973034   \n",
              "3           0.964085           0.980920           0.974186           0.969663   \n",
              "4           0.964085           0.975309           0.974186           0.974157   \n",
              "5           0.966330           0.977553           0.969697           0.973034   \n",
              "2           0.958474           0.979798           0.975309           0.968539   \n",
              "6           0.964085           0.978676           0.974186           0.966292   \n",
              "7           0.962963           0.978676           0.976431           0.965169   \n",
              "\n",
              "   mean_test_score  std_test_score  rank_test_score  \n",
              "1         0.976874        0.006835                1  \n",
              "0         0.976649        0.007427                2  \n",
              "3         0.973955        0.006526                3  \n",
              "4         0.973732        0.005433                4  \n",
              "5         0.973507        0.005246                5  \n",
              "2         0.972832        0.008533                6  \n",
              "6         0.971934        0.005730                7  \n",
              "7         0.971709        0.006373                8  "
            ],
            "text/html": [
              "\n",
              "  <div id=\"df-53f782e2-c652-4307-a28c-14769f91bc40\">\n",
              "    <div class=\"colab-df-container\">\n",
              "      <div>\n",
              "<style scoped>\n",
              "    .dataframe tbody tr th:only-of-type {\n",
              "        vertical-align: middle;\n",
              "    }\n",
              "\n",
              "    .dataframe tbody tr th {\n",
              "        vertical-align: top;\n",
              "    }\n",
              "\n",
              "    .dataframe thead th {\n",
              "        text-align: right;\n",
              "    }\n",
              "</style>\n",
              "<table border=\"1\" class=\"dataframe\">\n",
              "  <thead>\n",
              "    <tr style=\"text-align: right;\">\n",
              "      <th></th>\n",
              "      <th>mean_fit_time</th>\n",
              "      <th>std_fit_time</th>\n",
              "      <th>mean_score_time</th>\n",
              "      <th>std_score_time</th>\n",
              "      <th>param_learning_rate</th>\n",
              "      <th>param_max_depth</th>\n",
              "      <th>param_n_estimators</th>\n",
              "      <th>split0_test_score</th>\n",
              "      <th>split1_test_score</th>\n",
              "      <th>split2_test_score</th>\n",
              "      <th>split3_test_score</th>\n",
              "      <th>split4_test_score</th>\n",
              "      <th>mean_test_score</th>\n",
              "      <th>std_test_score</th>\n",
              "      <th>rank_test_score</th>\n",
              "    </tr>\n",
              "  </thead>\n",
              "  <tbody>\n",
              "    <tr>\n",
              "      <th>1</th>\n",
              "      <td>2.576728</td>\n",
              "      <td>0.216744</td>\n",
              "      <td>0.045326</td>\n",
              "      <td>0.016079</td>\n",
              "      <td>0.5</td>\n",
              "      <td>6</td>\n",
              "      <td>50</td>\n",
              "      <td>0.984287</td>\n",
              "      <td>0.966330</td>\n",
              "      <td>0.983165</td>\n",
              "      <td>0.978676</td>\n",
              "      <td>0.971910</td>\n",
              "      <td>0.976874</td>\n",
              "      <td>0.006835</td>\n",
              "      <td>1</td>\n",
              "    </tr>\n",
              "    <tr>\n",
              "      <th>0</th>\n",
              "      <td>2.604518</td>\n",
              "      <td>0.672411</td>\n",
              "      <td>0.046081</td>\n",
              "      <td>0.015233</td>\n",
              "      <td>0.5</td>\n",
              "      <td>6</td>\n",
              "      <td>30</td>\n",
              "      <td>0.983165</td>\n",
              "      <td>0.964085</td>\n",
              "      <td>0.984287</td>\n",
              "      <td>0.978676</td>\n",
              "      <td>0.973034</td>\n",
              "      <td>0.976649</td>\n",
              "      <td>0.007427</td>\n",
              "      <td>2</td>\n",
              "    </tr>\n",
              "    <tr>\n",
              "      <th>3</th>\n",
              "      <td>3.009115</td>\n",
              "      <td>0.236859</td>\n",
              "      <td>0.044590</td>\n",
              "      <td>0.012189</td>\n",
              "      <td>0.5</td>\n",
              "      <td>15</td>\n",
              "      <td>50</td>\n",
              "      <td>0.980920</td>\n",
              "      <td>0.964085</td>\n",
              "      <td>0.980920</td>\n",
              "      <td>0.974186</td>\n",
              "      <td>0.969663</td>\n",
              "      <td>0.973955</td>\n",
              "      <td>0.006526</td>\n",
              "      <td>3</td>\n",
              "    </tr>\n",
              "    <tr>\n",
              "      <th>4</th>\n",
              "      <td>3.416990</td>\n",
              "      <td>0.920588</td>\n",
              "      <td>0.065166</td>\n",
              "      <td>0.041060</td>\n",
              "      <td>1</td>\n",
              "      <td>6</td>\n",
              "      <td>30</td>\n",
              "      <td>0.980920</td>\n",
              "      <td>0.964085</td>\n",
              "      <td>0.975309</td>\n",
              "      <td>0.974186</td>\n",
              "      <td>0.974157</td>\n",
              "      <td>0.973732</td>\n",
              "      <td>0.005433</td>\n",
              "      <td>4</td>\n",
              "    </tr>\n",
              "    <tr>\n",
              "      <th>5</th>\n",
              "      <td>2.785451</td>\n",
              "      <td>0.326274</td>\n",
              "      <td>0.045650</td>\n",
              "      <td>0.014765</td>\n",
              "      <td>1</td>\n",
              "      <td>6</td>\n",
              "      <td>50</td>\n",
              "      <td>0.980920</td>\n",
              "      <td>0.966330</td>\n",
              "      <td>0.977553</td>\n",
              "      <td>0.969697</td>\n",
              "      <td>0.973034</td>\n",
              "      <td>0.973507</td>\n",
              "      <td>0.005246</td>\n",
              "      <td>5</td>\n",
              "    </tr>\n",
              "    <tr>\n",
              "      <th>2</th>\n",
              "      <td>2.835508</td>\n",
              "      <td>0.196919</td>\n",
              "      <td>0.048342</td>\n",
              "      <td>0.016371</td>\n",
              "      <td>0.5</td>\n",
              "      <td>15</td>\n",
              "      <td>30</td>\n",
              "      <td>0.982043</td>\n",
              "      <td>0.958474</td>\n",
              "      <td>0.979798</td>\n",
              "      <td>0.975309</td>\n",
              "      <td>0.968539</td>\n",
              "      <td>0.972832</td>\n",
              "      <td>0.008533</td>\n",
              "      <td>6</td>\n",
              "    </tr>\n",
              "    <tr>\n",
              "      <th>6</th>\n",
              "      <td>2.735305</td>\n",
              "      <td>0.333144</td>\n",
              "      <td>0.037347</td>\n",
              "      <td>0.000997</td>\n",
              "      <td>1</td>\n",
              "      <td>15</td>\n",
              "      <td>30</td>\n",
              "      <td>0.976431</td>\n",
              "      <td>0.964085</td>\n",
              "      <td>0.978676</td>\n",
              "      <td>0.974186</td>\n",
              "      <td>0.966292</td>\n",
              "      <td>0.971934</td>\n",
              "      <td>0.005730</td>\n",
              "      <td>7</td>\n",
              "    </tr>\n",
              "    <tr>\n",
              "      <th>7</th>\n",
              "      <td>2.827663</td>\n",
              "      <td>0.441819</td>\n",
              "      <td>0.040537</td>\n",
              "      <td>0.003578</td>\n",
              "      <td>1</td>\n",
              "      <td>15</td>\n",
              "      <td>50</td>\n",
              "      <td>0.975309</td>\n",
              "      <td>0.962963</td>\n",
              "      <td>0.978676</td>\n",
              "      <td>0.976431</td>\n",
              "      <td>0.965169</td>\n",
              "      <td>0.971709</td>\n",
              "      <td>0.006373</td>\n",
              "      <td>8</td>\n",
              "    </tr>\n",
              "  </tbody>\n",
              "</table>\n",
              "</div>\n",
              "      <button class=\"colab-df-convert\" onclick=\"convertToInteractive('df-53f782e2-c652-4307-a28c-14769f91bc40')\"\n",
              "              title=\"Convert this dataframe to an interactive table.\"\n",
              "              style=\"display:none;\">\n",
              "        \n",
              "  <svg xmlns=\"http://www.w3.org/2000/svg\" height=\"24px\"viewBox=\"0 0 24 24\"\n",
              "       width=\"24px\">\n",
              "    <path d=\"M0 0h24v24H0V0z\" fill=\"none\"/>\n",
              "    <path d=\"M18.56 5.44l.94 2.06.94-2.06 2.06-.94-2.06-.94-.94-2.06-.94 2.06-2.06.94zm-11 1L8.5 8.5l.94-2.06 2.06-.94-2.06-.94L8.5 2.5l-.94 2.06-2.06.94zm10 10l.94 2.06.94-2.06 2.06-.94-2.06-.94-.94-2.06-.94 2.06-2.06.94z\"/><path d=\"M17.41 7.96l-1.37-1.37c-.4-.4-.92-.59-1.43-.59-.52 0-1.04.2-1.43.59L10.3 9.45l-7.72 7.72c-.78.78-.78 2.05 0 2.83L4 21.41c.39.39.9.59 1.41.59.51 0 1.02-.2 1.41-.59l7.78-7.78 2.81-2.81c.8-.78.8-2.07 0-2.86zM5.41 20L4 18.59l7.72-7.72 1.47 1.35L5.41 20z\"/>\n",
              "  </svg>\n",
              "      </button>\n",
              "      \n",
              "  <style>\n",
              "    .colab-df-container {\n",
              "      display:flex;\n",
              "      flex-wrap:wrap;\n",
              "      gap: 12px;\n",
              "    }\n",
              "\n",
              "    .colab-df-convert {\n",
              "      background-color: #E8F0FE;\n",
              "      border: none;\n",
              "      border-radius: 50%;\n",
              "      cursor: pointer;\n",
              "      display: none;\n",
              "      fill: #1967D2;\n",
              "      height: 32px;\n",
              "      padding: 0 0 0 0;\n",
              "      width: 32px;\n",
              "    }\n",
              "\n",
              "    .colab-df-convert:hover {\n",
              "      background-color: #E2EBFA;\n",
              "      box-shadow: 0px 1px 2px rgba(60, 64, 67, 0.3), 0px 1px 3px 1px rgba(60, 64, 67, 0.15);\n",
              "      fill: #174EA6;\n",
              "    }\n",
              "\n",
              "    [theme=dark] .colab-df-convert {\n",
              "      background-color: #3B4455;\n",
              "      fill: #D2E3FC;\n",
              "    }\n",
              "\n",
              "    [theme=dark] .colab-df-convert:hover {\n",
              "      background-color: #434B5C;\n",
              "      box-shadow: 0px 1px 3px 1px rgba(0, 0, 0, 0.15);\n",
              "      filter: drop-shadow(0px 1px 2px rgba(0, 0, 0, 0.3));\n",
              "      fill: #FFFFFF;\n",
              "    }\n",
              "  </style>\n",
              "\n",
              "      <script>\n",
              "        const buttonEl =\n",
              "          document.querySelector('#df-53f782e2-c652-4307-a28c-14769f91bc40 button.colab-df-convert');\n",
              "        buttonEl.style.display =\n",
              "          google.colab.kernel.accessAllowed ? 'block' : 'none';\n",
              "\n",
              "        async function convertToInteractive(key) {\n",
              "          const element = document.querySelector('#df-53f782e2-c652-4307-a28c-14769f91bc40');\n",
              "          const dataTable =\n",
              "            await google.colab.kernel.invokeFunction('convertToInteractive',\n",
              "                                                     [key], {});\n",
              "          if (!dataTable) return;\n",
              "\n",
              "          const docLinkHtml = 'Like what you see? Visit the ' +\n",
              "            '<a target=\"_blank\" href=https://colab.research.google.com/notebooks/data_table.ipynb>data table notebook</a>'\n",
              "            + ' to learn more about interactive tables.';\n",
              "          element.innerHTML = '';\n",
              "          dataTable['output_type'] = 'display_data';\n",
              "          await google.colab.output.renderOutput(dataTable, element);\n",
              "          const docLink = document.createElement('div');\n",
              "          docLink.innerHTML = docLinkHtml;\n",
              "          element.appendChild(docLink);\n",
              "        }\n",
              "      </script>\n",
              "    </div>\n",
              "  </div>\n",
              "  "
            ]
          },
          "metadata": {},
          "execution_count": 23
        }
      ],
      "source": [
        "# Models ranking\n",
        "pd.DataFrame(clf.cv_results_).sort_values('rank_test_score').drop(columns=['params'])"
      ]
    },
    {
      "cell_type": "code",
      "execution_count": 24,
      "id": "099332bc",
      "metadata": {
        "scrolled": true,
        "colab": {
          "base_uri": "https://localhost:8080/",
          "height": 143
        },
        "id": "099332bc",
        "outputId": "51c2bf4b-be18-4c31-9312-ccff8021adfb"
      },
      "outputs": [
        {
          "output_type": "execute_result",
          "data": {
            "text/plain": [
              "          feature  importance  rank\n",
              "5    text_len_log    0.043470     5\n",
              "14  upper_pct_log    0.017974    14\n",
              "49  punct_pct_log    0.005681    49"
            ],
            "text/html": [
              "\n",
              "  <div id=\"df-477a2a7a-f868-41db-a909-cbcf0979a9aa\">\n",
              "    <div class=\"colab-df-container\">\n",
              "      <div>\n",
              "<style scoped>\n",
              "    .dataframe tbody tr th:only-of-type {\n",
              "        vertical-align: middle;\n",
              "    }\n",
              "\n",
              "    .dataframe tbody tr th {\n",
              "        vertical-align: top;\n",
              "    }\n",
              "\n",
              "    .dataframe thead th {\n",
              "        text-align: right;\n",
              "    }\n",
              "</style>\n",
              "<table border=\"1\" class=\"dataframe\">\n",
              "  <thead>\n",
              "    <tr style=\"text-align: right;\">\n",
              "      <th></th>\n",
              "      <th>feature</th>\n",
              "      <th>importance</th>\n",
              "      <th>rank</th>\n",
              "    </tr>\n",
              "  </thead>\n",
              "  <tbody>\n",
              "    <tr>\n",
              "      <th>5</th>\n",
              "      <td>text_len_log</td>\n",
              "      <td>0.043470</td>\n",
              "      <td>5</td>\n",
              "    </tr>\n",
              "    <tr>\n",
              "      <th>14</th>\n",
              "      <td>upper_pct_log</td>\n",
              "      <td>0.017974</td>\n",
              "      <td>14</td>\n",
              "    </tr>\n",
              "    <tr>\n",
              "      <th>49</th>\n",
              "      <td>punct_pct_log</td>\n",
              "      <td>0.005681</td>\n",
              "      <td>49</td>\n",
              "    </tr>\n",
              "  </tbody>\n",
              "</table>\n",
              "</div>\n",
              "      <button class=\"colab-df-convert\" onclick=\"convertToInteractive('df-477a2a7a-f868-41db-a909-cbcf0979a9aa')\"\n",
              "              title=\"Convert this dataframe to an interactive table.\"\n",
              "              style=\"display:none;\">\n",
              "        \n",
              "  <svg xmlns=\"http://www.w3.org/2000/svg\" height=\"24px\"viewBox=\"0 0 24 24\"\n",
              "       width=\"24px\">\n",
              "    <path d=\"M0 0h24v24H0V0z\" fill=\"none\"/>\n",
              "    <path d=\"M18.56 5.44l.94 2.06.94-2.06 2.06-.94-2.06-.94-.94-2.06-.94 2.06-2.06.94zm-11 1L8.5 8.5l.94-2.06 2.06-.94-2.06-.94L8.5 2.5l-.94 2.06-2.06.94zm10 10l.94 2.06.94-2.06 2.06-.94-2.06-.94-.94-2.06-.94 2.06-2.06.94z\"/><path d=\"M17.41 7.96l-1.37-1.37c-.4-.4-.92-.59-1.43-.59-.52 0-1.04.2-1.43.59L10.3 9.45l-7.72 7.72c-.78.78-.78 2.05 0 2.83L4 21.41c.39.39.9.59 1.41.59.51 0 1.02-.2 1.41-.59l7.78-7.78 2.81-2.81c.8-.78.8-2.07 0-2.86zM5.41 20L4 18.59l7.72-7.72 1.47 1.35L5.41 20z\"/>\n",
              "  </svg>\n",
              "      </button>\n",
              "      \n",
              "  <style>\n",
              "    .colab-df-container {\n",
              "      display:flex;\n",
              "      flex-wrap:wrap;\n",
              "      gap: 12px;\n",
              "    }\n",
              "\n",
              "    .colab-df-convert {\n",
              "      background-color: #E8F0FE;\n",
              "      border: none;\n",
              "      border-radius: 50%;\n",
              "      cursor: pointer;\n",
              "      display: none;\n",
              "      fill: #1967D2;\n",
              "      height: 32px;\n",
              "      padding: 0 0 0 0;\n",
              "      width: 32px;\n",
              "    }\n",
              "\n",
              "    .colab-df-convert:hover {\n",
              "      background-color: #E2EBFA;\n",
              "      box-shadow: 0px 1px 2px rgba(60, 64, 67, 0.3), 0px 1px 3px 1px rgba(60, 64, 67, 0.15);\n",
              "      fill: #174EA6;\n",
              "    }\n",
              "\n",
              "    [theme=dark] .colab-df-convert {\n",
              "      background-color: #3B4455;\n",
              "      fill: #D2E3FC;\n",
              "    }\n",
              "\n",
              "    [theme=dark] .colab-df-convert:hover {\n",
              "      background-color: #434B5C;\n",
              "      box-shadow: 0px 1px 3px 1px rgba(0, 0, 0, 0.15);\n",
              "      filter: drop-shadow(0px 1px 2px rgba(0, 0, 0, 0.3));\n",
              "      fill: #FFFFFF;\n",
              "    }\n",
              "  </style>\n",
              "\n",
              "      <script>\n",
              "        const buttonEl =\n",
              "          document.querySelector('#df-477a2a7a-f868-41db-a909-cbcf0979a9aa button.colab-df-convert');\n",
              "        buttonEl.style.display =\n",
              "          google.colab.kernel.accessAllowed ? 'block' : 'none';\n",
              "\n",
              "        async function convertToInteractive(key) {\n",
              "          const element = document.querySelector('#df-477a2a7a-f868-41db-a909-cbcf0979a9aa');\n",
              "          const dataTable =\n",
              "            await google.colab.kernel.invokeFunction('convertToInteractive',\n",
              "                                                     [key], {});\n",
              "          if (!dataTable) return;\n",
              "\n",
              "          const docLinkHtml = 'Like what you see? Visit the ' +\n",
              "            '<a target=\"_blank\" href=https://colab.research.google.com/notebooks/data_table.ipynb>data table notebook</a>'\n",
              "            + ' to learn more about interactive tables.';\n",
              "          element.innerHTML = '';\n",
              "          dataTable['output_type'] = 'display_data';\n",
              "          await google.colab.output.renderOutput(dataTable, element);\n",
              "          const docLink = document.createElement('div');\n",
              "          docLink.innerHTML = docLinkHtml;\n",
              "          element.appendChild(docLink);\n",
              "        }\n",
              "      </script>\n",
              "    </div>\n",
              "  </div>\n",
              "  "
            ]
          },
          "metadata": {},
          "execution_count": 24
        }
      ],
      "source": [
        "# How are the features we've created important?\n",
        "feature_importances = pd.DataFrame(clf.best_estimator_.feature_importances_)\n",
        "n_words = len(vectorizer.get_feature_names_out())\n",
        "features = ['text_len_log', 'punct_pct_log', 'upper_pct_log'] + list(range(n_words))\n",
        "feature_importances.index = features\n",
        "top_features = feature_importances[0].sort_values(ascending=False).reset_index().reset_index()\n",
        "top_features.columns = ['rank', 'feature', 'importance']\n",
        "top_features.loc[top_features.feature.isin(['text_len_log', 'upper_pct_log', 'punct_pct_log']), ['feature', 'importance', 'rank']]"
      ]
    },
    {
      "cell_type": "markdown",
      "id": "6adc8a9f",
      "metadata": {
        "id": "6adc8a9f"
      },
      "source": [
        "The new features we've added are in the top 50 features (out of 7000+). It wasn't bad to choose them."
      ]
    },
    {
      "cell_type": "code",
      "execution_count": 25,
      "id": "a02fb3c7",
      "metadata": {
        "colab": {
          "base_uri": "https://localhost:8080/"
        },
        "id": "a02fb3c7",
        "outputId": "f568d3a8-ae73-4420-c3d8-7dcb901fe705"
      },
      "outputs": [
        {
          "output_type": "stream",
          "name": "stdout",
          "text": [
            "Accuracy: 0.9794\n",
            "Precision: 0.8993\n",
            "Recall: 0.9437\n",
            "F1 score: 0.921\n",
            "AUC: 0.9914\n"
          ]
        }
      ],
      "source": [
        "# Model's performance\n",
        "from sklearn.metrics import accuracy_score, precision_score, recall_score, f1_score, roc_auc_score\n",
        "y_score = clf.predict_proba(X_test)\n",
        "\n",
        "print('Accuracy:', round(accuracy_score(y_pred, y_test), 4))\n",
        "print('Precision:', round(precision_score(y_pred, y_test), 4))\n",
        "print('Recall:', round(recall_score(y_pred, y_test), 4))\n",
        "print('F1 score:', round(f1_score(y_pred, y_test), 4))\n",
        "print('AUC:', round(roc_auc_score(y_test, y_score[:, 1]), 4))"
      ]
    },
    {
      "cell_type": "code",
      "execution_count": 26,
      "id": "261b7ec4",
      "metadata": {
        "colab": {
          "base_uri": "https://localhost:8080/",
          "height": 465
        },
        "id": "261b7ec4",
        "outputId": "1959be35-896e-491e-b0d5-057cff19fbf5"
      },
      "outputs": [
        {
          "output_type": "display_data",
          "data": {
            "text/plain": [
              "<Figure size 640x480 with 2 Axes>"
            ],
            "image/png": "[encoded data removed]"
          },
          "metadata": {}
        }
      ],
      "source": [
        "# Confusion matrix\n",
        "from sklearn.metrics import confusion_matrix, ConfusionMatrixDisplay\n",
        "cm = confusion_matrix(y_test, y_pred)\n",
        "disp = ConfusionMatrixDisplay(confusion_matrix=cm, display_labels=['Ham', 'Spam'])\n",
        "disp.plot(cmap='Blues')\n",
        "plt.title('Confusion Matrix')\n",
        "plt.show()"
      ]
    },
    {
      "cell_type": "code",
      "execution_count": 27,
      "id": "cf053060",
      "metadata": {
        "colab": {
          "base_uri": "https://localhost:8080/",
          "height": 465
        },
        "id": "cf053060",
        "outputId": "3219d9af-066c-4e05-a269-215f044c6e5b"
      },
      "outputs": [
        {
          "output_type": "display_data",
          "data": {
            "text/plain": [
              "<Figure size 640x480 with 1 Axes>"
            ],
            "image/png": "[encoded data removed]"
          },
          "metadata": {}
        }
      ],
      "source": [
        "# ROC curve\n",
        "from sklearn.metrics import roc_curve\n",
        "fpr, tpr, thresholds = roc_curve(y_test, y_score[:, 1])\n",
        "plt.plot(fpr, tpr, 'c-', label='XGBoostClassifier', alpha=.8)\n",
        "plt.xlabel('False Positive Rate')\n",
        "plt.ylabel('True Positive Rate')\n",
        "plt.plot([0, 1], [0, 1], 'y--', label='Chance level (AUC = 0.5)', alpha=.6)\n",
        "plt.title('ROC Curve')\n",
        "plt.legend()\n",
        "plt.show()"
      ]
    }
  ],
  "metadata": {
    "kernelspec": {
      "display_name": "Python 3",
      "name": "python3"
    },
    "language_info": {
      "codemirror_mode": {
        "name": "ipython",
        "version": 3
      },
      "file_extension": ".py",
      "mimetype": "text/x-python",
      "name": "python",
      "nbconvert_exporter": "python",
      "pygments_lexer": "ipython3",
      "version": "3.11.0"
    },
    "colab": {
      "provenance": [],
      "gpuType": "T4"
    },
    "accelerator": "GPU"
  },
  "nbformat": 4,
  "nbformat_minor": 5
}