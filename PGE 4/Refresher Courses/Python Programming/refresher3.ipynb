{
 "cells": [
  {
   "cell_type": "markdown",
   "metadata": {},
   "source": [
    "Before you turn this problem in, make sure everything runs as expected. First, **restart the kernel** (in the menubar, select Kernel$\\rightarrow$Restart) and then **run all cells** (in the menubar, select Cell$\\rightarrow$Run All). Check your output to make sure it all looks as you expected.\n",
    "\n",
    "Make sure you fill in any place that says `YOUR CODE HERE` or \"YOUR ANSWER HERE\", as well as your name below:"
   ]
  },
  {
   "cell_type": "code",
   "execution_count": 1,
   "metadata": {},
   "outputs": [],
   "source": [
    "NAME = \"Bryan Tchakote\""
   ]
  },
  {
   "cell_type": "markdown",
   "metadata": {},
   "source": [
    "---"
   ]
  },
  {
   "cell_type": "markdown",
   "metadata": {},
   "source": [
    "**Here are some key points on how to use the notebook and submit your work.**\n",
    "We will grade based on assuming you have read and understood them.\n",
    "    \n",
    "1. **Using the Notebook to Show Your Work**: You must learn to write code in the notebook... It is a core tool for data science and will make it easier to develop and document your work if you become good at using it. Writing your code in another tool and pasting it into the notebook will probably not work well (forgetting to include code elsewhere, messing up the spacing, or code that don't run as copied). You must be sure your code cells execute because we will test them.  So learn how to run code in the notebook cells to double check your work.\n",
    "2. **Read Directions Carefully**:  The instructions for your code are very important. If you don't follow the requirements, your application won't do as requested. Making it work correctly is part of learning to program.  If we worded something unclearly, ask the teacher.\n",
    "\n",
    "The second set of issues are coding style:\n",
    "\n",
    "1. **Indentation**: In Python, indentation matters and must be consistent. If you write your code in the Notebook, the **tab** key will indent properly.  If you use another editor and paste into the notebook, it might not be correctly indented (when you do write code in another editor, make sure you set your tabs to indent as 4 spaces, not as a tab character.)  You must make sure that your pasted code runs in the notebook or it will not get a good grade. Anyway, we recommend beginners to work in a Jupyter notebook for this course, whether it's this one or a draft file.\n",
    "2. **Spacing**: Follow closely the spacing shown in the lessons. There should not be a space  between a function name and the parentheses with the arguments. As a programmer, style is very important. If you work with programmers in the future, they sometimes have \"lint\" checkers to test your code for style and reject if it doesn't follow the approprate spacing and blank-line-rules. Think of it as a matter of politness for other people reading your code \\ (•◡•) /\n",
    "3. **Names of Variables**: In Python, there's a culture of making everything readable. Don't use ``x`` and ``y`` as your variable names... use words like ``pounds`` and ``kilograms``. It will be easier for colleagues (and yourself) to understand the code later.\n",
    "4. **Error Messages**: Please use informative error messages that tell the user what they did wrong and what kind of input you expect. Imagine you are designing the user experience! Think about how to help your user. And remember **you** are the user when you debug!\n",
    "\n",
    "We will take points off for issues of non-standard spacing, indentation, bad error messages, and bad variable names in the future.  This will continue for the entire course.\n",
    "\n",
    "There are multiple ways to code all the answers.  Here are a few more code style tips:\n",
    "\n",
    "1. If you do a calculation or a transformation, like ``float(pounds)`` -- do it once and save it as a variable, don't do it multiple times.  You should try not to have code that repeats itself too much.  If you repeat things, you can make mistakes like typos and it will be harder to find them. Also, it's wasting computer power.\n",
    "2. Tests like \"4 < test < 40\" need to be saved in a variable or used in a ``if`` statement.  It won't do anything relevant otherwise.\n",
    "3. ``try``/``except`` should be used to catch errors. (In fancier, more formal Python, there is more careful error catching where the type of error is detected and handled. We're just doing the basic try/except right now.) Anytime you have a conversion or something that could result in an error, you should wrap it in try/except. Do not allow a user to run code that results in an un-handled error.\n",
    "\n",
    "---"
   ]
  },
  {
   "cell_type": "markdown",
   "metadata": {
    "deletable": false,
    "editable": false,
    "nbgrader": {
     "cell_type": "markdown",
     "checksum": "d84d3c1cf0b1ac538bcd3c6e20ee3a2a",
     "grade": false,
     "grade_id": "cell-aefb8b72cdef8a4b",
     "locked": true,
     "schema_version": 3,
     "solution": false,
     "task": false
    }
   },
   "source": [
    "# Notebook 3, Homework"
   ]
  },
  {
   "cell_type": "markdown",
   "metadata": {
    "deletable": false,
    "editable": false,
    "nbgrader": {
     "cell_type": "markdown",
     "checksum": "d9797703756e9f603b4ac4e577452644",
     "grade": false,
     "grade_id": "cell-c24968df01615fde",
     "locked": true,
     "schema_version": 3,
     "solution": false
    }
   },
   "source": [
    "**Reminder: Do not use `exit()` in a notebook.  Use `return` to exit a  function.**\n",
    "\n",
    "This homework includes list comprehensions, which are a very common pattern in Python code.  They can be schematically described as being of the form `[something(x) for x in list]`, which returns a new list with the function `something` applied to each member `x` in the list (or other iterable, such as a tuple).\n",
    "\n",
    "Make sure you have read the chapter on List Comprehensions here: \n",
    "    http://introtopython.org/lists_tuples.html#List-Comprehensions\n",
    "\n"
   ]
  },
  {
   "cell_type": "code",
   "execution_count": 2,
   "metadata": {
    "deletable": false,
    "editable": false,
    "nbgrader": {
     "cell_type": "code",
     "checksum": "1e5744e18504fc9c638936a8f15fdf56",
     "grade": false,
     "grade_id": "cell-94fa46a28737e704",
     "locked": true,
     "schema_version": 3,
     "solution": false,
     "task": false
    }
   },
   "outputs": [],
   "source": [
    "# Here is a list of names we will use for the first problem:\n",
    "\n",
    "names = ['frederica', 'gilbert', 'amine', 'hasan', 'annie', 'bob']"
   ]
  },
  {
   "cell_type": "markdown",
   "metadata": {
    "deletable": false,
    "editable": false,
    "nbgrader": {
     "cell_type": "markdown",
     "checksum": "b6309c01f3052b05c959be9830b15a52",
     "grade": false,
     "grade_id": "cell-4c3f81fdace48867",
     "locked": true,
     "schema_version": 3,
     "solution": false
    }
   },
   "source": [
    "**Question 1**: Write a function **using a list comprehension** to create a new list with just the length of each of the strings in the input list of names above.  Return the new list of string lengths."
   ]
  },
  {
   "cell_type": "code",
   "execution_count": 3,
   "metadata": {
    "deletable": false,
    "nbgrader": {
     "cell_type": "code",
     "checksum": "0e62e623c533074c13cf0c6717cf4efe",
     "grade": false,
     "grade_id": "lengths",
     "locked": false,
     "schema_version": 3,
     "solution": true
    }
   },
   "outputs": [],
   "source": [
    "def get_lengths(words):\n",
    "    \"\"\" Takes a list of words, returns a list of their lengths. \"\"\"\n",
    "    return [len(word) for word in words]"
   ]
  },
  {
   "cell_type": "code",
   "execution_count": 4,
   "metadata": {},
   "outputs": [
    {
     "data": {
      "text/plain": [
       "[9, 7, 5, 5, 5, 3]"
      ]
     },
     "execution_count": 4,
     "metadata": {},
     "output_type": "execute_result"
    }
   ],
   "source": [
    "# show your code running here:\n",
    "get_lengths(names)"
   ]
  },
  {
   "cell_type": "code",
   "execution_count": 5,
   "metadata": {
    "deletable": false,
    "editable": false,
    "nbgrader": {
     "cell_type": "code",
     "checksum": "26b9c6fa7a29c634fe8e22e989def17a",
     "grade": true,
     "grade_id": "cell-2387d8f23466ead5",
     "locked": true,
     "points": 1,
     "schema_version": 3,
     "solution": false
    }
   },
   "outputs": [],
   "source": [
    "## A test for your code that you can ignore. We will check manually too. \n",
    "\n",
    "assert get_lengths(names) == [9, 7, 5, 5, 5, 3]\n"
   ]
  },
  {
   "cell_type": "code",
   "execution_count": 6,
   "metadata": {
    "deletable": false,
    "editable": false,
    "nbgrader": {
     "cell_type": "code",
     "checksum": "14335c9ab6f4f92625d229cc118c7ffe",
     "grade": true,
     "grade_id": "cell-807197682437c95e",
     "locked": true,
     "points": 1,
     "schema_version": 3,
     "solution": false
    }
   },
   "outputs": [],
   "source": [
    "## another test to make sure you used a list comprehension\n",
    "import ast\n",
    "import inspect\n",
    "\n",
    "src = inspect.getsource(get_lengths)\n",
    "node = ast.parse(src)\n",
    "\n",
    "class ListCompChecker(ast.NodeVisitor):\n",
    "    def __init__(self):\n",
    "        super(ListCompChecker).__init__()\n",
    "        self.Found = False\n",
    "    def visit_ListComp(self, node):\n",
    "        self.Found = True\n",
    "\n",
    "checker = ListCompChecker()\n",
    "checker.visit(node)\n",
    "assert checker.Found"
   ]
  },
  {
   "cell_type": "markdown",
   "metadata": {
    "deletable": false,
    "editable": false,
    "nbgrader": {
     "cell_type": "markdown",
     "checksum": "341837e33b10d3b61e5f96f91624c36f",
     "grade": false,
     "grade_id": "cell-b63307b5e82c6d84",
     "locked": true,
     "schema_version": 3,
     "solution": false,
     "task": false
    }
   },
   "source": [
    "**Question 2**:\n",
    "    How would you convert the following for-loop code (`for val in mylist`) into a single line list comprehension? (The print part can be a separate line after your list comprehension.)\n",
    "   "
   ]
  },
  {
   "cell_type": "code",
   "execution_count": 7,
   "metadata": {
    "deletable": false,
    "editable": false,
    "nbgrader": {
     "cell_type": "code",
     "checksum": "87bcbc145a25291820cb16ab358348da",
     "grade": false,
     "grade_id": "cell-25e50b1a9e037a3c",
     "locked": true,
     "schema_version": 3,
     "solution": false
    }
   },
   "outputs": [
    {
     "name": "stdout",
     "output_type": "stream",
     "text": [
      "[20, 40, 80, 100, 34.0, 40, 20]\n"
     ]
    }
   ],
   "source": [
    "mylist = [2,4,8,10,3.4,4,2]\n",
    "tens = []\n",
    "for val in mylist:\n",
    "    tens.append(val * 10)\n",
    "print(tens)"
   ]
  },
  {
   "cell_type": "code",
   "execution_count": 8,
   "metadata": {
    "deletable": false,
    "nbgrader": {
     "cell_type": "code",
     "checksum": "208cd400416362b5576daa2453d52000",
     "grade": true,
     "grade_id": "redo_with_listcomp",
     "locked": false,
     "points": 2,
     "schema_version": 3,
     "solution": true,
     "task": false
    }
   },
   "outputs": [
    {
     "name": "stdout",
     "output_type": "stream",
     "text": [
      "[20, 40, 80, 100, 34.0, 40, 20]\n"
     ]
    }
   ],
   "source": [
    "tens = [x*10 for x in mylist]\n",
    "print(tens)"
   ]
  },
  {
   "cell_type": "markdown",
   "metadata": {
    "deletable": false,
    "editable": false,
    "nbgrader": {
     "cell_type": "markdown",
     "checksum": "ac138e75165cb0a9d60ee23669ecc28f",
     "grade": false,
     "grade_id": "cell-bb597c6a8d90d06d",
     "locked": true,
     "schema_version": 3,
     "solution": false,
     "task": false
    }
   },
   "source": [
    "## Chapter 9: Dictionaries \n",
    "\n",
    "You should have read the book chapter up to Advanced Text Parsing (you can skip that if you want) and also read this: http://introtopython.org/dictionaries.html  \n",
    "\n",
    "Pay particular attention to looping through keys and values in dictionaries using `items()`, which is not mentioned in the book.  This is the most common way to access the parts of the dictionary.\n",
    "\n",
    "The pattern to use with `items()` is this:\n",
    "\n",
    "````\n",
    "for key, value in mydict.items():\n",
    "    # do something with key and/or value\n",
    "````\n",
    "\n",
    "Make sure you understand this common pattern.\n",
    "\n",
    "#### Question 3:\n",
    "\n",
    "Write a function that adds one to each numeric value in a dictionary. If the value is not numeric (i.e. not an int or float), don't add anything, but keep the same value. The function should take a dictionary as argument, and return the modified dictionary.\n"
   ]
  },
  {
   "cell_type": "code",
   "execution_count": 9,
   "metadata": {
    "deletable": false,
    "nbgrader": {
     "cell_type": "code",
     "checksum": "24a58c48c16f8094a2f1bfe0f36ddf47",
     "grade": false,
     "grade_id": "addtovalue",
     "locked": false,
     "schema_version": 3,
     "solution": true
    }
   },
   "outputs": [],
   "source": [
    "def addtovalue(dictionary):\n",
    "    \"Add one to each numeric value of the dictionary, return the dict\"\n",
    "    for key, value in dictionary.items():\n",
    "        if isinstance(value, (int, float)):\n",
    "            dictionary[key] += 1\n",
    "    return dictionary"
   ]
  },
  {
   "cell_type": "code",
   "execution_count": 10,
   "metadata": {
    "deletable": false,
    "editable": false,
    "nbgrader": {
     "cell_type": "code",
     "checksum": "be3e23828081da60fd1ba95840662d28",
     "grade": true,
     "grade_id": "testaddtovalue",
     "locked": true,
     "points": 2,
     "schema_version": 3,
     "solution": false
    }
   },
   "outputs": [],
   "source": [
    "testdict = { 'fred': 3.3, 'marie': '5', 'jean': 14, 'angus': 44, 'amine': None}\n",
    "\n",
    "result = addtovalue(testdict)\n",
    "assert result['fred'] == 4.3\n",
    "assert result['jean'] == 15\n",
    "assert result['angus'] == 45"
   ]
  },
  {
   "cell_type": "code",
   "execution_count": 11,
   "metadata": {
    "deletable": false,
    "editable": false,
    "nbgrader": {
     "cell_type": "code",
     "checksum": "3dcff00ba6b0fe7028908bc314de800c",
     "grade": true,
     "grade_id": "testaddtovalue2",
     "locked": true,
     "points": 2,
     "schema_version": 3,
     "solution": false
    }
   },
   "outputs": [],
   "source": [
    "testdict = { 'fred': 3, 'marie': '5', 'jean': 14, 'angus': 44, 'amine': None}\n",
    "result = addtovalue(testdict)\n",
    "assert result['amine'] is None\n",
    "assert result['marie'] == '5'"
   ]
  },
  {
   "cell_type": "markdown",
   "metadata": {
    "deletable": false,
    "editable": false,
    "nbgrader": {
     "cell_type": "markdown",
     "checksum": "e81fa6612131412a731efcf096974090",
     "grade": false,
     "grade_id": "cell-cf3b7ae9123e78cb",
     "locked": true,
     "schema_version": 3,
     "solution": false,
     "task": false
    }
   },
   "source": [
    "**Question 4**:\n",
    "\n",
    "You can use multiple functions if you want, but you have to have one main function that calls the others, if you do. This is because the test code relies on the main function to check your output.\n",
    "\n",
    "Create a function that takes a file name (and path if needed) as the argument.  When you test the function, open and read in the file **mountains.csv**. Inside the function, use a try/catch to be sure the file exists and is readable. If the file location is wrong or it can't be opened, print an error that begins with \"Error:\".  (You can test it with a junk path or filename that doesn't exist.)\n",
    "\n",
    "The pattern suggested for this is:\n",
    "\n",
    "````\n",
    "try:\n",
    "    with open('mountains.csv', 'r') as handle:\n",
    "        for line in handle:\n",
    "        #....do stuff here (you can have other try/except in here if you want)\n",
    "except:\n",
    "    print(\"Error: Something wrong with your file location?\")\n",
    "    return\n",
    "````\n",
    "\n",
    "An alternate pattern is:\n",
    "\n",
    "````\n",
    "try:\n",
    "    handle = open(filename, 'r')\n",
    "except:\n",
    "    print(\"Error: trouble with file opening\")\n",
    "    return\n",
    "````\n",
    "\n",
    "But you must remember to close the handle if you do this.  The book says:\n",
    "\n",
    "> We could close the files which we open for read as well, but we can be a little sloppy if we are only opening a few files since Python makes sure that all open files are closed when the program ends. When we are writing files, we want to explicitly close the files so as to leave nothing to chance.\"\n",
    "\n",
    "If you are using the recommended pattern with the ``with open() as handle:`` idiom, you don't need to close it explicitly, it will be closed for you.  That's why it's recommended.\n",
    "\n",
    "*mountains.csv* is a comma-separated list of mountains, their height in meters, and the range they belong to (look at it in a text editor, but don't edit the file!). A CSV file is a common format for raw data.  Other types of raw data files are semi-colon (point-virgule) separated files or tab-separated files.  However the columns are separated, you must use that character in your \"split\" code.\n",
    "\n",
    "In this case, it's a comma. Split each line by the comma, and make a dictionary where the key is the mountain name (the first element) and the height is the value, the second element. Make sure to convert the height to a number.\n",
    "Then print the keys and values of the dictionary using ``.items()``, in readable sentences that say, for instance, \"The height of K2 is 8611 meters.\".  Return the dictionary at the end of the function.\n",
    "\n",
    "Reminder about print with {} in your string: use `print(string.format(variable))` to fill in the {} with your variable. If there are 2 {}'s, use `.format(var1, var2)`.\n"
   ]
  },
  {
   "cell_type": "code",
   "execution_count": 12,
   "metadata": {
    "deletable": false,
    "nbgrader": {
     "cell_type": "code",
     "checksum": "8a9684764846e1ee04789baf7342c2a0",
     "grade": false,
     "grade_id": "mountain_height",
     "locked": false,
     "schema_version": 3,
     "solution": true
    }
   },
   "outputs": [],
   "source": [
    "def reading_file(filename):\n",
    "    '''\n",
    "    This function takes a filename into parameter, go through the file (if exising) and record in\n",
    "    nested lists all the information that are going to be usefull for the following functions\n",
    "    '''\n",
    "    data = []\n",
    "    try:\n",
    "        with open(filename) as handle:\n",
    "            for line in handle:\n",
    "                try:\n",
    "                    mountain, height, mountain_range = line.rsplit('\\n')[0].split(',')[:3]\n",
    "                    assert(len(mountain) > 0 and len(height) > 0 and len(mountain_range) > 0)\n",
    "                except (ValueError, AssertionError):\n",
    "                    print(\"Error: One of the lines in your file has an invalid number of entries\")\n",
    "                    return\n",
    "                \n",
    "                try:\n",
    "                    height = int(height)\n",
    "                except ValueError:\n",
    "                    print(f\"{mountain}'s height could not be casted into 'int'\")\n",
    "                    return\n",
    "                \n",
    "                data.append([mountain, height, mountain_range])\n",
    "            return data\n",
    "    except FileNotFoundError:\n",
    "        print(\"Error: File doesn't exist or is unreadable.\")\n",
    "        return\n",
    "    \n",
    "def mountain_height(filename):\n",
    "    \"\"\" Read in a csv file of mountain names and heights.  \n",
    "    Parse the lines and print the names and heights. \n",
    "    Return the data as a dictionary. \n",
    "    The key is the mountain and the height is the value.\n",
    "    \"\"\"\n",
    "    data = reading_file(filename)\n",
    "    \n",
    "    mountains = dict()\n",
    "    msg = \"The height of {} is {} meters.\"\n",
    "    err_msg = \"Error: File doesn't exist or is unreadable.\"\n",
    "    \n",
    "    for mountain in data:\n",
    "        try:\n",
    "            mountains[mountain[0]] = int(mountain[1])\n",
    "        except ValueError:\n",
    "            print(f\"{mountain[1]} could not be casted into 'int'\")\n",
    "            return\n",
    "            \n",
    "    for name, height in mountains.items():\n",
    "        print(msg.format(name, height))\n",
    "            \n",
    "    return mountains    "
   ]
  },
  {
   "cell_type": "code",
   "execution_count": 13,
   "metadata": {},
   "outputs": [
    {
     "name": "stdout",
     "output_type": "stream",
     "text": [
      "The height of Mount Everest is 8848 meters.\n",
      "The height of K2 is 8611 meters.\n",
      "The height of Kangchenjunga is 8586 meters.\n",
      "The height of Lhotse is 8516 meters.\n",
      "The height of Makalu is 8485 meters.\n",
      "The height of Cho Oyu is 8201 meters.\n",
      "The height of Dhaulagiri is 8167 meters.\n",
      "The height of Manaslu is 8163 meters.\n",
      "The height of Nanga Parbat is 8126 meters.\n",
      "The height of Annapurna is 8091 meters.\n",
      "The height of Gasherbrum I is 8080 meters.\n",
      "The height of Broad Peak is 8051 meters.\n",
      "The height of Gasherbrum II is 8035 meters.\n",
      "The height of Shishapangma is 8027 meters.\n"
     ]
    },
    {
     "data": {
      "text/plain": [
       "{'Mount Everest': 8848,\n",
       " 'K2': 8611,\n",
       " 'Kangchenjunga': 8586,\n",
       " 'Lhotse': 8516,\n",
       " 'Makalu': 8485,\n",
       " 'Cho Oyu': 8201,\n",
       " 'Dhaulagiri': 8167,\n",
       " 'Manaslu': 8163,\n",
       " 'Nanga Parbat': 8126,\n",
       " 'Annapurna': 8091,\n",
       " 'Gasherbrum I': 8080,\n",
       " 'Broad Peak': 8051,\n",
       " 'Gasherbrum II': 8035,\n",
       " 'Shishapangma': 8027}"
      ]
     },
     "execution_count": 13,
     "metadata": {},
     "output_type": "execute_result"
    }
   ],
   "source": [
    "\n",
    "# Edit this to have the path to your file mountains.csv.  \n",
    "# Show that it runs.\n",
    "\n",
    "filename = \"./data_files/mountains.csv\"\n",
    "mountain_height(filename)"
   ]
  },
  {
   "cell_type": "code",
   "execution_count": 14,
   "metadata": {
    "deletable": false,
    "editable": false,
    "nbgrader": {
     "cell_type": "code",
     "checksum": "cfc7011f6a35743cb6798fcfe685e24b",
     "grade": true,
     "grade_id": "test_mountain_height",
     "locked": true,
     "points": 3,
     "schema_version": 3,
     "solution": false
    }
   },
   "outputs": [
    {
     "name": "stdout",
     "output_type": "stream",
     "text": [
      "The height of Mount Everest is 8848 meters.\n",
      "The height of K2 is 8611 meters.\n",
      "The height of Kangchenjunga is 8586 meters.\n",
      "The height of Lhotse is 8516 meters.\n",
      "The height of Makalu is 8485 meters.\n",
      "The height of Cho Oyu is 8201 meters.\n",
      "The height of Dhaulagiri is 8167 meters.\n",
      "The height of Manaslu is 8163 meters.\n",
      "The height of Nanga Parbat is 8126 meters.\n",
      "The height of Annapurna is 8091 meters.\n",
      "The height of Gasherbrum I is 8080 meters.\n",
      "The height of Broad Peak is 8051 meters.\n",
      "The height of Gasherbrum II is 8035 meters.\n",
      "The height of Shishapangma is 8027 meters.\n"
     ]
    }
   ],
   "source": [
    "# Test code for grading your function. You can ignore this.\n",
    "\n",
    "filename = \"./data_files/mountains.csv\"\n",
    "output = mountain_height(filename)\n",
    "assert len(output.keys()) == 14\n",
    "assert output['Annapurna'] == 8091"
   ]
  },
  {
   "cell_type": "code",
   "execution_count": 15,
   "metadata": {
    "deletable": false,
    "editable": false,
    "nbgrader": {
     "cell_type": "code",
     "checksum": "8f2f786bf803d3536ecf200aaac37489",
     "grade": true,
     "grade_id": "test_mountain_error",
     "locked": true,
     "points": 2,
     "schema_version": 3,
     "solution": false
    }
   },
   "outputs": [],
   "source": [
    "# Hidden test for your printing the data.\n"
   ]
  },
  {
   "cell_type": "code",
   "execution_count": 16,
   "metadata": {
    "deletable": false,
    "editable": false,
    "nbgrader": {
     "cell_type": "code",
     "checksum": "e06e893d2a6e4fec2b244aeb9fce471d",
     "grade": true,
     "grade_id": "test_mountain_print",
     "locked": true,
     "points": 1,
     "schema_version": 3,
     "solution": false
    }
   },
   "outputs": [],
   "source": [
    "# Hidden test for your error condition with a bad filename/path.\n"
   ]
  },
  {
   "cell_type": "markdown",
   "metadata": {
    "deletable": false,
    "editable": false,
    "nbgrader": {
     "cell_type": "markdown",
     "checksum": "178b31cd7c958a3194c6ee4b66d7dd5c",
     "grade": false,
     "grade_id": "cell-9f5181a6002a602b",
     "locked": true,
     "schema_version": 3,
     "solution": false,
     "task": false
    }
   },
   "source": [
    "**Question 5**:\n",
    "\n",
    "Rewrite your function to use the collections module's Counter to count how many times each mountain range is mentioned. Each row contains a mountain, its height, and the range it is part of. The ranges are still in the 3rd column of the mountains.csv file!  You can use more than one function if you want.\n",
    "\n",
    "Also add a dictionary that records all the heights of the mountains in a particular range. You will use a list for the values of the heights. So this is a dictionary with a list value! The key will be the range name. Each time you see a new mountain in the range, add the height to the list for that key. For example, after reading all the data, ``mountains['Himalayas'] == [8848, 8586, 8516, 8485, 8201, 8167, 8163, 8126, 8091, 8027]``.  (The \"Himalayas\" are the range.)\n",
    "\n",
    "You may use a regular ``dict`` or a ``defaultdict``, but you must beware of ``KeyError`` with a regular dictionary if the key doesn't exist yet.\n",
    "\n",
    "Your output should be to print the top 2 ranges (according to their Counter value -- hint: look at the function ``most_common()``). And adding the mountain range name to the counter requires a little care (look at update).\n",
    "\n",
    "Then, print the average height of the mountains in each range. (They don't have to be in order. Hint: You may need to find out how to import a ``mean`` function, or else calculate it by hand.)\n",
    "\n",
    "Return the dictionary object with the ranges and their lists of mountain heights after all the printing.\n",
    "\n",
    "**Show that this code works with the other file, \"highest_mountains.csv\" too.**\n"
   ]
  },
  {
   "cell_type": "code",
   "execution_count": 17,
   "metadata": {
    "deletable": false,
    "nbgrader": {
     "cell_type": "code",
     "checksum": "f7d539187718ca08be5bda06d1d6b307",
     "grade": false,
     "grade_id": "counter_mean",
     "locked": false,
     "schema_version": 3,
     "solution": true
    }
   },
   "outputs": [],
   "source": [
    "# Using Counter()\n",
    "from collections import Counter\n",
    "from collections import defaultdict\n",
    "from statistics import mean\n",
    "\n",
    "# define your dicts inside the function, so they can be re-used each time it is called.\n",
    "def mountain_ranges(filename):\n",
    "    mountains = reading_file(filename)\n",
    "    \n",
    "    ranges = []\n",
    "    heights = defaultdict(list)\n",
    "    \n",
    "    for mountain in mountains:\n",
    "        heights[mountain[2]].append(mountain[1])\n",
    "        ranges.append(mountain[2])\n",
    "    ranges = Counter(ranges)\n",
    "    print(\"The two top ranges are:\", ranges.most_common(2), \"\\n\")\n",
    "            \n",
    "    for range_name in heights:\n",
    "        print(f\"Average height of the mountains in {range_name}'s range: {mean(heights[range_name])}\")\n",
    "            \n",
    "    return heights"
   ]
  },
  {
   "cell_type": "code",
   "execution_count": 18,
   "metadata": {},
   "outputs": [
    {
     "name": "stdout",
     "output_type": "stream",
     "text": [
      "The two top ranges are: [('Himalayas', 10), ('Karakoram', 4)] \n",
      "\n",
      "Average height of the mountains in Himalayas's range: 8321\n",
      "Average height of the mountains in Karakoram's range: 8194.25\n"
     ]
    },
    {
     "data": {
      "text/plain": [
       "defaultdict(list,\n",
       "            {'Himalayas': [8848,\n",
       "              8586,\n",
       "              8516,\n",
       "              8485,\n",
       "              8201,\n",
       "              8167,\n",
       "              8163,\n",
       "              8126,\n",
       "              8091,\n",
       "              8027],\n",
       "             'Karakoram': [8611, 8080, 8051, 8035]})"
      ]
     },
     "execution_count": 18,
     "metadata": {},
     "output_type": "execute_result"
    }
   ],
   "source": [
    "mountain_ranges('data_files/mountains.csv')"
   ]
  },
  {
   "cell_type": "code",
   "execution_count": 19,
   "metadata": {},
   "outputs": [
    {
     "name": "stdout",
     "output_type": "stream",
     "text": [
      "The two top ranges are: [('Himalayas', 10), ('Karakoram', 4)] \n",
      "\n",
      "Average height of the mountains in Himalayas's range: 8321\n",
      "Average height of the mountains in Karakoram's range: 8194.25\n"
     ]
    },
    {
     "data": {
      "text/plain": [
       "defaultdict(list,\n",
       "            {'Himalayas': [8848,\n",
       "              8586,\n",
       "              8516,\n",
       "              8485,\n",
       "              8201,\n",
       "              8167,\n",
       "              8163,\n",
       "              8126,\n",
       "              8091,\n",
       "              8027],\n",
       "             'Karakoram': [8611, 8080, 8051, 8035]})"
      ]
     },
     "execution_count": 19,
     "metadata": {},
     "output_type": "execute_result"
    }
   ],
   "source": [
    "# Show your code working.  Points for the right messages with values.\n",
    "filepath = \"./data_files/mountains.csv\"\n",
    "mountain_ranges(\"data_files/mountains.csv\")"
   ]
  },
  {
   "cell_type": "code",
   "execution_count": 20,
   "metadata": {
    "deletable": false,
    "editable": false,
    "nbgrader": {
     "cell_type": "code",
     "checksum": "e15dedb08c7ba2a42f61702060fa2ada",
     "grade": true,
     "grade_id": "test_count_values",
     "locked": true,
     "points": 2,
     "schema_version": 3,
     "solution": false
    }
   },
   "outputs": [],
   "source": [
    "## Testing the output contains values we expect from the counts and means.\n",
    "\n",
    "import mock\n",
    "from io import StringIO\n",
    "import sys\n",
    "\n",
    "with mock.patch('sys.stdout', new_callable=StringIO):\n",
    "    mountain_ranges(\"data_files/mountains.csv\")\n",
    "    assert \"8321\" in sys.stdout.getvalue()\n",
    "    assert \"10\" in sys.stdout.getvalue()"
   ]
  },
  {
   "cell_type": "code",
   "execution_count": 21,
   "metadata": {
    "deletable": false,
    "editable": false,
    "nbgrader": {
     "cell_type": "code",
     "checksum": "23c02923423aa7678bfa7b02133c3f62",
     "grade": true,
     "grade_id": "test_heights_dict",
     "locked": true,
     "points": 2,
     "schema_version": 3,
     "solution": false
    }
   },
   "outputs": [
    {
     "name": "stdout",
     "output_type": "stream",
     "text": [
      "The two top ranges are: [('Himalayas', 10), ('Karakoram', 4)] \n",
      "\n",
      "Average height of the mountains in Himalayas's range: 8321\n",
      "Average height of the mountains in Karakoram's range: 8194.25\n"
     ]
    }
   ],
   "source": [
    "# Testing your output for the grade. Ignore this. Handgrading of the printed output.\n",
    "\n",
    "filepath = \"./data_files/mountains.csv\"\n",
    "result = mountain_ranges(filepath)\n",
    "assert result['Karakoram'] == [8611, 8080, 8051, 8035]"
   ]
  },
  {
   "cell_type": "code",
   "execution_count": 22,
   "metadata": {
    "deletable": false,
    "editable": false,
    "nbgrader": {
     "cell_type": "code",
     "checksum": "cc006b99febb72d307015a8019c9223a",
     "grade": true,
     "grade_id": "test_other_file",
     "locked": true,
     "points": 2,
     "schema_version": 3,
     "solution": false
    }
   },
   "outputs": [
    {
     "name": "stdout",
     "output_type": "stream",
     "text": [
      "The two top ranges are: [('Mahalangur Himalaya', 12), ('Baltoro Karakoram', 10)] \n",
      "\n",
      "Average height of the mountains in Mahalangur Himalaya's range: 7866.083333333333\n",
      "Average height of the mountains in Baltoro Karakoram's range: 7820\n",
      "Average height of the mountains in Kangchenjunga Himalaya's range: 7647.166666666667\n",
      "Average height of the mountains in Dhaulagiri Himalaya's range: 7585.142857142857\n",
      "Average height of the mountains in Manaslu Himalaya's range: 7975.666666666667\n",
      "Average height of the mountains in Nanga Parbat Himalaya's range: 8126\n",
      "Average height of the mountains in Annapurna Himalaya's range: 7651.4\n",
      "Average height of the mountains in Jugal Himalaya's range: 8027\n",
      "Average height of the mountains in Hispar Karakoram's range: 7513.9\n",
      "Average height of the mountains in Masherbrum Karakoram's range: 7520\n",
      "Average height of the mountains in Garhwal Himalaya's range: 7488.2\n",
      "Average height of the mountains in Batura Karakoram's range: 7567.5\n",
      "Average height of the mountains in Rakaposhi-Haramosh Karakoram's range: 7504\n",
      "Average height of the mountains in Assam Himalaya's range: 7538\n",
      "Average height of the mountains in Saltoro Karakoram's range: 7487.75\n",
      "Average height of the mountains in Hindu Kush's range: 7488\n",
      "Average height of the mountains in Langtang Himalaya's range: 7356.75\n",
      "Average height of the mountains in Nalakankar Himalaya's range: 7694\n",
      "Average height of the mountains in Saser Karakoram's range: 7560\n",
      "Average height of the mountains in Kongur Shan Kunlun's range: 7589.5\n",
      "Average height of the mountains in Kula Kangri Himalaya's range: 7443\n",
      "Average height of the mountains in Daxue Shan's range: 7556\n",
      "Average height of the mountains in Muztagata Kunlun's range: 7546\n",
      "Average height of the mountains in Rimo Karakoram's range: 7378\n",
      "Average height of the mountains in Pamir (Akademiya Nauk Range)'s range: 7495\n",
      "Average height of the mountains in Siachen Karakoram's range: 7342.6\n",
      "Average height of the mountains in Tian Shan's range: 7439\n",
      "Average height of the mountains in Ganesh Himalaya's range: 7422\n",
      "Average height of the mountains in Rakaposhi Karakoram's range: 7409\n",
      "Average height of the mountains in Labuche Himalaya's range: 7308.5\n",
      "Average height of the mountains in Jomolhari Himalaya's range: 7326\n",
      "Average height of the mountains in Yengisogat Karakoram's range: 7295\n",
      "Average height of the mountains in Panmah Karakoram's range: 7285\n",
      "Average height of the mountains in Baiku Himalaya's range: 7281\n",
      "Average height of the mountains in Lunana Himalaya's range: 7205.5\n",
      "Average height of the mountains in Nagarze Himalaya's range: 7206\n"
     ]
    },
    {
     "data": {
      "text/plain": [
       "defaultdict(list,\n",
       "            {'Mahalangur Himalaya': [8848,\n",
       "              8516,\n",
       "              8485,\n",
       "              8188,\n",
       "              7952,\n",
       "              7864,\n",
       "              7804,\n",
       "              7543,\n",
       "              7350,\n",
       "              7321,\n",
       "              7309,\n",
       "              7213],\n",
       "             'Baltoro Karakoram': [8611,\n",
       "              8080,\n",
       "              8051,\n",
       "              8034,\n",
       "              7946,\n",
       "              7932,\n",
       "              7545,\n",
       "              7410,\n",
       "              7315,\n",
       "              7276],\n",
       "             'Kangchenjunga Himalaya': [8586, 7711, 7462, 7412, 7362, 7350],\n",
       "             'Dhaulagiri Himalaya': [8167, 7751, 7661, 7618, 7385, 7268, 7246],\n",
       "             'Manaslu Himalaya': [8163, 7893, 7871],\n",
       "             'Nanga Parbat Himalaya': [8126],\n",
       "             'Annapurna Himalaya': [8091, 7937, 7555, 7455, 7219],\n",
       "             'Jugal Himalaya': [8027],\n",
       "             'Hispar Karakoram': [7884,\n",
       "              7823,\n",
       "              7790,\n",
       "              7577,\n",
       "              7492,\n",
       "              7469,\n",
       "              7414,\n",
       "              7283,\n",
       "              7207,\n",
       "              7200],\n",
       "             'Masherbrum Karakoram': [7821, 7665, 7312, 7282],\n",
       "             'Garhwal Himalaya': [7816, 7756, 7355, 7272, 7242],\n",
       "             'Batura Karakoram': [7795, 7611, 7476, 7388],\n",
       "             'Rakaposhi-Haramosh Karakoram': [7788, 7458, 7266],\n",
       "             'Assam Himalaya': [7782, 7294],\n",
       "             'Saltoro Karakoram': [7742, 7428, 7401, 7380],\n",
       "             'Hindu Kush': [7708, 7492, 7403, 7349],\n",
       "             'Langtang Himalaya': [7703, 7292, 7227, 7205],\n",
       "             'Nalakankar Himalaya': [7694],\n",
       "             'Saser Karakoram': [7672, 7513, 7495],\n",
       "             'Kongur Shan Kunlun': [7649, 7530],\n",
       "             'Kula Kangri Himalaya': [7570, 7538, 7221],\n",
       "             'Daxue Shan': [7556],\n",
       "             'Muztagata Kunlun': [7546],\n",
       "             'Rimo Karakoram': [7516, 7385, 7233],\n",
       "             'Pamir (Akademiya Nauk Range)': [7495],\n",
       "             'Siachen Karakoram': [7462, 7422, 7382, 7245, 7202],\n",
       "             'Tian Shan': [7439],\n",
       "             'Ganesh Himalaya': [7422],\n",
       "             'Rakaposhi Karakoram': [7409],\n",
       "             'Labuche Himalaya': [7367, 7250],\n",
       "             'Jomolhari Himalaya': [7326],\n",
       "             'Yengisogat Karakoram': [7295],\n",
       "             'Panmah Karakoram': [7285],\n",
       "             'Baiku Himalaya': [7281],\n",
       "             'Lunana Himalaya': [7207, 7204],\n",
       "             'Nagarze Himalaya': [7206]})"
      ]
     },
     "execution_count": 22,
     "metadata": {},
     "output_type": "execute_result"
    }
   ],
   "source": [
    "# Show your code works with the other file, highest_mountains too. \n",
    "# Fix the path!\n",
    "filepath = \"./data_files/highest_mountains.csv\"\n",
    "mountain_ranges(filepath)\n"
   ]
  },
  {
   "cell_type": "markdown",
   "metadata": {
    "deletable": false,
    "editable": false,
    "nbgrader": {
     "cell_type": "markdown",
     "checksum": "77bcc021af1638e4e8821eb8a90be6ae",
     "grade": false,
     "grade_id": "cell-1efddd3994d631b8",
     "locked": true,
     "schema_version": 3,
     "solution": false,
     "task": false
    }
   },
   "source": [
    "## Congratulations, now you are doing basic data science!"
   ]
  }
 ],
 "metadata": {
  "anaconda-cloud": {},
  "kernelspec": {
   "display_name": "Python 3 (ipykernel)",
   "language": "python",
   "name": "python3"
  },
  "language_info": {
   "codemirror_mode": {
    "name": "ipython",
    "version": 3
   },
   "file_extension": ".py",
   "mimetype": "text/x-python",
   "name": "python",
   "nbconvert_exporter": "python",
   "pygments_lexer": "ipython3",
   "version": "3.9.13"
  }
 },
 "nbformat": 4,
 "nbformat_minor": 1
}
